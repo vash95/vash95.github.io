{
 "cells": [
  {
   "cell_type": "markdown",
   "metadata": {},
   "source": [
    "# Review\n",
    "Hi, my name is Dmitry and I will be reviewing your project.\n",
    "\n",
    "You can find my comments in colored markdown cells:\n",
    "\n",
    "<div class=\"alert alert-success\">\n",
    "    If everything is done succesfully.\n",
    "</div>\n",
    "\n",
    "<div class=\"alert alert-warning\">\n",
    "    If I have some (optional) suggestions, or questions to think about, or general comments.\n",
    "</div>\n",
    "\n",
    "<div class=\"alert alert-danger\">\n",
    "    If a section requires some corrections. Work can't be accepted with red comments.\n",
    "</div>\n",
    "\n",
    "Please don't remove my comments, as it will make further review iterations much harder for me.\n",
    "\n",
    "Feel free to reply to my comments or ask questions using the following template:\n",
    "\n",
    "<div class=\"alert alert-info\">\n",
    "    For your comments and questions.\n",
    "</div>\n",
    "\n",
    "First of all, thank you for turning in the project! There are some problems that need to be fixed before the project can be accepted. But don't worry, you've got this!"
   ]
  },
  {
   "cell_type": "markdown",
   "metadata": {},
   "source": [
    "<div class=\"alert alert-success\">\n",
    "    <b>V4.</b>\n",
    "    Hi! Thanks for taking the time to improve the project! Now it's accepted. Good luck on the next sprint!\n",
    "</div>"
   ]
  },
  {
   "cell_type": "markdown",
   "metadata": {},
   "source": [
    "The Sure Tomorrow insurance company wants to protect its clients' data. Your task is to develop a data transforming algorithm that would make it hard to recover personal information from the transformed data. Prove that the algorithm works correctly\n",
    "\n",
    "The data should be protected in such a way that the quality of machine learning models doesn't suffer. You don't need to pick the best model."
   ]
  },
  {
   "cell_type": "markdown",
   "metadata": {},
   "source": [
    "## PROBLEMS\n",
    "## Why am getting a different R2 score when there is a transformation? That makes it all wrong. "
   ]
  },
  {
   "cell_type": "markdown",
   "metadata": {},
   "source": [
    "<div class=\"alert alert-warning\">\n",
    "    I added some pointers that I hope will help you work this out!\n",
    "</div>"
   ]
  },
  {
   "cell_type": "markdown",
   "metadata": {},
   "source": [
    "## 1. Data downloading"
   ]
  },
  {
   "cell_type": "code",
   "execution_count": 1,
   "metadata": {},
   "outputs": [
    {
     "name": "stdout",
     "output_type": "stream",
     "text": [
      "<class 'pandas.core.frame.DataFrame'>\n",
      "RangeIndex: 5000 entries, 0 to 4999\n",
      "Data columns (total 5 columns):\n",
      "Gender                5000 non-null int64\n",
      "Age                   5000 non-null float64\n",
      "Salary                5000 non-null float64\n",
      "Family members        5000 non-null int64\n",
      "Insurance benefits    5000 non-null int64\n",
      "dtypes: float64(2), int64(3)\n",
      "memory usage: 195.4 KB\n"
     ]
    }
   ],
   "source": [
    "import pandas as pd\n",
    "import numpy as np\n",
    "import matplotlib.pyplot as plt\n",
    "import seaborn as sns\n",
    "from sklearn.metrics import r2_score\n",
    "%matplotlib inline\n",
    "data= pd.read_csv('/datasets/insurance_us.csv')\n",
    "data.info()"
   ]
  },
  {
   "cell_type": "code",
   "execution_count": 2,
   "metadata": {},
   "outputs": [
    {
     "data": {
      "text/html": [
       "<div>\n",
       "<style scoped>\n",
       "    .dataframe tbody tr th:only-of-type {\n",
       "        vertical-align: middle;\n",
       "    }\n",
       "\n",
       "    .dataframe tbody tr th {\n",
       "        vertical-align: top;\n",
       "    }\n",
       "\n",
       "    .dataframe thead th {\n",
       "        text-align: right;\n",
       "    }\n",
       "</style>\n",
       "<table border=\"1\" class=\"dataframe\">\n",
       "  <thead>\n",
       "    <tr style=\"text-align: right;\">\n",
       "      <th></th>\n",
       "      <th>Gender</th>\n",
       "      <th>Age</th>\n",
       "      <th>Salary</th>\n",
       "      <th>Family members</th>\n",
       "      <th>Insurance benefits</th>\n",
       "    </tr>\n",
       "  </thead>\n",
       "  <tbody>\n",
       "    <tr>\n",
       "      <td>0</td>\n",
       "      <td>1</td>\n",
       "      <td>41.0</td>\n",
       "      <td>49600.0</td>\n",
       "      <td>1</td>\n",
       "      <td>0</td>\n",
       "    </tr>\n",
       "    <tr>\n",
       "      <td>1</td>\n",
       "      <td>0</td>\n",
       "      <td>46.0</td>\n",
       "      <td>38000.0</td>\n",
       "      <td>1</td>\n",
       "      <td>1</td>\n",
       "    </tr>\n",
       "    <tr>\n",
       "      <td>2</td>\n",
       "      <td>0</td>\n",
       "      <td>29.0</td>\n",
       "      <td>21000.0</td>\n",
       "      <td>0</td>\n",
       "      <td>0</td>\n",
       "    </tr>\n",
       "    <tr>\n",
       "      <td>3</td>\n",
       "      <td>0</td>\n",
       "      <td>21.0</td>\n",
       "      <td>41700.0</td>\n",
       "      <td>2</td>\n",
       "      <td>0</td>\n",
       "    </tr>\n",
       "    <tr>\n",
       "      <td>4</td>\n",
       "      <td>1</td>\n",
       "      <td>28.0</td>\n",
       "      <td>26100.0</td>\n",
       "      <td>0</td>\n",
       "      <td>0</td>\n",
       "    </tr>\n",
       "  </tbody>\n",
       "</table>\n",
       "</div>"
      ],
      "text/plain": [
       "   Gender   Age   Salary  Family members  Insurance benefits\n",
       "0       1  41.0  49600.0               1                   0\n",
       "1       0  46.0  38000.0               1                   1\n",
       "2       0  29.0  21000.0               0                   0\n",
       "3       0  21.0  41700.0               2                   0\n",
       "4       1  28.0  26100.0               0                   0"
      ]
     },
     "execution_count": 2,
     "metadata": {},
     "output_type": "execute_result"
    }
   ],
   "source": [
    "data.head()"
   ]
  },
  {
   "cell_type": "code",
   "execution_count": 3,
   "metadata": {},
   "outputs": [
    {
     "data": {
      "text/plain": [
       "Gender                0\n",
       "Age                   0\n",
       "Salary                0\n",
       "Family members        0\n",
       "Insurance benefits    0\n",
       "dtype: int64"
      ]
     },
     "execution_count": 3,
     "metadata": {},
     "output_type": "execute_result"
    }
   ],
   "source": [
    "data.isna().sum()"
   ]
  },
  {
   "cell_type": "code",
   "execution_count": 4,
   "metadata": {},
   "outputs": [
    {
     "data": {
      "text/plain": [
       "Insurance benefits    1.000000\n",
       "Age                   0.651030\n",
       "Family members        0.036290\n",
       "Salary                0.014963\n",
       "Gender                0.010140\n",
       "Name: Insurance benefits, dtype: float64"
      ]
     },
     "execution_count": 4,
     "metadata": {},
     "output_type": "execute_result"
    }
   ],
   "source": [
    "data.corr()[\"Insurance benefits\"].abs().sort_values(ascending=False)"
   ]
  },
  {
   "cell_type": "markdown",
   "metadata": {},
   "source": [
    "We ordered feature variables with respect to their absolute correlation coefficient with the target variable Insurance Benefits. The idea is to show that as correlation decreases, linear relationships worsen."
   ]
  },
  {
   "cell_type": "code",
   "execution_count": 5,
   "metadata": {},
   "outputs": [
    {
     "data": {
      "image/png": "[encoded data removed]",
      "text/plain": [
       "<Figure size 1440x864 with 4 Axes>"
      ]
     },
     "metadata": {
      "needs_background": "light"
     },
     "output_type": "display_data"
    }
   ],
   "source": [
    "ordered_columns_corr = data.corr()[\"Insurance benefits\"].abs().sort_values(ascending=False).index\n",
    "fig, axs = plt.subplots(ncols=2, nrows=2, figsize=(20, 12))\n",
    "axs = axs.flatten()\n",
    "\n",
    "index = 0\n",
    "for colname in ordered_columns_corr:\n",
    "    if colname != \"Insurance benefits\":\n",
    "        sns.scatterplot(ax=axs[index], x=colname, y=\"Insurance benefits\", data=data)\n",
    "        index += 1"
   ]
  },
  {
   "cell_type": "markdown",
   "metadata": {},
   "source": [
    "Taking a look at the graphs, we notice about of the positive correlation between ages and insurance benefits and it seems that got a strengh relation. The rest of features are not meaningfull and there are no good relation with the target variable"
   ]
  },
  {
   "cell_type": "markdown",
   "metadata": {},
   "source": [
    "## 2. Multiplication of matrices"
   ]
  },
  {
   "cell_type": "markdown",
   "metadata": {},
   "source": [
    "Denote:\n",
    "\n",
    "- $X$ — feature matrix (zero column consists of unities)\n",
    "\n",
    "- $y$ — target vector\n",
    "\n",
    "- $P$ — matrix by which the features are multiplied\n",
    "\n",
    "- $w$ — linear regression weight vector (zero element is equal to the shift)"
   ]
  },
  {
   "cell_type": "markdown",
   "metadata": {},
   "source": [
    "This equation is the regression equation. 𝛽₀, 𝛽₁, …, 𝛽ᵣ are the regression coefficients, and 𝜀 is the random error.Our regression is composed by 4 variables that made 5 parameters in total and our target variable is insurance benefits\n",
    "$$\n",
    "y = f(x)\n",
    "$$\n",
    "\n",
    "$$\n",
    "y = \t\\beta_{0} + (\\beta_{1} X_{1}) + (\\beta_{2} X_{2}) + (\\beta_{3} X_{3}) + (\\beta_{3} X_{4})\n",
    "$$"
   ]
  },
  {
   "cell_type": "markdown",
   "metadata": {},
   "source": [
    "Linear regression calculates the estimators of the regression coefficients or simply the predicted weights, denoted with 𝑏₀, 𝑏₁, …, 𝑏ᵣ.Where X is the input data and each column is a data feature, b is a vector of coefficients and y is a vector of output variables for each row in X. Here we got 4 columns (features) and many rows as observations are"
   ]
  },
  {
   "cell_type": "markdown",
   "metadata": {},
   "source": [
    "$$\n",
    "\\begin{equation*}\n",
    "X_{m,n} = \n",
    "\\begin{pmatrix}\n",
    "x_{1,1} & x_{1,2}   & x_{1,3} & x_{1,4} \\\\\n",
    "x_{2,1} & x_{2,2}   & x_{2,3} & x_{1,4}\\\\\n",
    "\\vdots  & \\vdots    & \\vdots  & \\vdots \\\\\n",
    "x_{m,1} & x_{m,2}   & x_{m,3}  & x_{m,4}\n",
    "\\end{pmatrix}\n",
    "\\end{equation*}\n",
    "$$\n",
    "\n",
    "Weight\n",
    "\\begin{equation}\n",
    "w_{1,n}\n",
    "   \\begin{pmatrix} \n",
    "   w_{11} \\\\\n",
    "   w_{12} \\\\\n",
    "   w_{13} \\\\\n",
    "   w_{14} \\\\\n",
    "   \\end{pmatrix} \n",
    "\\end{equation}\n",
    "Target\n",
    "\\begin{equation}\n",
    "y_{1,n}\n",
    "   \\begin{pmatrix} \n",
    "   y_{11} \\\\\n",
    "   y_{12} \\\\\n",
    "   y_{13} \\\\\n",
    "   y_{14} \\\\\n",
    "   \\end{pmatrix} \n",
    "\\end{equation}\n"
   ]
  },
  {
   "cell_type": "markdown",
   "metadata": {},
   "source": [
    "Basing ourselves in basic equiations and rules of Linear algebra with matrix $$ AE= EA= A$$$$ AA^{-1} = A^{-1}A $$ $$ (AB)^{-1}= A^{-1}B^{-1}$$"
   ]
  },
  {
   "cell_type": "markdown",
   "metadata": {},
   "source": [
    "Concerning to our linear regression expression $$ a= Xw$$ $$ w= (X^{T}X)^{-1}X^{T}y$$"
   ]
  },
  {
   "cell_type": "markdown",
   "metadata": {},
   "source": [
    "<div class=\"alert alert-danger\">\n",
    "    <s>The last equation can only hold if $X$ is the identity matrix. Suppose we multiply the feature matrix $X$ by an invertible matrix $P$. That is, $$X' = XP.$$\n",
    "    We would like to find out how the new weights $w'$ are related to the old weights $w$. To do that, you need to substitute the expression for $X'$ into the training formula and simplify it using matrix multiplication rules. Remember that:\n",
    "    <ol><li>Matrix multiplication is not commutative: $AB \\neq BA$ in general, so you can't freely rearrange the multiplication terms.\n",
    "        <li>$(AB)^T = B^T A^T$\n",
    "        <li>$(AB)^{-1} = B^{-1} A^{-1}$\n",
    "</div>"
   ]
  },
  {
   "cell_type": "markdown",
   "metadata": {},
   "source": [
    "## 3. Transformation algorithm"
   ]
  },
  {
   "cell_type": "markdown",
   "metadata": {},
   "source": [
    "We got matrix $X$ multiply by an invertible matrix $P$.What we want to obtain is the new weights $w'$"
   ]
  },
  {
   "cell_type": "markdown",
   "metadata": {},
   "source": [
    "$$X'= XP $$ $$w'= (XP^{T}XP)^{-1}XP^{T}y$$ \n",
    "$$w'=(X^{T}P^{T}XP)^{-1}X^{T}P^{T}y$$\n",
    "$$w'=(X^{T}XP)^{-1}X^{T}P^{T-1}Py$$\n",
    "$$w'=(X^{T}XP)^{-1}X^{T}P^{-1}y$$\n",
    "$$w'=(X^{T}X)^{-1}X^{T}P^{-1}y$$\n",
    "$$w'=P^{-1}w$$ "
   ]
  },
  {
   "cell_type": "markdown",
   "metadata": {},
   "source": [
    "We need to refer it to our case $X'$ and $w'$ and reflect it on our formulas and expressions. $$a'= X'w = XPw'= a$$ "
   ]
  },
  {
   "cell_type": "markdown",
   "metadata": {},
   "source": [
    "As a final result, we want to be sure that the quality of the model would be the same. Our target is minimize the MSE score and both paths are good to get it "
   ]
  },
  {
   "cell_type": "markdown",
   "metadata": {},
   "source": [
    "<div class=\"alert alert-danger\">\n",
    "    <s>You are supposed to describe and justify the algorithm for feature obfuscation, not the algorithm for finding the weights of a linear regression.\n",
    "</div>"
   ]
  },
  {
   "cell_type": "markdown",
   "metadata": {},
   "source": [
    "<div class=\"alert alert-success\">\n",
    "    <b>V2.</b>\n",
    "    The proof is correct!\n",
    "</div>"
   ]
  },
  {
   "cell_type": "markdown",
   "metadata": {},
   "source": [
    "## 4. Algorithm test"
   ]
  },
  {
   "cell_type": "code",
   "execution_count": 6,
   "metadata": {},
   "outputs": [],
   "source": [
    "from sklearn.model_selection import train_test_split \n",
    "from sklearn.linear_model import LinearRegression"
   ]
  },
  {
   "cell_type": "markdown",
   "metadata": {},
   "source": [
    "First, we split the data in train and test parts"
   ]
  },
  {
   "cell_type": "code",
   "execution_count": 7,
   "metadata": {},
   "outputs": [],
   "source": [
    "features = data.drop('Insurance benefits', axis=1)\n",
    "target = data['Insurance benefits']"
   ]
  },
  {
   "cell_type": "code",
   "execution_count": 8,
   "metadata": {},
   "outputs": [],
   "source": [
    "x_train, x_test, y_train, y_test = train_test_split(features, target, test_size=0.2, random_state=12345)"
   ]
  },
  {
   "cell_type": "markdown",
   "metadata": {},
   "source": [
    "Original Features"
   ]
  },
  {
   "cell_type": "code",
   "execution_count": 9,
   "metadata": {},
   "outputs": [
    {
     "name": "stdout",
     "output_type": "stream",
     "text": [
      "0.4117683956770434\n"
     ]
    }
   ],
   "source": [
    "model = LinearRegression()\n",
    "model.fit(x_train, y_train)\n",
    "predictions = model.predict(x_test)\n",
    "print(r2_score(y_test, predictions))"
   ]
  },
  {
   "cell_type": "markdown",
   "metadata": {},
   "source": [
    "features obfuscation"
   ]
  },
  {
   "cell_type": "markdown",
   "metadata": {},
   "source": [
    "We need guarantees if our marix P is invertible"
   ]
  },
  {
   "cell_type": "code",
   "execution_count": 81,
   "metadata": {},
   "outputs": [],
   "source": [
    "P= np.random.normal(0,1,size=(x_train.shape[1], x_train.shape[1]))\n",
    "try:\n",
    "    inv_P=np.linalg.inv(P)\n",
    "\n",
    "except  np.linalg.LinAlgError:\n",
    "    print('the matrix P is not invertible')"
   ]
  },
  {
   "cell_type": "markdown",
   "metadata": {},
   "source": [
    "Adapt our features to our matrix P which has a dimension 4X4"
   ]
  },
  {
   "cell_type": "code",
   "execution_count": 90,
   "metadata": {},
   "outputs": [],
   "source": [
    "x_train_inv= x_train.dot(P)\n",
    "x_test_inv= x_test.dot(P)"
   ]
  },
  {
   "cell_type": "code",
   "execution_count": 91,
   "metadata": {},
   "outputs": [
    {
     "name": "stdout",
     "output_type": "stream",
     "text": [
      "0.41176839567707124\n"
     ]
    }
   ],
   "source": [
    "model = LinearRegression()\n",
    "model.fit(x_train_inv, y_train)\n",
    "predictions = model.predict(x_test_inv)\n",
    "print(r2_score(y_test, predictions))"
   ]
  },
  {
   "cell_type": "markdown",
   "metadata": {},
   "source": [
    "Finally get in both same qualit results, as we demostrate through the algorithms. so our results must be no be affected by these changes on the features "
   ]
  },
  {
   "cell_type": "markdown",
   "metadata": {},
   "source": [
    "<div class=\"alert alert-danger\">\n",
    "    <s>You are supposed to test the algorithm for feature obfuscation: first train a linear regression on original features and evaluate it, then obfuscate the features and train a linear regression on obfuscated features. Then compare the scores. Remember that you need a test set to evaluate a model.\n",
    "</div>"
   ]
  },
  {
   "cell_type": "markdown",
   "metadata": {},
   "source": [
    "<div class=\"alert alert-danger\">\n",
    "    <s><b>V2.</b>\n",
    "    Looks like there's an error in your linear regression class. You don't have to write a class for linear regression, just use the one from scikit-learn. As you proved above, the predictions will be the same for a model trained on original features and the model trained on features multiplied by an invertible matrix. Don't forget to split the data into train and test!\n",
    "</div>"
   ]
  },
  {
   "cell_type": "markdown",
   "metadata": {},
   "source": [
    "<div class=\"alert alert-danger\">\n",
    "    <s><b>V3.</b>\n",
    "    <ol><li>The $R^2$ are different, because there are some unneeeded multiplications. A matrix $X$ of a shape $m \\times n$ can be multiplied by a matrix $P$ of shape $n \\times p$, the dimensions of the product $XP$ are then $m \\times p$. We'd like the $XP$ to have the same shape as $X$, so $P$ has to be of shape $n \\times n$. You don't need to multiply the feature matrix by transpose or anything, that is done by the linear regression under the hood. The only thing you need to do is multiply $X$ by $P$.\n",
    "    <li>You need to use x_train multiplied by P for training, and then make predictions on x_test multiplied by P and calculate the r2_score of predictions and y_test.\n",
    "</div>"
   ]
  },
  {
   "cell_type": "markdown",
   "metadata": {},
   "source": [
    "<div class=\"alert alert-success\">\n",
    "    <b>V4.</b>\n",
    "    Great, now the expriment is correct\n",
    "</div>"
   ]
  },
  {
   "cell_type": "markdown",
   "metadata": {},
   "source": [
    "## Checklist"
   ]
  },
  {
   "cell_type": "markdown",
   "metadata": {},
   "source": [
    "Type 'x' to check. Then press Shift+Enter."
   ]
  },
  {
   "cell_type": "markdown",
   "metadata": {},
   "source": [
    "- [x]  Jupyter Notebook is open\n",
    "- [ ]  Code is error free\n",
    "- [ ]  The cells with the code have been arranged in order of execution\n",
    "- [ ]  Step 1 performed: the data was downloaded\n",
    "- [ ]  Step 2 performed: the answer to the matrix multiplication problem was provided\n",
    "    - [ ]  The correct answer was chosen\n",
    "    - [ ]  The choice was justified\n",
    "- [ ]  Step 3 performed: the transform algorithm was proposed\n",
    "    - [ ]  The algorithm was described\n",
    "    - [ ]  The algorithm was justified\n",
    "- [ ]  Step 4 performed: the algorithm was tested\n",
    "    - [ ]  The algorithm was realized\n",
    "    - [ ]  Model quality was assessed before and after the transformation"
   ]
  }
 ],
 "metadata": {
  "kernelspec": {
   "display_name": "Python 3",
   "language": "python",
   "name": "python3"
  },
  "language_info": {
   "codemirror_mode": {
    "name": "ipython",
    "version": 3
   },
   "file_extension": ".py",
   "mimetype": "text/x-python",
   "name": "python",
   "nbconvert_exporter": "python",
   "pygments_lexer": "ipython3",
   "version": "3.7.1"
  },
  "toc": {
   "base_numbering": 1,
   "nav_menu": {},
   "number_sections": true,
   "sideBar": true,
   "skip_h1_title": false,
   "title_cell": "Table of Contents",
   "title_sidebar": "Contents",
   "toc_cell": false,
   "toc_position": {},
   "toc_section_display": true,
   "toc_window_display": false
  }
 },
 "nbformat": 4,
 "nbformat_minor": 2
}

{
 "cells": [
  {
   "cell_type": "markdown",
   "metadata": {},
   "source": [
    "# Review\n",
    "Hi, my name is Dmitry and I will be reviewing your project.\n",
    "\n",
    "You can find my comments in colored markdown cells:\n",
    "\n",
    "<div class=\"alert alert-success\">\n",
    "    If everything is done succesfully.\n",
    "</div>\n",
    "\n",
    "<div class=\"alert alert-warning\">\n",
    "    If I have some (optional) suggestions, or questions to think about, or general comments.\n",
    "</div>\n",
    "\n",
    "<div class=\"alert alert-danger\">\n",
    "    If a section requires some corrections. Work can't be accepted with red comments.\n",
    "</div>\n",
    "\n",
    "First of all, thank you for turning in the project! Unfortunately it is really difficult to make out what you're doing because while you use the provided template, the headings don't match the code at all. Please make the code conform to the step descriptions. Discussing the project through this medium would be very ineffective. If you have any questions, please don't hesitate to contact your tutor!"
   ]
  },
  {
   "cell_type": "markdown",
   "metadata": {},
   "source": [
    "### Hi,I have being in many troubles while i was completing this project"
   ]
  },
  {
   "cell_type": "markdown",
   "metadata": {},
   "source": [
    "## Questions:\n",
    "## I made changes but i still getting no losses on the risk evaluation "
   ]
  },
  {
   "cell_type": "markdown",
   "metadata": {},
   "source": [
    "<div class=\"alert alert-danger\">\n",
    "    Hi! Don't be discouraged! Making mistakes is natural when learning! If you need help, please contact your tutor! Unfortunately, it's not very effective to communicate using jupyter notebooks :)\n",
    "</div>"
   ]
  },
  {
   "cell_type": "markdown",
   "metadata": {},
   "source": [
    "<div class=\"alert alert-warning\">\n",
    "    Hi! I contacted the community manager, I hope they'll get you in touch with a tutor to help you with this project\n",
    "</div>"
   ]
  },
  {
   "cell_type": "markdown",
   "metadata": {},
   "source": [
    "<div class=\"alert alert-danger\">\n",
    "    Hi! I looked through the code again, and left some new comments! If you fix those problems I mentioned, you should get the correct results. Then you also need to revise the conclusions! Good luck!\n",
    "</div>"
   ]
  },
  {
   "cell_type": "markdown",
   "metadata": {},
   "source": [
    "<div class=\"alert alert-success\">\n",
    "    The project is accepted now! Congratulations!\n",
    "</div>"
   ]
  },
  {
   "cell_type": "markdown",
   "metadata": {},
   "source": [
    "# Project OilyGiant"
   ]
  },
  {
   "cell_type": "markdown",
   "metadata": {},
   "source": [
    "Our main task is to find the best place for a new well. In other words, we should:\n",
    "- **pick the oil wells with the highest values**\n",
    "- **pick thre regions with the highest totalm profit for the selected oil wells**"
   ]
  },
  {
   "cell_type": "markdown",
   "metadata": {},
   "source": [
    "## Step 1. Download and prepare the data. Explain the procedure."
   ]
  },
  {
   "cell_type": "markdown",
   "metadata": {},
   "source": [
    "We got geological information from three regions "
   ]
  },
  {
   "cell_type": "code",
   "execution_count": 32,
   "metadata": {},
   "outputs": [],
   "source": [
    "import pandas as pd\n",
    "g1= pd.read_csv('/datasets/geo_data_0.csv')\n",
    "g2= pd.read_csv('/datasets/geo_data_1.csv')\n",
    "g3= pd.read_csv('/datasets/geo_data_2.csv')"
   ]
  },
  {
   "cell_type": "code",
   "execution_count": 33,
   "metadata": {},
   "outputs": [
    {
     "name": "stdout",
     "output_type": "stream",
     "text": [
      "<class 'pandas.core.frame.DataFrame'>\n",
      "RangeIndex: 100000 entries, 0 to 99999\n",
      "Data columns (total 5 columns):\n",
      "id         100000 non-null object\n",
      "f0         100000 non-null float64\n",
      "f1         100000 non-null float64\n",
      "f2         100000 non-null float64\n",
      "product    100000 non-null float64\n",
      "dtypes: float64(4), object(1)\n",
      "memory usage: 3.8+ MB\n"
     ]
    }
   ],
   "source": [
    "g1.info()"
   ]
  },
  {
   "cell_type": "code",
   "execution_count": 34,
   "metadata": {},
   "outputs": [
    {
     "name": "stdout",
     "output_type": "stream",
     "text": [
      "<class 'pandas.core.frame.DataFrame'>\n",
      "RangeIndex: 100000 entries, 0 to 99999\n",
      "Data columns (total 5 columns):\n",
      "id         100000 non-null object\n",
      "f0         100000 non-null float64\n",
      "f1         100000 non-null float64\n",
      "f2         100000 non-null float64\n",
      "product    100000 non-null float64\n",
      "dtypes: float64(4), object(1)\n",
      "memory usage: 3.8+ MB\n"
     ]
    }
   ],
   "source": [
    "g2.info()"
   ]
  },
  {
   "cell_type": "code",
   "execution_count": 35,
   "metadata": {},
   "outputs": [
    {
     "name": "stdout",
     "output_type": "stream",
     "text": [
      "<class 'pandas.core.frame.DataFrame'>\n",
      "RangeIndex: 100000 entries, 0 to 99999\n",
      "Data columns (total 5 columns):\n",
      "id         100000 non-null object\n",
      "f0         100000 non-null float64\n",
      "f1         100000 non-null float64\n",
      "f2         100000 non-null float64\n",
      "product    100000 non-null float64\n",
      "dtypes: float64(4), object(1)\n",
      "memory usage: 3.8+ MB\n"
     ]
    }
   ],
   "source": [
    "g3.info()"
   ]
  },
  {
   "cell_type": "code",
   "execution_count": 36,
   "metadata": {},
   "outputs": [
    {
     "data": {
      "text/html": [
       "<div>\n",
       "<style scoped>\n",
       "    .dataframe tbody tr th:only-of-type {\n",
       "        vertical-align: middle;\n",
       "    }\n",
       "\n",
       "    .dataframe tbody tr th {\n",
       "        vertical-align: top;\n",
       "    }\n",
       "\n",
       "    .dataframe thead th {\n",
       "        text-align: right;\n",
       "    }\n",
       "</style>\n",
       "<table border=\"1\" class=\"dataframe\">\n",
       "  <thead>\n",
       "    <tr style=\"text-align: right;\">\n",
       "      <th></th>\n",
       "      <th>f0</th>\n",
       "      <th>f1</th>\n",
       "      <th>f2</th>\n",
       "      <th>product</th>\n",
       "    </tr>\n",
       "  </thead>\n",
       "  <tbody>\n",
       "    <tr>\n",
       "      <td>f0</td>\n",
       "      <td>1.000000</td>\n",
       "      <td>-0.440723</td>\n",
       "      <td>-0.003153</td>\n",
       "      <td>0.143536</td>\n",
       "    </tr>\n",
       "    <tr>\n",
       "      <td>f1</td>\n",
       "      <td>-0.440723</td>\n",
       "      <td>1.000000</td>\n",
       "      <td>0.001724</td>\n",
       "      <td>-0.192356</td>\n",
       "    </tr>\n",
       "    <tr>\n",
       "      <td>f2</td>\n",
       "      <td>-0.003153</td>\n",
       "      <td>0.001724</td>\n",
       "      <td>1.000000</td>\n",
       "      <td>0.483663</td>\n",
       "    </tr>\n",
       "    <tr>\n",
       "      <td>product</td>\n",
       "      <td>0.143536</td>\n",
       "      <td>-0.192356</td>\n",
       "      <td>0.483663</td>\n",
       "      <td>1.000000</td>\n",
       "    </tr>\n",
       "  </tbody>\n",
       "</table>\n",
       "</div>"
      ],
      "text/plain": [
       "               f0        f1        f2   product\n",
       "f0       1.000000 -0.440723 -0.003153  0.143536\n",
       "f1      -0.440723  1.000000  0.001724 -0.192356\n",
       "f2      -0.003153  0.001724  1.000000  0.483663\n",
       "product  0.143536 -0.192356  0.483663  1.000000"
      ]
     },
     "execution_count": 36,
     "metadata": {},
     "output_type": "execute_result"
    }
   ],
   "source": [
    "g1.corr()"
   ]
  },
  {
   "cell_type": "markdown",
   "metadata": {},
   "source": [
    "Let's prepare the data adequately. Recall that column 'id' contains unique values and take into account thata we have continuous variables. An ordinal encoding involves mapping each unique label to an integer value. It will help to Standarize the data. "
   ]
  },
  {
   "cell_type": "code",
   "execution_count": 37,
   "metadata": {},
   "outputs": [],
   "source": [
    "from sklearn.model_selection import train_test_split"
   ]
  },
  {
   "cell_type": "code",
   "execution_count": 38,
   "metadata": {},
   "outputs": [],
   "source": [
    "target_1 = g1['product']\n",
    "features_1 = g1.drop(['id','product'] , axis=1)"
   ]
  },
  {
   "cell_type": "code",
   "execution_count": 39,
   "metadata": {},
   "outputs": [],
   "source": [
    "target_2 = g2['product']\n",
    "features_2 = g2.drop(['id','product'] , axis=1)"
   ]
  },
  {
   "cell_type": "code",
   "execution_count": 40,
   "metadata": {},
   "outputs": [],
   "source": [
    "target_3 = g3['product']\n",
    "features_3 = g3.drop(['id','product'] , axis=1)"
   ]
  },
  {
   "cell_type": "markdown",
   "metadata": {},
   "source": [
    "<div class=\"alert alert-success\">\n",
    "    It's great that you removed the 'id' column from the features\n",
    "</div>"
   ]
  },
  {
   "cell_type": "markdown",
   "metadata": {},
   "source": [
    "<div class=\"alert alert-danger\">\n",
    "    <s>OrdinalEncoder is used to encode categorical features. The point is to convert strings or other datatypes to a numerical format suitable for modelling. You really really shouldn't encode floating point columns with it: they are already in a usable format, and encoding them only distorts the data.</s>\n",
    "</div>"
   ]
  },
  {
   "cell_type": "markdown",
   "metadata": {},
   "source": [
    "## Step 2. Train and test the model for each region:"
   ]
  },
  {
   "cell_type": "markdown",
   "metadata": {},
   "source": [
    "Time to modeling data and we expect to predict the volume of reserves. According to the condiitons, we will use the Linear Regression model"
   ]
  },
  {
   "cell_type": "code",
   "execution_count": 41,
   "metadata": {},
   "outputs": [],
   "source": [
    "from sklearn.model_selection import train_test_split\n",
    "from sklearn.metrics import mean_squared_error\n",
    "from sklearn.metrics import mean_absolute_error\n",
    "from sklearn.metrics import r2_score\n",
    "from sklearn.linear_model import LinearRegression\n",
    "import matplotlib.pyplot as plt "
   ]
  },
  {
   "cell_type": "markdown",
   "metadata": {},
   "source": [
    "### 2.1. Split the data into a training set and validation set at a ratio of 75:25."
   ]
  },
  {
   "cell_type": "markdown",
   "metadata": {},
   "source": [
    "Data is divided in validation (25%), test (25%) and training (75%) data. This allows us to tune in the hyperparameters and select the best paraemters for the test model. Then, after choosing the best hyperparamethers , we have to test our model and we divide again into train and test parts"
   ]
  },
  {
   "cell_type": "code",
   "execution_count": 42,
   "metadata": {},
   "outputs": [],
   "source": [
    "features_train_1, features_valid_1, target_train_1, target_valid_1 = train_test_split(features_1, target_1, test_size=0.25, random_state=12345)\n",
    "features_train_1, features_test_1, target_train_1, target_test_1 = train_test_split(features_train_1, target_train_1, test_size=0.25, random_state=12345)\n",
    "\n",
    "features_train_2, features_valid_2, target_train_2, target_valid_2 = train_test_split(features_2, target_2, test_size=0.25, random_state=12345)\n",
    "features_train_2, features_test_2, target_train_2, target_test_2 = train_test_split(features_train_2, target_train_2, test_size=0.25, random_state=12345)\n",
    "\n",
    "features_train_3, features_valid_3, target_train_3, target_valid_3 = train_test_split(features_3, target_3, test_size=0.25, random_state=12345)\n",
    "features_train_3, features_test_3, target_train_3, target_test_3 = train_test_split(features_train_3, target_train_3, test_size=0.25, random_state=12345)"
   ]
  },
  {
   "cell_type": "markdown",
   "metadata": {},
   "source": [
    "### 2.2. Train the model and make predictions for the validation set."
   ]
  },
  {
   "cell_type": "markdown",
   "metadata": {},
   "source": [
    "We check how is the accuracy of the model and how the prediction is made."
   ]
  },
  {
   "cell_type": "code",
   "execution_count": 43,
   "metadata": {},
   "outputs": [],
   "source": [
    "model1 = LinearRegression()\n",
    "model1.fit(features_train_1, target_train_1)\n",
    "predicted_valid_1 = model1.predict(features_valid_1)\n",
    "\n",
    "model2 = LinearRegression()\n",
    "model2.fit(features_train_2, target_train_2)\n",
    "predicted_valid_2 = model2.predict(features_valid_2)\n",
    "\n",
    "model3 = LinearRegression()\n",
    "model3.fit(features_train_3, target_train_3)\n",
    "predicted_valid_3 = model3.predict(features_valid_3)\n"
   ]
  },
  {
   "cell_type": "markdown",
   "metadata": {},
   "source": [
    "### 2.3. Save the predictions and correct answers for the validation set."
   ]
  },
  {
   "cell_type": "markdown",
   "metadata": {},
   "source": [
    "It means finding the combination of hyperparameter values for a machine learning model that performs the best - as measured on a validation dataset - for a problem."
   ]
  },
  {
   "cell_type": "code",
   "execution_count": 44,
   "metadata": {},
   "outputs": [
    {
     "data": {
      "text/plain": [
       "{'copy_X': True, 'fit_intercept': True, 'n_jobs': None, 'normalize': False}"
      ]
     },
     "execution_count": 44,
     "metadata": {},
     "output_type": "execute_result"
    }
   ],
   "source": [
    "model1.get_params()\n"
   ]
  },
  {
   "cell_type": "markdown",
   "metadata": {},
   "source": [
    "First, we copy data to avoid overitten, the fit intercept must be centered and set true. We also want to speed up the number of jobs used by the computer (>1) and finally it is not necesssary to normalizeit."
   ]
  },
  {
   "cell_type": "markdown",
   "metadata": {},
   "source": [
    "This change it doesn't bring us anything new, so there is no improvement"
   ]
  },
  {
   "cell_type": "markdown",
   "metadata": {},
   "source": [
    "### 2.4. Print the average volume of predicted reserves and model RMSE."
   ]
  },
  {
   "cell_type": "code",
   "execution_count": 45,
   "metadata": {},
   "outputs": [],
   "source": [
    "from sklearn.metrics import mean_squared_error"
   ]
  },
  {
   "cell_type": "markdown",
   "metadata": {},
   "source": [
    "Time to set on the parameters on the test set and explore the results"
   ]
  },
  {
   "cell_type": "code",
   "execution_count": 61,
   "metadata": {},
   "outputs": [],
   "source": [
    "model1 = LinearRegression()\n",
    "model1.fit(features_train_1, target_train_1)\n",
    "predicted_test_1 = model1.predict(features_test_1)\n",
    "model2 = LinearRegression()\n",
    "model2.fit(features_train_2, target_train_2)\n",
    "predicted_test_2 = model2.predict(features_test_2)\n",
    "model3 = LinearRegression()\n",
    "model3.fit(features_train_3, target_train_3)\n",
    "predicted_test_3 = model3.predict(features_test_3)\n"
   ]
  },
  {
   "cell_type": "markdown",
   "metadata": {},
   "source": [
    "One of the metrics it is the score metric"
   ]
  },
  {
   "cell_type": "markdown",
   "metadata": {},
   "source": [
    "**Score:** Return the coefficient of determination R^2 of the prediction.\n",
    "The coefficient R^2 is defined as (1 - u/v), where u is the residual sum of squares ((y_true - y_pred) ** 2).sum() and v is the total sum of squares ((y_true - y_true.mean()) ** 2).sum()"
   ]
  },
  {
   "cell_type": "code",
   "execution_count": 47,
   "metadata": {},
   "outputs": [
    {
     "name": "stdout",
     "output_type": "stream",
     "text": [
      "Score model region 1: 0.2799748580085534\n",
      "Score model region 2: 0.9996233629918202\n",
      "Score model region 3: 0.20524513927244104\n"
     ]
    }
   ],
   "source": [
    "score1= model1.score(features_valid_1, target_valid_1)\n",
    "print('Score model region 1:',score1)\n",
    "score2= model2.score(features_valid_2, target_valid_2)\n",
    "print('Score model region 2:',score2)\n",
    "score3= model3.score(features_valid_3, target_valid_3)\n",
    "print('Score model region 3:',score3)"
   ]
  },
  {
   "cell_type": "markdown",
   "metadata": {},
   "source": [
    "There is many suitable metrics for regression task. First we check the quality of the model and compare with the average of predicted values"
   ]
  },
  {
   "cell_type": "markdown",
   "metadata": {},
   "source": [
    "First, the average of the predicted volume by using the metrics MSE and RMSE"
   ]
  },
  {
   "cell_type": "code",
   "execution_count": 48,
   "metadata": {},
   "outputs": [
    {
     "name": "stdout",
     "output_type": "stream",
     "text": [
      "MSE1= 1420.0765401742128\n",
      "RMSE1 = 37.68390293181179\n",
      "MSE2= 0.7925576461953431\n",
      "RMSE2 = 0.8902570674784577\n",
      "MSE3= 1584.5827895676182\n",
      "RMSE3 = 39.806818380368185\n"
     ]
    }
   ],
   "source": [
    "mse_1 = mean_squared_error(target_test_1, predicted_test_1)\n",
    "mse_2 = mean_squared_error(target_test_2, predicted_test_2)\n",
    "mse_3 = mean_squared_error(target_test_3, predicted_test_3)\n",
    "print(\"MSE1=\", mse_1)\n",
    "print(\"RMSE1 =\", mse_1 ** 0.5)\n",
    "print(\"MSE2=\", mse_2)\n",
    "print(\"RMSE2 =\", mse_2 ** 0.5)\n",
    "print(\"MSE3=\", mse_3)\n",
    "print(\"RMSE3 =\", mse_3 ** 0.5)\n"
   ]
  },
  {
   "cell_type": "markdown",
   "metadata": {},
   "source": [
    "Second, with the average of the target volume of reserves"
   ]
  },
  {
   "cell_type": "markdown",
   "metadata": {},
   "source": [
    "MSE values for the constant model"
   ]
  },
  {
   "cell_type": "code",
   "execution_count": 49,
   "metadata": {
    "scrolled": true
   },
   "outputs": [
    {
     "name": "stdout",
     "output_type": "stream",
     "text": [
      "MSEcte= 1964.2191517074255\n",
      "RMSE = 44.31951208787643\n",
      "MSEcte= 0.7925576461953431\n",
      "RMSE = 0.8902570674784577\n",
      "MSEcte= 1974.7016209449562\n",
      "RMSE = 44.437614933127946\n"
     ]
    }
   ],
   "source": [
    "predicted_test_1 = pd.Series(target_train_1.mean(), index=target_test_1.index)\n",
    "mse_1n = mean_squared_error(target_test_1, predicted_test_1)\n",
    "print(\"MSEcte=\", mse_1n)\n",
    "print(\"RMSE =\", mse_1n ** 0.5)\n",
    "predicted_test = pd.Series(target_train_2.mean(), index=target_test_2.index)\n",
    "mse_2n = mean_squared_error(target_test_2, predicted_test_2)\n",
    "print(\"MSEcte=\", mse_2n)\n",
    "print(\"RMSE =\", mse_2n ** 0.5)\n",
    "predicted_test_3 = pd.Series(target_train_3.mean(), index=target_test_3.index)\n",
    "mse_3n = mean_squared_error(target_test_3, predicted_test_3)\n",
    "print(\"MSEcte=\", mse_3n)\n",
    "print(\"RMSE =\", mse_3n ** 0.5)"
   ]
  },
  {
   "cell_type": "markdown",
   "metadata": {},
   "source": [
    "Compare with the constant and obtain the model's error"
   ]
  },
  {
   "cell_type": "code",
   "execution_count": 50,
   "metadata": {
    "scrolled": true
   },
   "outputs": [
    {
     "name": "stdout",
     "output_type": "stream",
     "text": [
      "Difference RMSE model 1:  6.635609156064646\n",
      "Difference RMSE model 2:  0.0\n",
      "Difference RMSE model 3:  4.630796552759762\n"
     ]
    }
   ],
   "source": [
    "df_1= abs(mse_1n ** 0.5-mse_1 ** 0.5)\n",
    "df_2= abs(mse_2n ** 0.5-mse_2 ** 0.5)\n",
    "df_3= abs(mse_3n ** 0.5-mse_3 ** 0.5)\n",
    "print('Difference RMSE model 1: ',df_1)\n",
    "print('Difference RMSE model 2: ',df_2)\n",
    "print('Difference RMSE model 3: ',df_3)\n"
   ]
  },
  {
   "cell_type": "markdown",
   "metadata": {},
   "source": [
    "## Conclusion"
   ]
  },
  {
   "cell_type": "code",
   "execution_count": 51,
   "metadata": {},
   "outputs": [
    {
     "data": {
      "text/html": [
       "<div>\n",
       "<style scoped>\n",
       "    .dataframe tbody tr th:only-of-type {\n",
       "        vertical-align: middle;\n",
       "    }\n",
       "\n",
       "    .dataframe tbody tr th {\n",
       "        vertical-align: top;\n",
       "    }\n",
       "\n",
       "    .dataframe thead th {\n",
       "        text-align: right;\n",
       "    }\n",
       "</style>\n",
       "<table border=\"1\" class=\"dataframe\">\n",
       "  <thead>\n",
       "    <tr style=\"text-align: right;\">\n",
       "      <th></th>\n",
       "      <th>Region1</th>\n",
       "      <th>Region2</th>\n",
       "      <th>Region3</th>\n",
       "    </tr>\n",
       "    <tr>\n",
       "      <th>Metrics</th>\n",
       "      <th></th>\n",
       "      <th></th>\n",
       "      <th></th>\n",
       "    </tr>\n",
       "  </thead>\n",
       "  <tbody>\n",
       "    <tr>\n",
       "      <td>Score</td>\n",
       "      <td>0.279975</td>\n",
       "      <td>0.999623</td>\n",
       "      <td>0.205245</td>\n",
       "    </tr>\n",
       "    <tr>\n",
       "      <td>RMSE</td>\n",
       "      <td>37.683903</td>\n",
       "      <td>0.890257</td>\n",
       "      <td>39.806818</td>\n",
       "    </tr>\n",
       "    <tr>\n",
       "      <td>RMSE-CTE</td>\n",
       "      <td>44.319512</td>\n",
       "      <td>0.890257</td>\n",
       "      <td>44.437615</td>\n",
       "    </tr>\n",
       "    <tr>\n",
       "      <td>error</td>\n",
       "      <td>6.635609</td>\n",
       "      <td>0.000000</td>\n",
       "      <td>4.630797</td>\n",
       "    </tr>\n",
       "  </tbody>\n",
       "</table>\n",
       "</div>"
      ],
      "text/plain": [
       "            Region1   Region2    Region3\n",
       "Metrics                                 \n",
       "Score      0.279975  0.999623   0.205245\n",
       "RMSE      37.683903  0.890257  39.806818\n",
       "RMSE-CTE  44.319512  0.890257  44.437615\n",
       "error      6.635609  0.000000   4.630797"
      ]
     },
     "execution_count": 51,
     "metadata": {},
     "output_type": "execute_result"
    }
   ],
   "source": [
    "d= {'Region1': [score1, mse_1**0.5, mse_1n**0.5, df_1], 'Region2': [score2, mse_2**0.5, mse_2n**0.5, df_2], 'Region3': [score3, mse_3**0.5, mse_3n**0.5, df_3], 'Metrics': ['Score', 'RMSE', 'RMSE-CTE', 'error']}\n",
    "pd.DataFrame(d).set_index('Metrics')"
   ]
  },
  {
   "cell_type": "markdown",
   "metadata": {},
   "source": [
    "## The data from the region 2 predicts better results as it proves the evaluations of its metrics. The one which presents lowest quality, region 1 means that it doesn't adjust with the model but not necessary depicts the worst model prediction "
   ]
  },
  {
   "cell_type": "markdown",
   "metadata": {},
   "source": [
    "<div class=\"alert alert-danger\">\n",
    "    <s><ul>\n",
    "    <li>The split into train, validation and test sets is done incorrectly: you need to do the split into the three sets (if you're going to do hyperparameter tuning, otherwise you can have just train and validation/test) before training any models and then use the validation set for selecting the best hyperparameters, and only use the test set for evaluation of the selected model. You split the test set off from the train set after model selecton.\n",
    "    <li>'n_jobs' isn't a hyperparameter of linear regression, and it doesn't make sense to tune it. Please consult with scikit-learn documentation.\n",
    "    <li>What does the 'Score' metric represent?\n",
    "    <li>You need to calculate the average volume of predicted reserves and compare the regions using two things: average product and model error.\n",
    "        </ul></s>\n",
    "</div>"
   ]
  },
  {
   "cell_type": "markdown",
   "metadata": {},
   "source": [
    "<div class=\"alert alert-warning\">\n",
    "    If you don't do any hyperparameter tuning, you don't need the validation set. You can just train the model using the train set and then evaluate it on the test set.\n",
    "</div>"
   ]
  },
  {
   "cell_type": "markdown",
   "metadata": {},
   "source": [
    "## Step3. Prepare for profit calculation:"
   ]
  },
  {
   "cell_type": "markdown",
   "metadata": {},
   "source": [
    "We have to add more information to the geaological datasets to measure how profitable are. We include profit column to each one of the datasets. NOTE: One barrel of raw materials brings 4.5 USD of revenue The revenue from one unit of product is 4,500 dollars (volume of reserves is in thousand barrels)."
   ]
  },
  {
   "cell_type": "markdown",
   "metadata": {},
   "source": [
    "### 3.1. Store all key values for calculations in separate variables."
   ]
  },
  {
   "cell_type": "code",
   "execution_count": 52,
   "metadata": {},
   "outputs": [],
   "source": [
    "import numpy as np"
   ]
  },
  {
   "cell_type": "markdown",
   "metadata": {},
   "source": [
    "Create new variables insides of each region. First of all we need the predictions and target of our models and store in a new table called region"
   ]
  },
  {
   "cell_type": "markdown",
   "metadata": {},
   "source": [
    "#### Model 1"
   ]
  },
  {
   "cell_type": "code",
   "execution_count": 62,
   "metadata": {},
   "outputs": [
    {
     "data": {
      "text/html": [
       "<div>\n",
       "<style scoped>\n",
       "    .dataframe tbody tr th:only-of-type {\n",
       "        vertical-align: middle;\n",
       "    }\n",
       "\n",
       "    .dataframe tbody tr th {\n",
       "        vertical-align: top;\n",
       "    }\n",
       "\n",
       "    .dataframe thead th {\n",
       "        text-align: right;\n",
       "    }\n",
       "</style>\n",
       "<table border=\"1\" class=\"dataframe\">\n",
       "  <thead>\n",
       "    <tr style=\"text-align: right;\">\n",
       "      <th></th>\n",
       "      <th>id</th>\n",
       "      <th>product</th>\n",
       "      <th>predictions</th>\n",
       "      <th>target</th>\n",
       "    </tr>\n",
       "  </thead>\n",
       "  <tbody>\n",
       "    <tr>\n",
       "      <td>7</td>\n",
       "      <td>BYPU6</td>\n",
       "      <td>72.943292</td>\n",
       "      <td>27.993083</td>\n",
       "      <td>72.943292</td>\n",
       "    </tr>\n",
       "    <tr>\n",
       "      <td>11</td>\n",
       "      <td>1YYm1</td>\n",
       "      <td>45.110381</td>\n",
       "      <td>58.211921</td>\n",
       "      <td>45.110381</td>\n",
       "    </tr>\n",
       "    <tr>\n",
       "      <td>16</td>\n",
       "      <td>6vJcD</td>\n",
       "      <td>163.143987</td>\n",
       "      <td>78.011400</td>\n",
       "      <td>163.143987</td>\n",
       "    </tr>\n",
       "    <tr>\n",
       "      <td>25</td>\n",
       "      <td>HgCfr</td>\n",
       "      <td>153.998158</td>\n",
       "      <td>77.814023</td>\n",
       "      <td>153.998158</td>\n",
       "    </tr>\n",
       "    <tr>\n",
       "      <td>29</td>\n",
       "      <td>bkKez</td>\n",
       "      <td>138.721978</td>\n",
       "      <td>59.555560</td>\n",
       "      <td>138.721978</td>\n",
       "    </tr>\n",
       "    <tr>\n",
       "      <td>...</td>\n",
       "      <td>...</td>\n",
       "      <td>...</td>\n",
       "      <td>...</td>\n",
       "      <td>...</td>\n",
       "    </tr>\n",
       "    <tr>\n",
       "      <td>99970</td>\n",
       "      <td>icz3s</td>\n",
       "      <td>50.168281</td>\n",
       "      <td>82.157312</td>\n",
       "      <td>50.168281</td>\n",
       "    </tr>\n",
       "    <tr>\n",
       "      <td>99981</td>\n",
       "      <td>FxFhi</td>\n",
       "      <td>29.627803</td>\n",
       "      <td>78.036158</td>\n",
       "      <td>29.627803</td>\n",
       "    </tr>\n",
       "    <tr>\n",
       "      <td>99989</td>\n",
       "      <td>Aa0Ne</td>\n",
       "      <td>89.944929</td>\n",
       "      <td>92.369708</td>\n",
       "      <td>89.944929</td>\n",
       "    </tr>\n",
       "    <tr>\n",
       "      <td>99992</td>\n",
       "      <td>vgK5D</td>\n",
       "      <td>95.180855</td>\n",
       "      <td>88.840362</td>\n",
       "      <td>95.180855</td>\n",
       "    </tr>\n",
       "    <tr>\n",
       "      <td>99995</td>\n",
       "      <td>DLsed</td>\n",
       "      <td>110.744026</td>\n",
       "      <td>116.200853</td>\n",
       "      <td>110.744026</td>\n",
       "    </tr>\n",
       "  </tbody>\n",
       "</table>\n",
       "<p>18750 rows × 4 columns</p>\n",
       "</div>"
      ],
      "text/plain": [
       "          id     product  predictions      target\n",
       "7      BYPU6   72.943292    27.993083   72.943292\n",
       "11     1YYm1   45.110381    58.211921   45.110381\n",
       "16     6vJcD  163.143987    78.011400  163.143987\n",
       "25     HgCfr  153.998158    77.814023  153.998158\n",
       "29     bkKez  138.721978    59.555560  138.721978\n",
       "...      ...         ...          ...         ...\n",
       "99970  icz3s   50.168281    82.157312   50.168281\n",
       "99981  FxFhi   29.627803    78.036158   29.627803\n",
       "99989  Aa0Ne   89.944929    92.369708   89.944929\n",
       "99992  vgK5D   95.180855    88.840362   95.180855\n",
       "99995  DLsed  110.744026   116.200853  110.744026\n",
       "\n",
       "[18750 rows x 4 columns]"
      ]
     },
     "execution_count": 62,
     "metadata": {},
     "output_type": "execute_result"
    }
   ],
   "source": [
    "predicted_test_1=pd.Series(predicted_test_1, index=target_test_1.index)\n",
    "target_test_1=pd.Series(target_test_1)\n",
    "region1= g1.copy()\n",
    "region1['predictions']= predicted_test_1\n",
    "region1['target']= target_test_1\n",
    "del region1['f0'], region1['f1'], region1['f2']\n",
    "region1.dropna(inplace=True)\n",
    "region1"
   ]
  },
  {
   "cell_type": "markdown",
   "metadata": {},
   "source": [
    "#### Model 2"
   ]
  },
  {
   "cell_type": "code",
   "execution_count": 63,
   "metadata": {},
   "outputs": [
    {
     "data": {
      "text/html": [
       "<div>\n",
       "<style scoped>\n",
       "    .dataframe tbody tr th:only-of-type {\n",
       "        vertical-align: middle;\n",
       "    }\n",
       "\n",
       "    .dataframe tbody tr th {\n",
       "        vertical-align: top;\n",
       "    }\n",
       "\n",
       "    .dataframe thead th {\n",
       "        text-align: right;\n",
       "    }\n",
       "</style>\n",
       "<table border=\"1\" class=\"dataframe\">\n",
       "  <thead>\n",
       "    <tr style=\"text-align: right;\">\n",
       "      <th></th>\n",
       "      <th>id</th>\n",
       "      <th>product</th>\n",
       "      <th>predictions</th>\n",
       "      <th>target</th>\n",
       "    </tr>\n",
       "  </thead>\n",
       "  <tbody>\n",
       "    <tr>\n",
       "      <td>7</td>\n",
       "      <td>muH9x</td>\n",
       "      <td>53.906522</td>\n",
       "      <td>55.067967</td>\n",
       "      <td>53.906522</td>\n",
       "    </tr>\n",
       "    <tr>\n",
       "      <td>11</td>\n",
       "      <td>OXyvW</td>\n",
       "      <td>0.000000</td>\n",
       "      <td>-0.739678</td>\n",
       "      <td>0.000000</td>\n",
       "    </tr>\n",
       "    <tr>\n",
       "      <td>16</td>\n",
       "      <td>siveY</td>\n",
       "      <td>53.906522</td>\n",
       "      <td>53.860544</td>\n",
       "      <td>53.906522</td>\n",
       "    </tr>\n",
       "    <tr>\n",
       "      <td>25</td>\n",
       "      <td>AOrbK</td>\n",
       "      <td>57.085625</td>\n",
       "      <td>55.629384</td>\n",
       "      <td>57.085625</td>\n",
       "    </tr>\n",
       "    <tr>\n",
       "      <td>29</td>\n",
       "      <td>JPiGi</td>\n",
       "      <td>3.179103</td>\n",
       "      <td>3.466037</td>\n",
       "      <td>3.179103</td>\n",
       "    </tr>\n",
       "    <tr>\n",
       "      <td>...</td>\n",
       "      <td>...</td>\n",
       "      <td>...</td>\n",
       "      <td>...</td>\n",
       "      <td>...</td>\n",
       "    </tr>\n",
       "    <tr>\n",
       "      <td>99970</td>\n",
       "      <td>bkcZ4</td>\n",
       "      <td>80.859783</td>\n",
       "      <td>81.762083</td>\n",
       "      <td>80.859783</td>\n",
       "    </tr>\n",
       "    <tr>\n",
       "      <td>99981</td>\n",
       "      <td>jmPUN</td>\n",
       "      <td>80.859783</td>\n",
       "      <td>82.150910</td>\n",
       "      <td>80.859783</td>\n",
       "    </tr>\n",
       "    <tr>\n",
       "      <td>99989</td>\n",
       "      <td>p0Iyd</td>\n",
       "      <td>107.813044</td>\n",
       "      <td>109.000726</td>\n",
       "      <td>107.813044</td>\n",
       "    </tr>\n",
       "    <tr>\n",
       "      <td>99992</td>\n",
       "      <td>BYhdw</td>\n",
       "      <td>84.038886</td>\n",
       "      <td>83.179222</td>\n",
       "      <td>84.038886</td>\n",
       "    </tr>\n",
       "    <tr>\n",
       "      <td>99995</td>\n",
       "      <td>QywKC</td>\n",
       "      <td>53.906522</td>\n",
       "      <td>54.286623</td>\n",
       "      <td>53.906522</td>\n",
       "    </tr>\n",
       "  </tbody>\n",
       "</table>\n",
       "<p>18750 rows × 4 columns</p>\n",
       "</div>"
      ],
      "text/plain": [
       "          id     product  predictions      target\n",
       "7      muH9x   53.906522    55.067967   53.906522\n",
       "11     OXyvW    0.000000    -0.739678    0.000000\n",
       "16     siveY   53.906522    53.860544   53.906522\n",
       "25     AOrbK   57.085625    55.629384   57.085625\n",
       "29     JPiGi    3.179103     3.466037    3.179103\n",
       "...      ...         ...          ...         ...\n",
       "99970  bkcZ4   80.859783    81.762083   80.859783\n",
       "99981  jmPUN   80.859783    82.150910   80.859783\n",
       "99989  p0Iyd  107.813044   109.000726  107.813044\n",
       "99992  BYhdw   84.038886    83.179222   84.038886\n",
       "99995  QywKC   53.906522    54.286623   53.906522\n",
       "\n",
       "[18750 rows x 4 columns]"
      ]
     },
     "execution_count": 63,
     "metadata": {},
     "output_type": "execute_result"
    }
   ],
   "source": [
    "predicted_test_2=pd.Series(predicted_test_2, index=target_test_2.index)\n",
    "target_test_2=pd.Series(target_test_2)\n",
    "region2= g2.copy()\n",
    "region2['predictions']= predicted_test_2\n",
    "region2['target']= target_test_2\n",
    "\n",
    "del region2['f0'], region2['f1'], region2['f2']\n",
    "region2.dropna(inplace=True)\n",
    "region2"
   ]
  },
  {
   "cell_type": "markdown",
   "metadata": {},
   "source": [
    "#### Model 3"
   ]
  },
  {
   "cell_type": "code",
   "execution_count": 64,
   "metadata": {},
   "outputs": [
    {
     "data": {
      "text/html": [
       "<div>\n",
       "<style scoped>\n",
       "    .dataframe tbody tr th:only-of-type {\n",
       "        vertical-align: middle;\n",
       "    }\n",
       "\n",
       "    .dataframe tbody tr th {\n",
       "        vertical-align: top;\n",
       "    }\n",
       "\n",
       "    .dataframe thead th {\n",
       "        text-align: right;\n",
       "    }\n",
       "</style>\n",
       "<table border=\"1\" class=\"dataframe\">\n",
       "  <thead>\n",
       "    <tr style=\"text-align: right;\">\n",
       "      <th></th>\n",
       "      <th>id</th>\n",
       "      <th>product</th>\n",
       "      <th>predictions</th>\n",
       "      <th>target</th>\n",
       "    </tr>\n",
       "  </thead>\n",
       "  <tbody>\n",
       "    <tr>\n",
       "      <td>7</td>\n",
       "      <td>XO8fn</td>\n",
       "      <td>72.480640</td>\n",
       "      <td>79.813796</td>\n",
       "      <td>72.480640</td>\n",
       "    </tr>\n",
       "    <tr>\n",
       "      <td>11</td>\n",
       "      <td>V9R1y</td>\n",
       "      <td>150.859435</td>\n",
       "      <td>129.992114</td>\n",
       "      <td>150.859435</td>\n",
       "    </tr>\n",
       "    <tr>\n",
       "      <td>16</td>\n",
       "      <td>2oVFv</td>\n",
       "      <td>84.500464</td>\n",
       "      <td>120.622602</td>\n",
       "      <td>84.500464</td>\n",
       "    </tr>\n",
       "    <tr>\n",
       "      <td>25</td>\n",
       "      <td>KMQl3</td>\n",
       "      <td>95.466896</td>\n",
       "      <td>74.548388</td>\n",
       "      <td>95.466896</td>\n",
       "    </tr>\n",
       "    <tr>\n",
       "      <td>29</td>\n",
       "      <td>6UkRY</td>\n",
       "      <td>103.263475</td>\n",
       "      <td>85.095012</td>\n",
       "      <td>103.263475</td>\n",
       "    </tr>\n",
       "    <tr>\n",
       "      <td>...</td>\n",
       "      <td>...</td>\n",
       "      <td>...</td>\n",
       "      <td>...</td>\n",
       "      <td>...</td>\n",
       "    </tr>\n",
       "    <tr>\n",
       "      <td>99970</td>\n",
       "      <td>cLBP0</td>\n",
       "      <td>85.487009</td>\n",
       "      <td>107.681683</td>\n",
       "      <td>85.487009</td>\n",
       "    </tr>\n",
       "    <tr>\n",
       "      <td>99981</td>\n",
       "      <td>uF23g</td>\n",
       "      <td>43.976501</td>\n",
       "      <td>75.058554</td>\n",
       "      <td>43.976501</td>\n",
       "    </tr>\n",
       "    <tr>\n",
       "      <td>99989</td>\n",
       "      <td>rJzpp</td>\n",
       "      <td>88.520067</td>\n",
       "      <td>107.287805</td>\n",
       "      <td>88.520067</td>\n",
       "    </tr>\n",
       "    <tr>\n",
       "      <td>99992</td>\n",
       "      <td>yDrAl</td>\n",
       "      <td>151.374166</td>\n",
       "      <td>92.433168</td>\n",
       "      <td>151.374166</td>\n",
       "    </tr>\n",
       "    <tr>\n",
       "      <td>99995</td>\n",
       "      <td>4GxBu</td>\n",
       "      <td>172.327046</td>\n",
       "      <td>116.364864</td>\n",
       "      <td>172.327046</td>\n",
       "    </tr>\n",
       "  </tbody>\n",
       "</table>\n",
       "<p>18750 rows × 4 columns</p>\n",
       "</div>"
      ],
      "text/plain": [
       "          id     product  predictions      target\n",
       "7      XO8fn   72.480640    79.813796   72.480640\n",
       "11     V9R1y  150.859435   129.992114  150.859435\n",
       "16     2oVFv   84.500464   120.622602   84.500464\n",
       "25     KMQl3   95.466896    74.548388   95.466896\n",
       "29     6UkRY  103.263475    85.095012  103.263475\n",
       "...      ...         ...          ...         ...\n",
       "99970  cLBP0   85.487009   107.681683   85.487009\n",
       "99981  uF23g   43.976501    75.058554   43.976501\n",
       "99989  rJzpp   88.520067   107.287805   88.520067\n",
       "99992  yDrAl  151.374166    92.433168  151.374166\n",
       "99995  4GxBu  172.327046   116.364864  172.327046\n",
       "\n",
       "[18750 rows x 4 columns]"
      ]
     },
     "execution_count": 64,
     "metadata": {},
     "output_type": "execute_result"
    }
   ],
   "source": [
    "predicted_test_3=pd.Series(predicted_test_3, index=target_test_3.index)\n",
    "target_test_3=pd.Series(target_test_3)\n",
    "region3= g3.copy()\n",
    "region3['predictions']= predicted_test_3\n",
    "region3['target']= target_test_3\n",
    "\n",
    "del region3['f0'], region3['f1'], region3['f2']\n",
    "region3.dropna(inplace=True)\n",
    "region3"
   ]
  },
  {
   "cell_type": "markdown",
   "metadata": {},
   "source": [
    "<div class=\"alert alert-warning\">\n",
    "    In this dataframes product and target columns are identical\n",
    "</div>"
   ]
  },
  {
   "cell_type": "markdown",
   "metadata": {},
   "source": [
    "Afterwards, we cretae the fundamental variables to obtain profit calculation. We have constainsts for our future calculations"
   ]
  },
  {
   "cell_type": "markdown",
   "metadata": {},
   "source": [
    "It is important that we dispose a budget of 100 million USD to explore 200 wells. We must set a function which calculates the profit with the parameters given (predictions, target). We declare constant variables for our revenue function"
   ]
  },
  {
   "cell_type": "code",
   "execution_count": 65,
   "metadata": {},
   "outputs": [],
   "source": [
    "BUDGET = 100000000\n",
    "POINTS_PER_BUDGET = 200\n",
    "PRODUCT_PRICE = 4500"
   ]
  },
  {
   "cell_type": "markdown",
   "metadata": {},
   "source": [
    "### 3.2.Calculate the volume of reserves sufficient for developing a new well without losses."
   ]
  },
  {
   "cell_type": "markdown",
   "metadata": {},
   "source": [
    "we have an ecuation like: *POINTS_PER_BUDGET* X *PRODUCT_PRICE* X *volume_target* - *BUDGET*"
   ]
  },
  {
   "cell_type": "code",
   "execution_count": 66,
   "metadata": {},
   "outputs": [
    {
     "data": {
      "text/plain": [
       "111.11111111111111"
      ]
     },
     "execution_count": 66,
     "metadata": {},
     "output_type": "execute_result"
    }
   ],
   "source": [
    "volume_target= BUDGET/(POINTS_PER_BUDGET*PRODUCT_PRICE)\n",
    "volume_target"
   ]
  },
  {
   "cell_type": "markdown",
   "metadata": {},
   "source": [
    "### 3.3. Provide the findings about the preparation for profit calculation step."
   ]
  },
  {
   "cell_type": "code",
   "execution_count": 67,
   "metadata": {},
   "outputs": [
    {
     "name": "stdout",
     "output_type": "stream",
     "text": [
      "Mean of volume of reserves in region 1: 92.7077104515298\n",
      "Mean of volume of reserves in region 2 68.96827277573811\n",
      "Mean of volume of reserves  in region 3 94.95552388797545\n"
     ]
    }
   ],
   "source": [
    "print('Mean of volume of reserves in region 1:',region1['predictions'].mean())\n",
    "print('Mean of volume of reserves in region 2',region2['predictions'].mean())\n",
    "print('Mean of volume of reserves  in region 3',region3['predictions'].mean())"
   ]
  },
  {
   "cell_type": "markdown",
   "metadata": {},
   "source": [
    "## When we face data like the average of each region with the theoric volume to have no losses, we see that each region with wells' predictions  appears not to be so close with the theoric volume"
   ]
  },
  {
   "cell_type": "markdown",
   "metadata": {},
   "source": [
    "<div class=\"alert alert-danger\">\n",
    "    <s>I'm not sure what you're doing, but it does not seem to be what the task requires you to do</s>\n",
    "</div>"
   ]
  },
  {
   "cell_type": "markdown",
   "metadata": {},
   "source": [
    "<div class=\"alert alert-success\">\n",
    "    Ok, great! So you calculated how much product should one well produce to be profitable and found the average product in each region to be lower than that value. So we need to have something better than a random selection of wells, for example a machine learning model!\n",
    "</div>"
   ]
  },
  {
   "cell_type": "markdown",
   "metadata": {},
   "source": [
    "## Step 4.Write a function to calculate profit from a set of selected oil wells and model predictions"
   ]
  },
  {
   "cell_type": "markdown",
   "metadata": {},
   "source": [
    "### 4.1 Pick the wells with the highest values of predictions."
   ]
  },
  {
   "cell_type": "markdown",
   "metadata": {},
   "source": [
    "it seems we have got enought information to obtain new information. We have a budget to explore only 200 wells, but we have a lot of candidates for these 200 wells. we selected from our model and then explore them to get the real target values"
   ]
  },
  {
   "cell_type": "markdown",
   "metadata": {},
   "source": [
    "We select 500 points from whole dataset, then use your model to make predictions on these 500 points "
   ]
  },
  {
   "cell_type": "code",
   "execution_count": 68,
   "metadata": {},
   "outputs": [],
   "source": [
    "state = np.random.RandomState(12345)\n",
    "sample1= region1.sample(n=500, random_state=state)\n",
    "sample2= region2.sample(n=500, random_state=state)\n",
    "sample3= region3.sample(n=500, random_state=state)"
   ]
  },
  {
   "cell_type": "markdown",
   "metadata": {},
   "source": [
    "<div class=\"alert alert-danger\">\n",
    "    <s>Below you are doing something strange: training models from scratch, adding duplicate columns (target is the same as product, but as a result of index mismatch, there are a lot of nulls). You just need to take the predictions you did in the first section and use them... Or if you really want the tables with both predictions and targets, you can use region1, region2, region3 dataframes you created above and sample from them</s>\n",
    "</div>"
   ]
  },
  {
   "cell_type": "markdown",
   "metadata": {},
   "source": [
    "#### Sample 1"
   ]
  },
  {
   "cell_type": "code",
   "execution_count": 69,
   "metadata": {},
   "outputs": [
    {
     "data": {
      "text/html": [
       "<div>\n",
       "<style scoped>\n",
       "    .dataframe tbody tr th:only-of-type {\n",
       "        vertical-align: middle;\n",
       "    }\n",
       "\n",
       "    .dataframe tbody tr th {\n",
       "        vertical-align: top;\n",
       "    }\n",
       "\n",
       "    .dataframe thead th {\n",
       "        text-align: right;\n",
       "    }\n",
       "</style>\n",
       "<table border=\"1\" class=\"dataframe\">\n",
       "  <thead>\n",
       "    <tr style=\"text-align: right;\">\n",
       "      <th></th>\n",
       "      <th>id</th>\n",
       "      <th>product</th>\n",
       "      <th>predictions</th>\n",
       "      <th>target</th>\n",
       "    </tr>\n",
       "  </thead>\n",
       "  <tbody>\n",
       "    <tr>\n",
       "      <td>34333</td>\n",
       "      <td>ADP21</td>\n",
       "      <td>152.761334</td>\n",
       "      <td>161.251879</td>\n",
       "      <td>152.761334</td>\n",
       "    </tr>\n",
       "    <tr>\n",
       "      <td>40271</td>\n",
       "      <td>t6LMC</td>\n",
       "      <td>152.806694</td>\n",
       "      <td>151.268131</td>\n",
       "      <td>152.806694</td>\n",
       "    </tr>\n",
       "    <tr>\n",
       "      <td>59279</td>\n",
       "      <td>qe8Jj</td>\n",
       "      <td>176.866196</td>\n",
       "      <td>149.722422</td>\n",
       "      <td>176.866196</td>\n",
       "    </tr>\n",
       "    <tr>\n",
       "      <td>51868</td>\n",
       "      <td>GbL3J</td>\n",
       "      <td>98.028952</td>\n",
       "      <td>146.326910</td>\n",
       "      <td>98.028952</td>\n",
       "    </tr>\n",
       "    <tr>\n",
       "      <td>10598</td>\n",
       "      <td>wWtjv</td>\n",
       "      <td>133.198376</td>\n",
       "      <td>144.692353</td>\n",
       "      <td>133.198376</td>\n",
       "    </tr>\n",
       "    <tr>\n",
       "      <td>...</td>\n",
       "      <td>...</td>\n",
       "      <td>...</td>\n",
       "      <td>...</td>\n",
       "      <td>...</td>\n",
       "    </tr>\n",
       "    <tr>\n",
       "      <td>25597</td>\n",
       "      <td>KZwYv</td>\n",
       "      <td>74.137480</td>\n",
       "      <td>100.220650</td>\n",
       "      <td>74.137480</td>\n",
       "    </tr>\n",
       "    <tr>\n",
       "      <td>36114</td>\n",
       "      <td>6WFjL</td>\n",
       "      <td>35.021797</td>\n",
       "      <td>100.183908</td>\n",
       "      <td>35.021797</td>\n",
       "    </tr>\n",
       "    <tr>\n",
       "      <td>70792</td>\n",
       "      <td>2qhEt</td>\n",
       "      <td>103.360792</td>\n",
       "      <td>100.170858</td>\n",
       "      <td>103.360792</td>\n",
       "    </tr>\n",
       "    <tr>\n",
       "      <td>18083</td>\n",
       "      <td>GXg2r</td>\n",
       "      <td>161.181520</td>\n",
       "      <td>100.139957</td>\n",
       "      <td>161.181520</td>\n",
       "    </tr>\n",
       "    <tr>\n",
       "      <td>13786</td>\n",
       "      <td>AkzWS</td>\n",
       "      <td>89.282912</td>\n",
       "      <td>100.108382</td>\n",
       "      <td>89.282912</td>\n",
       "    </tr>\n",
       "  </tbody>\n",
       "</table>\n",
       "<p>200 rows × 4 columns</p>\n",
       "</div>"
      ],
      "text/plain": [
       "          id     product  predictions      target\n",
       "34333  ADP21  152.761334   161.251879  152.761334\n",
       "40271  t6LMC  152.806694   151.268131  152.806694\n",
       "59279  qe8Jj  176.866196   149.722422  176.866196\n",
       "51868  GbL3J   98.028952   146.326910   98.028952\n",
       "10598  wWtjv  133.198376   144.692353  133.198376\n",
       "...      ...         ...          ...         ...\n",
       "25597  KZwYv   74.137480   100.220650   74.137480\n",
       "36114  6WFjL   35.021797   100.183908   35.021797\n",
       "70792  2qhEt  103.360792   100.170858  103.360792\n",
       "18083  GXg2r  161.181520   100.139957  161.181520\n",
       "13786  AkzWS   89.282912   100.108382   89.282912\n",
       "\n",
       "[200 rows x 4 columns]"
      ]
     },
     "execution_count": 69,
     "metadata": {},
     "output_type": "execute_result"
    }
   ],
   "source": [
    "selected1= sample1.sort_values(by='predictions',ascending=False).head(200)\n",
    "selected1"
   ]
  },
  {
   "cell_type": "markdown",
   "metadata": {},
   "source": [
    "#### Sample 2"
   ]
  },
  {
   "cell_type": "code",
   "execution_count": 70,
   "metadata": {},
   "outputs": [
    {
     "data": {
      "text/html": [
       "<div>\n",
       "<style scoped>\n",
       "    .dataframe tbody tr th:only-of-type {\n",
       "        vertical-align: middle;\n",
       "    }\n",
       "\n",
       "    .dataframe tbody tr th {\n",
       "        vertical-align: top;\n",
       "    }\n",
       "\n",
       "    .dataframe thead th {\n",
       "        text-align: right;\n",
       "    }\n",
       "</style>\n",
       "<table border=\"1\" class=\"dataframe\">\n",
       "  <thead>\n",
       "    <tr style=\"text-align: right;\">\n",
       "      <th></th>\n",
       "      <th>id</th>\n",
       "      <th>product</th>\n",
       "      <th>predictions</th>\n",
       "      <th>target</th>\n",
       "    </tr>\n",
       "  </thead>\n",
       "  <tbody>\n",
       "    <tr>\n",
       "      <td>81453</td>\n",
       "      <td>wUYeg</td>\n",
       "      <td>137.945408</td>\n",
       "      <td>139.516993</td>\n",
       "      <td>137.945408</td>\n",
       "    </tr>\n",
       "    <tr>\n",
       "      <td>13695</td>\n",
       "      <td>Nmrjp</td>\n",
       "      <td>137.945408</td>\n",
       "      <td>138.608415</td>\n",
       "      <td>137.945408</td>\n",
       "    </tr>\n",
       "    <tr>\n",
       "      <td>50222</td>\n",
       "      <td>2vjOU</td>\n",
       "      <td>137.945408</td>\n",
       "      <td>138.455018</td>\n",
       "      <td>137.945408</td>\n",
       "    </tr>\n",
       "    <tr>\n",
       "      <td>98247</td>\n",
       "      <td>EmWA8</td>\n",
       "      <td>137.945408</td>\n",
       "      <td>138.452285</td>\n",
       "      <td>137.945408</td>\n",
       "    </tr>\n",
       "    <tr>\n",
       "      <td>78084</td>\n",
       "      <td>gKprq</td>\n",
       "      <td>137.945408</td>\n",
       "      <td>138.418445</td>\n",
       "      <td>137.945408</td>\n",
       "    </tr>\n",
       "    <tr>\n",
       "      <td>...</td>\n",
       "      <td>...</td>\n",
       "      <td>...</td>\n",
       "      <td>...</td>\n",
       "      <td>...</td>\n",
       "    </tr>\n",
       "    <tr>\n",
       "      <td>39532</td>\n",
       "      <td>RPUz9</td>\n",
       "      <td>80.859783</td>\n",
       "      <td>82.566277</td>\n",
       "      <td>80.859783</td>\n",
       "    </tr>\n",
       "    <tr>\n",
       "      <td>75394</td>\n",
       "      <td>JhXcm</td>\n",
       "      <td>84.038886</td>\n",
       "      <td>82.467643</td>\n",
       "      <td>84.038886</td>\n",
       "    </tr>\n",
       "    <tr>\n",
       "      <td>76500</td>\n",
       "      <td>6r5mU</td>\n",
       "      <td>80.859783</td>\n",
       "      <td>82.394579</td>\n",
       "      <td>80.859783</td>\n",
       "    </tr>\n",
       "    <tr>\n",
       "      <td>998</td>\n",
       "      <td>2iiNp</td>\n",
       "      <td>80.859783</td>\n",
       "      <td>82.329051</td>\n",
       "      <td>80.859783</td>\n",
       "    </tr>\n",
       "    <tr>\n",
       "      <td>1438</td>\n",
       "      <td>u0QoY</td>\n",
       "      <td>84.038886</td>\n",
       "      <td>82.272523</td>\n",
       "      <td>84.038886</td>\n",
       "    </tr>\n",
       "  </tbody>\n",
       "</table>\n",
       "<p>200 rows × 4 columns</p>\n",
       "</div>"
      ],
      "text/plain": [
       "          id     product  predictions      target\n",
       "81453  wUYeg  137.945408   139.516993  137.945408\n",
       "13695  Nmrjp  137.945408   138.608415  137.945408\n",
       "50222  2vjOU  137.945408   138.455018  137.945408\n",
       "98247  EmWA8  137.945408   138.452285  137.945408\n",
       "78084  gKprq  137.945408   138.418445  137.945408\n",
       "...      ...         ...          ...         ...\n",
       "39532  RPUz9   80.859783    82.566277   80.859783\n",
       "75394  JhXcm   84.038886    82.467643   84.038886\n",
       "76500  6r5mU   80.859783    82.394579   80.859783\n",
       "998    2iiNp   80.859783    82.329051   80.859783\n",
       "1438   u0QoY   84.038886    82.272523   84.038886\n",
       "\n",
       "[200 rows x 4 columns]"
      ]
     },
     "execution_count": 70,
     "metadata": {},
     "output_type": "execute_result"
    }
   ],
   "source": [
    "selected2= sample2.sort_values(by='predictions',ascending=False).head(200)\n",
    "selected2"
   ]
  },
  {
   "cell_type": "markdown",
   "metadata": {},
   "source": [
    "#### Sample 3"
   ]
  },
  {
   "cell_type": "code",
   "execution_count": 71,
   "metadata": {},
   "outputs": [
    {
     "data": {
      "text/html": [
       "<div>\n",
       "<style scoped>\n",
       "    .dataframe tbody tr th:only-of-type {\n",
       "        vertical-align: middle;\n",
       "    }\n",
       "\n",
       "    .dataframe tbody tr th {\n",
       "        vertical-align: top;\n",
       "    }\n",
       "\n",
       "    .dataframe thead th {\n",
       "        text-align: right;\n",
       "    }\n",
       "</style>\n",
       "<table border=\"1\" class=\"dataframe\">\n",
       "  <thead>\n",
       "    <tr style=\"text-align: right;\">\n",
       "      <th></th>\n",
       "      <th>id</th>\n",
       "      <th>product</th>\n",
       "      <th>predictions</th>\n",
       "      <th>target</th>\n",
       "    </tr>\n",
       "  </thead>\n",
       "  <tbody>\n",
       "    <tr>\n",
       "      <td>35301</td>\n",
       "      <td>HjOEa</td>\n",
       "      <td>125.238378</td>\n",
       "      <td>156.887488</td>\n",
       "      <td>125.238378</td>\n",
       "    </tr>\n",
       "    <tr>\n",
       "      <td>79261</td>\n",
       "      <td>pBiP8</td>\n",
       "      <td>124.385587</td>\n",
       "      <td>155.273027</td>\n",
       "      <td>124.385587</td>\n",
       "    </tr>\n",
       "    <tr>\n",
       "      <td>96394</td>\n",
       "      <td>PVDmC</td>\n",
       "      <td>157.972954</td>\n",
       "      <td>148.539009</td>\n",
       "      <td>157.972954</td>\n",
       "    </tr>\n",
       "    <tr>\n",
       "      <td>39111</td>\n",
       "      <td>DQLxj</td>\n",
       "      <td>167.083741</td>\n",
       "      <td>143.368921</td>\n",
       "      <td>167.083741</td>\n",
       "    </tr>\n",
       "    <tr>\n",
       "      <td>15797</td>\n",
       "      <td>lGGxX</td>\n",
       "      <td>136.159747</td>\n",
       "      <td>142.130532</td>\n",
       "      <td>136.159747</td>\n",
       "    </tr>\n",
       "    <tr>\n",
       "      <td>...</td>\n",
       "      <td>...</td>\n",
       "      <td>...</td>\n",
       "      <td>...</td>\n",
       "      <td>...</td>\n",
       "    </tr>\n",
       "    <tr>\n",
       "      <td>84066</td>\n",
       "      <td>PXZYQ</td>\n",
       "      <td>143.975170</td>\n",
       "      <td>100.545790</td>\n",
       "      <td>143.975170</td>\n",
       "    </tr>\n",
       "    <tr>\n",
       "      <td>82698</td>\n",
       "      <td>oRcLj</td>\n",
       "      <td>141.161344</td>\n",
       "      <td>100.432423</td>\n",
       "      <td>141.161344</td>\n",
       "    </tr>\n",
       "    <tr>\n",
       "      <td>59016</td>\n",
       "      <td>abUVz</td>\n",
       "      <td>54.155473</td>\n",
       "      <td>100.308911</td>\n",
       "      <td>54.155473</td>\n",
       "    </tr>\n",
       "    <tr>\n",
       "      <td>56023</td>\n",
       "      <td>tpzNx</td>\n",
       "      <td>39.989444</td>\n",
       "      <td>100.037610</td>\n",
       "      <td>39.989444</td>\n",
       "    </tr>\n",
       "    <tr>\n",
       "      <td>74541</td>\n",
       "      <td>ojvon</td>\n",
       "      <td>64.396805</td>\n",
       "      <td>99.813982</td>\n",
       "      <td>64.396805</td>\n",
       "    </tr>\n",
       "  </tbody>\n",
       "</table>\n",
       "<p>200 rows × 4 columns</p>\n",
       "</div>"
      ],
      "text/plain": [
       "          id     product  predictions      target\n",
       "35301  HjOEa  125.238378   156.887488  125.238378\n",
       "79261  pBiP8  124.385587   155.273027  124.385587\n",
       "96394  PVDmC  157.972954   148.539009  157.972954\n",
       "39111  DQLxj  167.083741   143.368921  167.083741\n",
       "15797  lGGxX  136.159747   142.130532  136.159747\n",
       "...      ...         ...          ...         ...\n",
       "84066  PXZYQ  143.975170   100.545790  143.975170\n",
       "82698  oRcLj  141.161344   100.432423  141.161344\n",
       "59016  abUVz   54.155473   100.308911   54.155473\n",
       "56023  tpzNx   39.989444   100.037610   39.989444\n",
       "74541  ojvon   64.396805    99.813982   64.396805\n",
       "\n",
       "[200 rows x 4 columns]"
      ]
     },
     "execution_count": 71,
     "metadata": {},
     "output_type": "execute_result"
    }
   ],
   "source": [
    "selected3= sample3.sort_values(by='predictions',ascending=False).head(200)\n",
    "selected3"
   ]
  },
  {
   "cell_type": "markdown",
   "metadata": {},
   "source": [
    "We pick the best 200 wells predictions"
   ]
  },
  {
   "cell_type": "code",
   "execution_count": 81,
   "metadata": {},
   "outputs": [
    {
     "data": {
      "text/html": [
       "<div>\n",
       "<style scoped>\n",
       "    .dataframe tbody tr th:only-of-type {\n",
       "        vertical-align: middle;\n",
       "    }\n",
       "\n",
       "    .dataframe tbody tr th {\n",
       "        vertical-align: top;\n",
       "    }\n",
       "\n",
       "    .dataframe thead tr th {\n",
       "        text-align: left;\n",
       "    }\n",
       "</style>\n",
       "<table border=\"1\" class=\"dataframe\">\n",
       "  <thead>\n",
       "    <tr>\n",
       "      <th></th>\n",
       "      <th colspan=\"4\" halign=\"left\">sample1</th>\n",
       "      <th colspan=\"4\" halign=\"left\">sample2</th>\n",
       "      <th colspan=\"4\" halign=\"left\">sample3</th>\n",
       "    </tr>\n",
       "    <tr>\n",
       "      <th></th>\n",
       "      <th>id</th>\n",
       "      <th>product</th>\n",
       "      <th>predictions</th>\n",
       "      <th>target</th>\n",
       "      <th>id</th>\n",
       "      <th>product</th>\n",
       "      <th>predictions</th>\n",
       "      <th>target</th>\n",
       "      <th>id</th>\n",
       "      <th>product</th>\n",
       "      <th>predictions</th>\n",
       "      <th>target</th>\n",
       "    </tr>\n",
       "  </thead>\n",
       "  <tbody>\n",
       "    <tr>\n",
       "      <td>31</td>\n",
       "      <td>t86xZ</td>\n",
       "      <td>89.021460</td>\n",
       "      <td>105.319834</td>\n",
       "      <td>89.021460</td>\n",
       "      <td>4NJv3</td>\n",
       "      <td>84.038886</td>\n",
       "      <td>83.619069</td>\n",
       "      <td>84.038886</td>\n",
       "      <td>NaN</td>\n",
       "      <td>NaN</td>\n",
       "      <td>NaN</td>\n",
       "      <td>NaN</td>\n",
       "    </tr>\n",
       "    <tr>\n",
       "      <td>245</td>\n",
       "      <td>NaN</td>\n",
       "      <td>NaN</td>\n",
       "      <td>NaN</td>\n",
       "      <td>NaN</td>\n",
       "      <td>f8Za8</td>\n",
       "      <td>134.766305</td>\n",
       "      <td>136.097011</td>\n",
       "      <td>134.766305</td>\n",
       "      <td>NaN</td>\n",
       "      <td>NaN</td>\n",
       "      <td>NaN</td>\n",
       "      <td>NaN</td>\n",
       "    </tr>\n",
       "    <tr>\n",
       "      <td>337</td>\n",
       "      <td>NaN</td>\n",
       "      <td>NaN</td>\n",
       "      <td>NaN</td>\n",
       "      <td>NaN</td>\n",
       "      <td>uHDh2</td>\n",
       "      <td>107.813044</td>\n",
       "      <td>108.864388</td>\n",
       "      <td>107.813044</td>\n",
       "      <td>NaN</td>\n",
       "      <td>NaN</td>\n",
       "      <td>NaN</td>\n",
       "      <td>NaN</td>\n",
       "    </tr>\n",
       "    <tr>\n",
       "      <td>579</td>\n",
       "      <td>ObOme</td>\n",
       "      <td>125.152152</td>\n",
       "      <td>103.767759</td>\n",
       "      <td>125.152152</td>\n",
       "      <td>NaN</td>\n",
       "      <td>NaN</td>\n",
       "      <td>NaN</td>\n",
       "      <td>NaN</td>\n",
       "      <td>NaN</td>\n",
       "      <td>NaN</td>\n",
       "      <td>NaN</td>\n",
       "      <td>NaN</td>\n",
       "    </tr>\n",
       "    <tr>\n",
       "      <td>978</td>\n",
       "      <td>g4FRZ</td>\n",
       "      <td>101.438809</td>\n",
       "      <td>102.105367</td>\n",
       "      <td>101.438809</td>\n",
       "      <td>NaN</td>\n",
       "      <td>NaN</td>\n",
       "      <td>NaN</td>\n",
       "      <td>NaN</td>\n",
       "      <td>NaN</td>\n",
       "      <td>NaN</td>\n",
       "      <td>NaN</td>\n",
       "      <td>NaN</td>\n",
       "    </tr>\n",
       "    <tr>\n",
       "      <td>...</td>\n",
       "      <td>...</td>\n",
       "      <td>...</td>\n",
       "      <td>...</td>\n",
       "      <td>...</td>\n",
       "      <td>...</td>\n",
       "      <td>...</td>\n",
       "      <td>...</td>\n",
       "      <td>...</td>\n",
       "      <td>...</td>\n",
       "      <td>...</td>\n",
       "      <td>...</td>\n",
       "      <td>...</td>\n",
       "    </tr>\n",
       "    <tr>\n",
       "      <td>98907</td>\n",
       "      <td>NaN</td>\n",
       "      <td>NaN</td>\n",
       "      <td>NaN</td>\n",
       "      <td>NaN</td>\n",
       "      <td>0XAXY</td>\n",
       "      <td>137.945408</td>\n",
       "      <td>137.496716</td>\n",
       "      <td>137.945408</td>\n",
       "      <td>NaN</td>\n",
       "      <td>NaN</td>\n",
       "      <td>NaN</td>\n",
       "      <td>NaN</td>\n",
       "    </tr>\n",
       "    <tr>\n",
       "      <td>99634</td>\n",
       "      <td>NaN</td>\n",
       "      <td>NaN</td>\n",
       "      <td>NaN</td>\n",
       "      <td>NaN</td>\n",
       "      <td>rhKZE</td>\n",
       "      <td>110.992147</td>\n",
       "      <td>110.994580</td>\n",
       "      <td>110.992147</td>\n",
       "      <td>NaN</td>\n",
       "      <td>NaN</td>\n",
       "      <td>NaN</td>\n",
       "      <td>NaN</td>\n",
       "    </tr>\n",
       "    <tr>\n",
       "      <td>99683</td>\n",
       "      <td>NaN</td>\n",
       "      <td>NaN</td>\n",
       "      <td>NaN</td>\n",
       "      <td>NaN</td>\n",
       "      <td>NaN</td>\n",
       "      <td>NaN</td>\n",
       "      <td>NaN</td>\n",
       "      <td>NaN</td>\n",
       "      <td>bVGjz</td>\n",
       "      <td>120.589305</td>\n",
       "      <td>101.676055</td>\n",
       "      <td>120.589305</td>\n",
       "    </tr>\n",
       "    <tr>\n",
       "      <td>99692</td>\n",
       "      <td>NaN</td>\n",
       "      <td>NaN</td>\n",
       "      <td>NaN</td>\n",
       "      <td>NaN</td>\n",
       "      <td>NaN</td>\n",
       "      <td>NaN</td>\n",
       "      <td>NaN</td>\n",
       "      <td>NaN</td>\n",
       "      <td>pJGkc</td>\n",
       "      <td>121.248291</td>\n",
       "      <td>139.689105</td>\n",
       "      <td>121.248291</td>\n",
       "    </tr>\n",
       "    <tr>\n",
       "      <td>99935</td>\n",
       "      <td>NaN</td>\n",
       "      <td>NaN</td>\n",
       "      <td>NaN</td>\n",
       "      <td>NaN</td>\n",
       "      <td>NaN</td>\n",
       "      <td>NaN</td>\n",
       "      <td>NaN</td>\n",
       "      <td>NaN</td>\n",
       "      <td>D0LVY</td>\n",
       "      <td>132.426527</td>\n",
       "      <td>119.527274</td>\n",
       "      <td>132.426527</td>\n",
       "    </tr>\n",
       "  </tbody>\n",
       "</table>\n",
       "<p>595 rows × 12 columns</p>\n",
       "</div>"
      ],
      "text/plain": [
       "      sample1                                     sample2              \\\n",
       "           id     product predictions      target      id     product   \n",
       "31      t86xZ   89.021460  105.319834   89.021460   4NJv3   84.038886   \n",
       "245       NaN         NaN         NaN         NaN   f8Za8  134.766305   \n",
       "337       NaN         NaN         NaN         NaN   uHDh2  107.813044   \n",
       "579     ObOme  125.152152  103.767759  125.152152     NaN         NaN   \n",
       "978     g4FRZ  101.438809  102.105367  101.438809     NaN         NaN   \n",
       "...       ...         ...         ...         ...     ...         ...   \n",
       "98907     NaN         NaN         NaN         NaN   0XAXY  137.945408   \n",
       "99634     NaN         NaN         NaN         NaN   rhKZE  110.992147   \n",
       "99683     NaN         NaN         NaN         NaN     NaN         NaN   \n",
       "99692     NaN         NaN         NaN         NaN     NaN         NaN   \n",
       "99935     NaN         NaN         NaN         NaN     NaN         NaN   \n",
       "\n",
       "                              sample3                                      \n",
       "      predictions      target      id     product predictions      target  \n",
       "31      83.619069   84.038886     NaN         NaN         NaN         NaN  \n",
       "245    136.097011  134.766305     NaN         NaN         NaN         NaN  \n",
       "337    108.864388  107.813044     NaN         NaN         NaN         NaN  \n",
       "579           NaN         NaN     NaN         NaN         NaN         NaN  \n",
       "978           NaN         NaN     NaN         NaN         NaN         NaN  \n",
       "...           ...         ...     ...         ...         ...         ...  \n",
       "98907  137.496716  137.945408     NaN         NaN         NaN         NaN  \n",
       "99634  110.994580  110.992147     NaN         NaN         NaN         NaN  \n",
       "99683         NaN         NaN   bVGjz  120.589305  101.676055  120.589305  \n",
       "99692         NaN         NaN   pJGkc  121.248291  139.689105  121.248291  \n",
       "99935         NaN         NaN   D0LVY  132.426527  119.527274  132.426527  \n",
       "\n",
       "[595 rows x 12 columns]"
      ]
     },
     "execution_count": 81,
     "metadata": {},
     "output_type": "execute_result"
    }
   ],
   "source": [
    "pd.concat([selected1, selected2, selected3], keys=['sample1', 'sample2', 'sample3'], axis=1)"
   ]
  },
  {
   "cell_type": "markdown",
   "metadata": {},
   "source": [
    "<div class=\"alert alert-danger\">\n",
    "    <s>Looking at this tables it seems that you did merging incorrectly</s>\n",
    "</div>"
   ]
  },
  {
   "cell_type": "markdown",
   "metadata": {},
   "source": [
    "### 4.2. Summarize the target volume of reserves in accordance with these predictions"
   ]
  },
  {
   "cell_type": "code",
   "execution_count": 82,
   "metadata": {},
   "outputs": [],
   "source": [
    "mean1_p=selected1['predictions'].mean()\n",
    "mean2_p=selected2['predictions'].mean()\n",
    "mean3_p=selected3['predictions'].mean()"
   ]
  },
  {
   "cell_type": "code",
   "execution_count": 83,
   "metadata": {},
   "outputs": [],
   "source": [
    "mean1_t= selected1['target'].mean()\n",
    "mean2_t= selected2['target'].mean()\n",
    "mean3_t= selected3['target'].mean()"
   ]
  },
  {
   "cell_type": "markdown",
   "metadata": {},
   "source": [
    "what we got is that wells on region 1 is not posible to obtain actual results and compare with predictions. Otherwise it is more precise in case of region 2 where it is more likely obtain more volume of reserves"
   ]
  },
  {
   "cell_type": "markdown",
   "metadata": {},
   "source": [
    "<div class=\"alert alert-danger\">\n",
    "    <s>Profit calculation function doesn't look correct: where does the 500000 number come from? </s>\n",
    "</div>"
   ]
  },
  {
   "cell_type": "markdown",
   "metadata": {},
   "source": [
    "### 4.3. Provide findings: suggest a region for oil wells' development and justify the choice. Calculate the profit for the obtained volume of reserves."
   ]
  },
  {
   "cell_type": "code",
   "execution_count": 84,
   "metadata": {},
   "outputs": [],
   "source": [
    "BUDGET = 100000000\n",
    "POINTS_PER_BUDGET = 200\n",
    "PRODUCT_PRICE = 4500"
   ]
  },
  {
   "cell_type": "markdown",
   "metadata": {},
   "source": [
    "<div class=\"alert alert-danger\">\n",
    "    <s>Budget is incorrect</s>\n",
    "</div>"
   ]
  },
  {
   "cell_type": "code",
   "execution_count": 85,
   "metadata": {},
   "outputs": [],
   "source": [
    "def profit(predict,target):\n",
    "    predict_sort = predict.sort_values(ascending=False)\n",
    "    target_select = target[predict_sort.index][:POINTS_PER_BUDGET]\n",
    "    profit = ((target_select.sum() * PRODUCT_PRICE) - BUDGET)\n",
    "    return profit\n"
   ]
  },
  {
   "cell_type": "code",
   "execution_count": 86,
   "metadata": {},
   "outputs": [],
   "source": [
    "profit_1=profit(selected1['predictions'], selected1['target'])\n",
    "profit_2=profit(selected2['predictions'], selected2['target'])\n",
    "profit_3=profit(selected3['predictions'], selected3['target'])"
   ]
  },
  {
   "cell_type": "markdown",
   "metadata": {},
   "source": [
    "<div class=\"alert alert-danger\">\n",
    "    <s>You use wrong indexes for prediction subsamples: they need to match target subsample indexes. Otherwise the sampling is done correctly</s>\n",
    "</div>"
   ]
  },
  {
   "cell_type": "markdown",
   "metadata": {},
   "source": [
    "<div class=\"alert alert-success\">\n",
    "    Profit function looks correct!\n",
    "</div>"
   ]
  },
  {
   "cell_type": "code",
   "execution_count": 87,
   "metadata": {
    "scrolled": true
   },
   "outputs": [
    {
     "data": {
      "text/html": [
       "<div>\n",
       "<style scoped>\n",
       "    .dataframe tbody tr th:only-of-type {\n",
       "        vertical-align: middle;\n",
       "    }\n",
       "\n",
       "    .dataframe tbody tr th {\n",
       "        vertical-align: top;\n",
       "    }\n",
       "\n",
       "    .dataframe thead th {\n",
       "        text-align: right;\n",
       "    }\n",
       "</style>\n",
       "<table border=\"1\" class=\"dataframe\">\n",
       "  <thead>\n",
       "    <tr style=\"text-align: right;\">\n",
       "      <th></th>\n",
       "      <th>Region 1</th>\n",
       "      <th>Region 2</th>\n",
       "      <th>Region 3</th>\n",
       "    </tr>\n",
       "    <tr>\n",
       "      <th>Averages</th>\n",
       "      <th></th>\n",
       "      <th></th>\n",
       "      <th></th>\n",
       "    </tr>\n",
       "  </thead>\n",
       "  <tbody>\n",
       "    <tr>\n",
       "      <td>Predict</td>\n",
       "      <td>1.150162e+02</td>\n",
       "      <td>1.133165e+02</td>\n",
       "      <td>1.140985e+02</td>\n",
       "    </tr>\n",
       "    <tr>\n",
       "      <td>Target</td>\n",
       "      <td>1.186051e+02</td>\n",
       "      <td>1.133357e+02</td>\n",
       "      <td>1.138267e+02</td>\n",
       "    </tr>\n",
       "    <tr>\n",
       "      <td>Profit</td>\n",
       "      <td>6.744562e+06</td>\n",
       "      <td>2.002128e+06</td>\n",
       "      <td>2.444034e+06</td>\n",
       "    </tr>\n",
       "  </tbody>\n",
       "</table>\n",
       "</div>"
      ],
      "text/plain": [
       "              Region 1      Region 2      Region 3\n",
       "Averages                                          \n",
       "Predict   1.150162e+02  1.133165e+02  1.140985e+02\n",
       "Target    1.186051e+02  1.133357e+02  1.138267e+02\n",
       "Profit    6.744562e+06  2.002128e+06  2.444034e+06"
      ]
     },
     "execution_count": 87,
     "metadata": {},
     "output_type": "execute_result"
    }
   ],
   "source": [
    "d= pd.DataFrame({'Region 1': [mean1_p, mean1_t, profit_1], 'Region 2': [mean2_p, mean2_t, profit_2], 'Region 3': [mean3_p, mean3_t, profit_3], 'Averages': ['Predict', 'Target', 'Profit']}) \n",
    "d.set_index('Averages')"
   ]
  },
  {
   "cell_type": "markdown",
   "metadata": {},
   "source": [
    "## Conclusion"
   ]
  },
  {
   "cell_type": "markdown",
   "metadata": {},
   "source": [
    "## In conclusion, the best region for  oil wells is the region 1 where we obtain best predicitons and best profits. The revenue function takes two inputs: predictions of the model and target. Only top 200 target values is selected as acordinf to the task. i wolud suggest to develop wells from the region 3 as a secure resource source if you want to be sure of your findings. "
   ]
  },
  {
   "cell_type": "markdown",
   "metadata": {},
   "source": [
    "<div class=\"alert alert-danger\">\n",
    "    <s>I'm sorry, but I don't understand how you reached the conclusion. It seems that you didn't calculate the profits?</s>\n",
    "</div>"
   ]
  },
  {
   "cell_type": "markdown",
   "metadata": {},
   "source": [
    "## Step 5.Calculate risks and profit for each region:"
   ]
  },
  {
   "cell_type": "markdown",
   "metadata": {},
   "source": [
    "This part we will part from the random samples and their predicitons to calculate economic metrics"
   ]
  },
  {
   "cell_type": "markdown",
   "metadata": {},
   "source": [
    "### 5.1. Use the bootstrapping technique with 1000 samples to find the distribution of profit."
   ]
  },
  {
   "cell_type": "markdown",
   "metadata": {},
   "source": [
    "Bootstrap Sampling is a method that involves drawing of sample data repeatedly with replacement from a data source to estimate a population parameter\n",
    "The process for building one sample can be summarized as follows:\n",
    "\n",
    "- Choose the size of the sample.\n",
    "- While the size of the sample is less than the chosen size\n",
    "- Randomly select an observation from the dataset\n",
    "- Add it to the sample"
   ]
  },
  {
   "cell_type": "code",
   "execution_count": 98,
   "metadata": {},
   "outputs": [],
   "source": [
    "state = np.random.RandomState(12345)"
   ]
  },
  {
   "cell_type": "markdown",
   "metadata": {},
   "source": [
    "Bootstraping is done 1000 times to 500 random wells and asdign to a vector of 1000 entries.Thus it will help us to avoid variance and outliers"
   ]
  },
  {
   "cell_type": "code",
   "execution_count": 88,
   "metadata": {
    "scrolled": true
   },
   "outputs": [],
   "source": [
    "valor_1=[]\n",
    "valor_2=[]\n",
    "valor_3=[]\n",
    "for i in range(1000):\n",
    "    target_subsample_1 = target_test_1.sample(n=500, replace=True, random_state=state)\n",
    "    target_subsample_2 = target_test_2.sample(n=500, replace=True, random_state=state)\n",
    "    target_subsample_3 = target_test_3.sample(n=500, replace=True, random_state=state)\n",
    "    pred_subsample_1 = predicted_test_1[target_subsample_1.index]\n",
    "    pred_subsample_2 = predicted_test_2[target_subsample_2.index]\n",
    "    pred_subsample_3 = predicted_test_3[target_subsample_3.index]\n",
    "    valor_1.append(profit(pred_subsample_1, target_subsample_1))\n",
    "    valor_2.append(profit(pred_subsample_2, target_subsample_2))\n",
    "    valor_3.append(profit(pred_subsample_3, target_subsample_3))"
   ]
  },
  {
   "cell_type": "markdown",
   "metadata": {},
   "source": [
    "<div class=\"alert alert-danger\">\n",
    "    <s>The code fails here, and it seems to just repeat the code from an earlier cell?</s>\n",
    "</div>"
   ]
  },
  {
   "cell_type": "markdown",
   "metadata": {},
   "source": [
    "<div class=\"alert alert-danger\">\n",
    "    <s>You shouldn't reset index here, it leads to incorrect matching of targets and predictions</s>\n",
    "</div>"
   ]
  },
  {
   "cell_type": "markdown",
   "metadata": {},
   "source": [
    "### 5.2. Find average profit, 95% confidence interval and risk of losses. Loss is negative profit, calculate it as a probability and then express as a percentage."
   ]
  },
  {
   "cell_type": "code",
   "execution_count": 89,
   "metadata": {},
   "outputs": [],
   "source": [
    "from scipy import stats as st"
   ]
  },
  {
   "cell_type": "markdown",
   "metadata": {},
   "source": [
    "We continue calculating the interval confidence with an 95% average profit"
   ]
  },
  {
   "cell_type": "markdown",
   "metadata": {},
   "source": [
    "<div class=\"alert alert-danger\">\n",
    "    <s>You can just use the quantiles you calculated as confidence interval ends</s>\n",
    "</div>"
   ]
  },
  {
   "cell_type": "code",
   "execution_count": 90,
   "metadata": {},
   "outputs": [
    {
     "name": "stdout",
     "output_type": "stream",
     "text": [
      "Confidence Interval of region 1: (4807568.056063165, 5160774.05503172)\n",
      "Lowest quantile of region 1: -473629.4474139641\n",
      "Highest quantile of region 1: 10522166.258761182\n"
     ]
    }
   ],
   "source": [
    "bprofit_1=pd.Series(valor_1)\n",
    "ci_1= st.t.interval(0.95, len(bprofit_1)-1, bprofit_1.mean(), bprofit_1.sem())\n",
    "l1=bprofit_1.quantile(0.025)\n",
    "h1=bprofit_1.quantile(0.975)\n",
    "print('Confidence Interval of region 1:',(ci_1) )\n",
    "print('Lowest quantile of region 1:',l1)\n",
    "print('Highest quantile of region 1:',h1)"
   ]
  },
  {
   "cell_type": "code",
   "execution_count": 91,
   "metadata": {},
   "outputs": [
    {
     "name": "stdout",
     "output_type": "stream",
     "text": [
      "Confidence Interval of region 1: (5010538.415492756, 5283173.8981914185)\n",
      "Lowest quantile of region 2: 979003.3250564099\n",
      "Highest quantile of region 2: 9714736.64155847\n"
     ]
    }
   ],
   "source": [
    "bprofit_2=pd.Series(valor_2)\n",
    "ci_2= st.t.interval(0.95, len(bprofit_2)-1, bprofit_2.mean(), bprofit_2.sem())\n",
    "l2=bprofit_2.quantile(0.025)\n",
    "h2=bprofit_2.quantile(0.975)\n",
    "print('Confidence Interval of region 1:',ci_2)\n",
    "print('Lowest quantile of region 2:',l2)\n",
    "print('Highest quantile of region 2:',h2)"
   ]
  },
  {
   "cell_type": "code",
   "execution_count": 92,
   "metadata": {},
   "outputs": [
    {
     "name": "stdout",
     "output_type": "stream",
     "text": [
      "Confidence Interval of region 3: (3901080.235711201, 4236025.632198582)\n",
      "Lowest quantile of region 3: -1223422.6408518471\n",
      "Highest quantile of region 3: 9184689.950229311\n"
     ]
    }
   ],
   "source": [
    "bprofit_3=pd.Series(valor_3)\n",
    "ci_3= st.t.interval(0.95, len(bprofit_3)-1, bprofit_3.mean(), bprofit_3.sem())\n",
    "l3=bprofit_3.quantile(0.025)\n",
    "h3=bprofit_3.quantile(0.975)\n",
    "print('Confidence Interval of region 3:',ci_3)\n",
    "print('Lowest quantile of region 3:',l3)\n",
    "print('Highest quantile of region 3:',h3)"
   ]
  },
  {
   "cell_type": "markdown",
   "metadata": {},
   "source": [
    "Time for calculate the risk and  losses "
   ]
  },
  {
   "cell_type": "code",
   "execution_count": 93,
   "metadata": {},
   "outputs": [
    {
     "data": {
      "text/plain": [
       "0.0"
      ]
     },
     "execution_count": 93,
     "metadata": {},
     "output_type": "execute_result"
    }
   ],
   "source": [
    "total= bprofit_1+bprofit_2+bprofit_3\n",
    "risk = np.mean(total < 0)\n",
    "risk"
   ]
  },
  {
   "cell_type": "markdown",
   "metadata": {},
   "source": [
    "<div class=\"alert alert-danger\">\n",
    "    <s>You don't need to do the bootstrapping again to calculate risk of losses. As stated above: 'Loss is negative profit, calculate it as a probability and then express as a percentage'</s>\n",
    "</div>"
   ]
  },
  {
   "cell_type": "markdown",
   "metadata": {},
   "source": [
    "I express it as a percentaje "
   ]
  },
  {
   "cell_type": "code",
   "execution_count": 94,
   "metadata": {
    "scrolled": true
   },
   "outputs": [
    {
     "name": "stdout",
     "output_type": "stream",
     "text": [
      "risk in region 1:  0.036\n",
      "risk in region 2:  0.008\n",
      "risk in region 3:  0.07\n"
     ]
    }
   ],
   "source": [
    "\n",
    "risk1 = np.mean(bprofit_1 < 0)\n",
    "risk2 = np.mean(bprofit_2 < 0)\n",
    "risk3 = np.mean(bprofit_3 < 0)\n",
    "print(\"risk in region 1: \",risk1)\n",
    "print(\"risk in region 2: \",risk2)\n",
    "print(\"risk in region 3: \",risk3)"
   ]
  },
  {
   "cell_type": "markdown",
   "metadata": {},
   "source": [
    "<div class=\"alert alert-success\">\n",
    "    Yep, this works\n",
    "</div>"
   ]
  },
  {
   "cell_type": "code",
   "execution_count": 95,
   "metadata": {},
   "outputs": [
    {
     "data": {
      "text/html": [
       "<div>\n",
       "<style scoped>\n",
       "    .dataframe tbody tr th:only-of-type {\n",
       "        vertical-align: middle;\n",
       "    }\n",
       "\n",
       "    .dataframe tbody tr th {\n",
       "        vertical-align: top;\n",
       "    }\n",
       "\n",
       "    .dataframe thead th {\n",
       "        text-align: right;\n",
       "    }\n",
       "</style>\n",
       "<table border=\"1\" class=\"dataframe\">\n",
       "  <thead>\n",
       "    <tr style=\"text-align: right;\">\n",
       "      <th></th>\n",
       "      <th>Region1</th>\n",
       "      <th>Region2</th>\n",
       "      <th>Region3</th>\n",
       "    </tr>\n",
       "    <tr>\n",
       "      <th>Metrics</th>\n",
       "      <th></th>\n",
       "      <th></th>\n",
       "      <th></th>\n",
       "    </tr>\n",
       "  </thead>\n",
       "  <tbody>\n",
       "    <tr>\n",
       "      <td>IC</td>\n",
       "      <td>[4807568.06, 5160774.06]</td>\n",
       "      <td>[5010538.42, 5283173.9]</td>\n",
       "      <td>[3901080.24, 4236025.63]</td>\n",
       "    </tr>\n",
       "    <tr>\n",
       "      <td>Low_quantile</td>\n",
       "      <td>-473629</td>\n",
       "      <td>979003</td>\n",
       "      <td>-1.22342e+06</td>\n",
       "    </tr>\n",
       "    <tr>\n",
       "      <td>High_quantile</td>\n",
       "      <td>1.05222e+07</td>\n",
       "      <td>9.71474e+06</td>\n",
       "      <td>9.18469e+06</td>\n",
       "    </tr>\n",
       "  </tbody>\n",
       "</table>\n",
       "</div>"
      ],
      "text/plain": [
       "                                Region1                  Region2  \\\n",
       "Metrics                                                            \n",
       "IC             [4807568.06, 5160774.06]  [5010538.42, 5283173.9]   \n",
       "Low_quantile                    -473629                   979003   \n",
       "High_quantile               1.05222e+07              9.71474e+06   \n",
       "\n",
       "                                Region3  \n",
       "Metrics                                  \n",
       "IC             [3901080.24, 4236025.63]  \n",
       "Low_quantile               -1.22342e+06  \n",
       "High_quantile               9.18469e+06  "
      ]
     },
     "execution_count": 95,
     "metadata": {},
     "output_type": "execute_result"
    }
   ],
   "source": [
    "d= {'Region1': [np.round(ci_1, decimals=2), l1, h1], 'Region2': [np.round(ci_2, decimals=2), l2, h2], 'Region3': [np.round(ci_3, decimals=2), l3, h3], 'Metrics': ['IC', 'Low_quantile', 'High_quantile']}\n",
    "pd.DataFrame(d).set_index('Metrics')"
   ]
  },
  {
   "cell_type": "markdown",
   "metadata": {},
   "source": [
    "### 5.3 Provide findings: suggest a region for development of oil wells and justify the choice."
   ]
  },
  {
   "cell_type": "markdown",
   "metadata": {},
   "source": [
    "## Conclusion"
   ]
  },
  {
   "cell_type": "markdown",
   "metadata": {},
   "source": [
    "## We can assume with a Confidence interval is 95% that we will find more stability in Region 2 so it means that its is probable to not fall out the CI. On the other hand we find more disparity in Region 3 because its extreme values present a big distance between them so it is not good for your future findings. To conlcude, region 3 is the place where there a risk of losses higher tan the rest of regions. It seems that region 2 is more adecaute for development as its establish CI shows and its lower risk of losses"
   ]
  },
  {
   "cell_type": "markdown",
   "metadata": {},
   "source": [
    "<div class=\"alert alert-danger\">\n",
    "    <s><ul>\n",
    "        <li>The confidence intervals don't seem correct.\n",
    "        <li>You also need to calculate risk of losses.\n",
    "        <li>There is no analysis of your findings\n",
    "        </ul></s>\n",
    "</div>"
   ]
  },
  {
   "cell_type": "markdown",
   "metadata": {},
   "source": [
    "<div class=\"alert alert-danger\">\n",
    "    <s>There are possible negative profits in the region 3, so risk of losses can't be 0 at least in that region.</s>\n",
    "</div>"
   ]
  },
  {
   "cell_type": "markdown",
   "metadata": {},
   "source": [
    "<div class=\"alert alert-success\">\n",
    "    Ok, reasonable\n",
    "</div>"
   ]
  },
  {
   "cell_type": "code",
   "execution_count": null,
   "metadata": {},
   "outputs": [],
   "source": []
  }
 ],
 "metadata": {
  "kernelspec": {
   "display_name": "Python 3",
   "language": "python",
   "name": "python3"
  },
  "language_info": {
   "codemirror_mode": {
    "name": "ipython",
    "version": 3
   },
   "file_extension": ".py",
   "mimetype": "text/x-python",
   "name": "python",
   "nbconvert_exporter": "python",
   "pygments_lexer": "ipython3",
   "version": "3.7.1"
  },
  "toc": {
   "base_numbering": 1,
   "nav_menu": {},
   "number_sections": true,
   "sideBar": true,
   "skip_h1_title": false,
   "title_cell": "Table of Contents",
   "title_sidebar": "Contents",
   "toc_cell": false,
   "toc_position": {},
   "toc_section_display": true,
   "toc_window_display": false
  }
 },
 "nbformat": 4,
 "nbformat_minor": 2
}

{
 "cells": [
  {
   "cell_type": "markdown",
   "metadata": {},
   "source": [
    "<font color='blue'> \n",
    "### <u>REVIEWER INTRO</u>\n",
    "<br />\n",
    "Hi Pablo, my name is Andrey. I am glad to be your reviewer in this project.<br />\n",
    "    \n",
    "You can find my comments under the heading **\"<u>REVIEWER COMMENT</u>\"** marked with color depending on the completeness:<br/>\n",
    "<div class=\"alert alert-block alert-success\">\n",
    "<b>Success:</b> if everything is done succesfully.\n",
    "</div>\n",
    "<div class=\"alert alert-block alert-warning\">\n",
    "<b>Remarks:</b> if there is an area for improvement an I could give some recommendations. Yellow comment is not a hurdle to accept the work.\n",
    "</div>\n",
    "<div class=\"alert alert-block alert-danger\">\n",
    "<b>Needs fixing:</b> if the block requires some corrections. Work can't be accepted with the red comments.\n",
    "</div>\n",
    "\n",
    "At the end of the notebook I put a colored reviewer summary block under the heading **\"<u>REVIEWER SUMMARY</u>\"** where give overall conclusion about your project.\n",
    "    \n",
    "OK, now let's go.\n",
    "</font>"
   ]
  },
  {
   "cell_type": "markdown",
   "metadata": {},
   "source": [
    "## Firstly, thanks for your recommendations and help with this project. i hope i meet your expecations.\n",
    "## I completed what you demand me to do and i think it is done (Step 2)"
   ]
  },
  {
   "cell_type": "markdown",
   "metadata": {},
   "source": [
    "<font color='Green'> \n",
    "### <u>UPD 1 REVIEWER COMMENT</u>\n",
    "<br/>\n",
    "<div class=\"alert alert-block alert-success\">\n",
    "Pablo, thank you for the new revision. My next comments are marked like this. And please find my updated summary at the bottom.\n",
    "</div>\n",
    "</font>"
   ]
  },
  {
   "cell_type": "markdown",
   "metadata": {},
   "source": [
    "<font color='Yellow'> \n",
    "### <u>REVIEWER COMMENT</u>\n",
    "<br/>\n",
    "<div class=\"alert alert-block alert-warning\">\n",
    "It is good practice to start the report giving short brief about the project, its task, description of data, and action plan we are going to take. It makes our report more presentable and understandable for everyone who could read the notebook.\n",
    "</div>\n",
    "</font>"
   ]
  },
  {
   "cell_type": "markdown",
   "metadata": {},
   "source": [
    "# Project Beta Bank customers"
   ]
  },
  {
   "cell_type": "markdown",
   "metadata": {},
   "source": [
    "Beta Bank customers are leaving: little by little, chipping away every month. The bankers figured out it’s cheaper to save the existing customers rather than to attract new ones\n",
    "<br> We need to predict whether a customer will leave the bank soon. You have the data on clients’ past behavior and termination of contracts with the bank.\n",
    "Build a model with the maximum possible F1 score. To pass the project, you need an F1 score of at least 0.59"
   ]
  },
  {
   "cell_type": "markdown",
   "metadata": {},
   "source": [
    "## Step 1. Download and prepare the data"
   ]
  },
  {
   "cell_type": "code",
   "execution_count": 1,
   "metadata": {},
   "outputs": [],
   "source": [
    "import pandas as pd\n",
    "from sklearn.model_selection import train_test_split\n",
    "from sklearn.preprocessing import StandardScaler"
   ]
  },
  {
   "cell_type": "code",
   "execution_count": 2,
   "metadata": {},
   "outputs": [
    {
     "ename": "FileNotFoundError",
     "evalue": "File b'/datasets/Churn.csv' does not exist",
     "output_type": "error",
     "traceback": [
      "\u001b[1;31m---------------------------------------------------------------------------\u001b[0m",
      "\u001b[1;31mFileNotFoundError\u001b[0m                         Traceback (most recent call last)",
      "\u001b[1;32m<ipython-input-2-bcd9f8b00959>\u001b[0m in \u001b[0;36m<module>\u001b[1;34m\u001b[0m\n\u001b[1;32m----> 1\u001b[1;33m \u001b[0mdata\u001b[0m \u001b[1;33m=\u001b[0m \u001b[0mpd\u001b[0m\u001b[1;33m.\u001b[0m\u001b[0mread_csv\u001b[0m\u001b[1;33m(\u001b[0m\u001b[1;34m'/datasets/Churn.csv'\u001b[0m\u001b[1;33m)\u001b[0m\u001b[1;33m\u001b[0m\u001b[1;33m\u001b[0m\u001b[0m\n\u001b[0m\u001b[0;32m      2\u001b[0m \u001b[0mdata\u001b[0m\u001b[1;33m.\u001b[0m\u001b[0minfo\u001b[0m\u001b[1;33m(\u001b[0m\u001b[1;33m)\u001b[0m\u001b[1;33m\u001b[0m\u001b[1;33m\u001b[0m\u001b[0m\n\u001b[0;32m      3\u001b[0m \u001b[0mdata\u001b[0m\u001b[1;33m\u001b[0m\u001b[1;33m\u001b[0m\u001b[0m\n",
      "\u001b[1;32m~\\Anaconda3\\lib\\site-packages\\pandas\\io\\parsers.py\u001b[0m in \u001b[0;36mparser_f\u001b[1;34m(filepath_or_buffer, sep, delimiter, header, names, index_col, usecols, squeeze, prefix, mangle_dupe_cols, dtype, engine, converters, true_values, false_values, skipinitialspace, skiprows, nrows, na_values, keep_default_na, na_filter, verbose, skip_blank_lines, parse_dates, infer_datetime_format, keep_date_col, date_parser, dayfirst, iterator, chunksize, compression, thousands, decimal, lineterminator, quotechar, quoting, escapechar, comment, encoding, dialect, tupleize_cols, error_bad_lines, warn_bad_lines, skipfooter, doublequote, delim_whitespace, low_memory, memory_map, float_precision)\u001b[0m\n\u001b[0;32m    676\u001b[0m                     skip_blank_lines=skip_blank_lines)\n\u001b[0;32m    677\u001b[0m \u001b[1;33m\u001b[0m\u001b[0m\n\u001b[1;32m--> 678\u001b[1;33m         \u001b[1;32mreturn\u001b[0m \u001b[0m_read\u001b[0m\u001b[1;33m(\u001b[0m\u001b[0mfilepath_or_buffer\u001b[0m\u001b[1;33m,\u001b[0m \u001b[0mkwds\u001b[0m\u001b[1;33m)\u001b[0m\u001b[1;33m\u001b[0m\u001b[1;33m\u001b[0m\u001b[0m\n\u001b[0m\u001b[0;32m    679\u001b[0m \u001b[1;33m\u001b[0m\u001b[0m\n\u001b[0;32m    680\u001b[0m     \u001b[0mparser_f\u001b[0m\u001b[1;33m.\u001b[0m\u001b[0m__name__\u001b[0m \u001b[1;33m=\u001b[0m \u001b[0mname\u001b[0m\u001b[1;33m\u001b[0m\u001b[1;33m\u001b[0m\u001b[0m\n",
      "\u001b[1;32m~\\Anaconda3\\lib\\site-packages\\pandas\\io\\parsers.py\u001b[0m in \u001b[0;36m_read\u001b[1;34m(filepath_or_buffer, kwds)\u001b[0m\n\u001b[0;32m    438\u001b[0m \u001b[1;33m\u001b[0m\u001b[0m\n\u001b[0;32m    439\u001b[0m     \u001b[1;31m# Create the parser.\u001b[0m\u001b[1;33m\u001b[0m\u001b[1;33m\u001b[0m\u001b[1;33m\u001b[0m\u001b[0m\n\u001b[1;32m--> 440\u001b[1;33m     \u001b[0mparser\u001b[0m \u001b[1;33m=\u001b[0m \u001b[0mTextFileReader\u001b[0m\u001b[1;33m(\u001b[0m\u001b[0mfilepath_or_buffer\u001b[0m\u001b[1;33m,\u001b[0m \u001b[1;33m**\u001b[0m\u001b[0mkwds\u001b[0m\u001b[1;33m)\u001b[0m\u001b[1;33m\u001b[0m\u001b[1;33m\u001b[0m\u001b[0m\n\u001b[0m\u001b[0;32m    441\u001b[0m \u001b[1;33m\u001b[0m\u001b[0m\n\u001b[0;32m    442\u001b[0m     \u001b[1;32mif\u001b[0m \u001b[0mchunksize\u001b[0m \u001b[1;32mor\u001b[0m \u001b[0miterator\u001b[0m\u001b[1;33m:\u001b[0m\u001b[1;33m\u001b[0m\u001b[1;33m\u001b[0m\u001b[0m\n",
      "\u001b[1;32m~\\Anaconda3\\lib\\site-packages\\pandas\\io\\parsers.py\u001b[0m in \u001b[0;36m__init__\u001b[1;34m(self, f, engine, **kwds)\u001b[0m\n\u001b[0;32m    785\u001b[0m             \u001b[0mself\u001b[0m\u001b[1;33m.\u001b[0m\u001b[0moptions\u001b[0m\u001b[1;33m[\u001b[0m\u001b[1;34m'has_index_names'\u001b[0m\u001b[1;33m]\u001b[0m \u001b[1;33m=\u001b[0m \u001b[0mkwds\u001b[0m\u001b[1;33m[\u001b[0m\u001b[1;34m'has_index_names'\u001b[0m\u001b[1;33m]\u001b[0m\u001b[1;33m\u001b[0m\u001b[1;33m\u001b[0m\u001b[0m\n\u001b[0;32m    786\u001b[0m \u001b[1;33m\u001b[0m\u001b[0m\n\u001b[1;32m--> 787\u001b[1;33m         \u001b[0mself\u001b[0m\u001b[1;33m.\u001b[0m\u001b[0m_make_engine\u001b[0m\u001b[1;33m(\u001b[0m\u001b[0mself\u001b[0m\u001b[1;33m.\u001b[0m\u001b[0mengine\u001b[0m\u001b[1;33m)\u001b[0m\u001b[1;33m\u001b[0m\u001b[1;33m\u001b[0m\u001b[0m\n\u001b[0m\u001b[0;32m    788\u001b[0m \u001b[1;33m\u001b[0m\u001b[0m\n\u001b[0;32m    789\u001b[0m     \u001b[1;32mdef\u001b[0m \u001b[0mclose\u001b[0m\u001b[1;33m(\u001b[0m\u001b[0mself\u001b[0m\u001b[1;33m)\u001b[0m\u001b[1;33m:\u001b[0m\u001b[1;33m\u001b[0m\u001b[1;33m\u001b[0m\u001b[0m\n",
      "\u001b[1;32m~\\Anaconda3\\lib\\site-packages\\pandas\\io\\parsers.py\u001b[0m in \u001b[0;36m_make_engine\u001b[1;34m(self, engine)\u001b[0m\n\u001b[0;32m   1012\u001b[0m     \u001b[1;32mdef\u001b[0m \u001b[0m_make_engine\u001b[0m\u001b[1;33m(\u001b[0m\u001b[0mself\u001b[0m\u001b[1;33m,\u001b[0m \u001b[0mengine\u001b[0m\u001b[1;33m=\u001b[0m\u001b[1;34m'c'\u001b[0m\u001b[1;33m)\u001b[0m\u001b[1;33m:\u001b[0m\u001b[1;33m\u001b[0m\u001b[1;33m\u001b[0m\u001b[0m\n\u001b[0;32m   1013\u001b[0m         \u001b[1;32mif\u001b[0m \u001b[0mengine\u001b[0m \u001b[1;33m==\u001b[0m \u001b[1;34m'c'\u001b[0m\u001b[1;33m:\u001b[0m\u001b[1;33m\u001b[0m\u001b[1;33m\u001b[0m\u001b[0m\n\u001b[1;32m-> 1014\u001b[1;33m             \u001b[0mself\u001b[0m\u001b[1;33m.\u001b[0m\u001b[0m_engine\u001b[0m \u001b[1;33m=\u001b[0m \u001b[0mCParserWrapper\u001b[0m\u001b[1;33m(\u001b[0m\u001b[0mself\u001b[0m\u001b[1;33m.\u001b[0m\u001b[0mf\u001b[0m\u001b[1;33m,\u001b[0m \u001b[1;33m**\u001b[0m\u001b[0mself\u001b[0m\u001b[1;33m.\u001b[0m\u001b[0moptions\u001b[0m\u001b[1;33m)\u001b[0m\u001b[1;33m\u001b[0m\u001b[1;33m\u001b[0m\u001b[0m\n\u001b[0m\u001b[0;32m   1015\u001b[0m         \u001b[1;32melse\u001b[0m\u001b[1;33m:\u001b[0m\u001b[1;33m\u001b[0m\u001b[1;33m\u001b[0m\u001b[0m\n\u001b[0;32m   1016\u001b[0m             \u001b[1;32mif\u001b[0m \u001b[0mengine\u001b[0m \u001b[1;33m==\u001b[0m \u001b[1;34m'python'\u001b[0m\u001b[1;33m:\u001b[0m\u001b[1;33m\u001b[0m\u001b[1;33m\u001b[0m\u001b[0m\n",
      "\u001b[1;32m~\\Anaconda3\\lib\\site-packages\\pandas\\io\\parsers.py\u001b[0m in \u001b[0;36m__init__\u001b[1;34m(self, src, **kwds)\u001b[0m\n\u001b[0;32m   1706\u001b[0m         \u001b[0mkwds\u001b[0m\u001b[1;33m[\u001b[0m\u001b[1;34m'usecols'\u001b[0m\u001b[1;33m]\u001b[0m \u001b[1;33m=\u001b[0m \u001b[0mself\u001b[0m\u001b[1;33m.\u001b[0m\u001b[0musecols\u001b[0m\u001b[1;33m\u001b[0m\u001b[1;33m\u001b[0m\u001b[0m\n\u001b[0;32m   1707\u001b[0m \u001b[1;33m\u001b[0m\u001b[0m\n\u001b[1;32m-> 1708\u001b[1;33m         \u001b[0mself\u001b[0m\u001b[1;33m.\u001b[0m\u001b[0m_reader\u001b[0m \u001b[1;33m=\u001b[0m \u001b[0mparsers\u001b[0m\u001b[1;33m.\u001b[0m\u001b[0mTextReader\u001b[0m\u001b[1;33m(\u001b[0m\u001b[0msrc\u001b[0m\u001b[1;33m,\u001b[0m \u001b[1;33m**\u001b[0m\u001b[0mkwds\u001b[0m\u001b[1;33m)\u001b[0m\u001b[1;33m\u001b[0m\u001b[1;33m\u001b[0m\u001b[0m\n\u001b[0m\u001b[0;32m   1709\u001b[0m \u001b[1;33m\u001b[0m\u001b[0m\n\u001b[0;32m   1710\u001b[0m         \u001b[0mpassed_names\u001b[0m \u001b[1;33m=\u001b[0m \u001b[0mself\u001b[0m\u001b[1;33m.\u001b[0m\u001b[0mnames\u001b[0m \u001b[1;32mis\u001b[0m \u001b[1;32mNone\u001b[0m\u001b[1;33m\u001b[0m\u001b[1;33m\u001b[0m\u001b[0m\n",
      "\u001b[1;32mpandas\\_libs\\parsers.pyx\u001b[0m in \u001b[0;36mpandas._libs.parsers.TextReader.__cinit__\u001b[1;34m()\u001b[0m\n",
      "\u001b[1;32mpandas\\_libs\\parsers.pyx\u001b[0m in \u001b[0;36mpandas._libs.parsers.TextReader._setup_parser_source\u001b[1;34m()\u001b[0m\n",
      "\u001b[1;31mFileNotFoundError\u001b[0m: File b'/datasets/Churn.csv' does not exist"
     ]
    }
   ],
   "source": [
    "data = pd.read_csv('/datasets/Churn.csv')\n",
    "data.info()\n",
    "data\n"
   ]
  },
  {
   "cell_type": "code",
   "execution_count": 3,
   "metadata": {},
   "outputs": [],
   "source": [
    "data.columns=['row_number', 'customer_id', 'surname', 'credit_score', 'geography', 'gender', 'age', 'tenure', 'balance', 'num_of_products', 'has_cr_card', 'is_active_member', 'estimated_salary', 'exited']\n"
   ]
  },
  {
   "cell_type": "code",
   "execution_count": 4,
   "metadata": {},
   "outputs": [
    {
     "data": {
      "text/plain": [
       "row_number          0.0000\n",
       "customer_id         0.0000\n",
       "surname             0.0000\n",
       "credit_score        0.0000\n",
       "geography           0.0000\n",
       "gender              0.0000\n",
       "age                 0.0000\n",
       "tenure              0.0909\n",
       "balance             0.0000\n",
       "num_of_products     0.0000\n",
       "has_cr_card         0.0000\n",
       "is_active_member    0.0000\n",
       "estimated_salary    0.0000\n",
       "exited              0.0000\n",
       "dtype: float64"
      ]
     },
     "execution_count": 4,
     "metadata": {},
     "output_type": "execute_result"
    }
   ],
   "source": [
    "data.isna().mean()"
   ]
  },
  {
   "cell_type": "code",
   "execution_count": 5,
   "metadata": {},
   "outputs": [],
   "source": [
    "data.dropna(inplace=True)\n"
   ]
  },
  {
   "cell_type": "markdown",
   "metadata": {},
   "source": [
    "### Conclusion"
   ]
  },
  {
   "cell_type": "markdown",
   "metadata": {},
   "source": [
    "## We have got inside of feature variables many categorical ones as (Surname, Geography, Gender). The tenure value present almost a 1% of missing values."
   ]
  },
  {
   "cell_type": "markdown",
   "metadata": {},
   "source": [
    "<font color='Green'> \n",
    "### <u>REVIEWER COMMENT</u>\n",
    "<br/>\n",
    "<div class=\"alert alert-block alert-success\">\n",
    "Ok, we have the data loaded and studied. Good start.\n",
    "</div>\n",
    "</font>"
   ]
  },
  {
   "cell_type": "markdown",
   "metadata": {},
   "source": [
    "### Prepare data for Logistic Regressor, Linear Regression and RandomForest regressor"
   ]
  },
  {
   "cell_type": "markdown",
   "metadata": {},
   "source": [
    "We need to convert the categorical features into numerical ones and remember that we need to be sure to not fall into dummy trap. We split the data into training data and validation data (25%)"
   ]
  },
  {
   "cell_type": "code",
   "execution_count": 6,
   "metadata": {},
   "outputs": [],
   "source": [
    "data_ohe = pd.get_dummies(data, drop_first=True)\n",
    "target = data_ohe['exited']\n",
    "features = data_ohe.drop(['exited'] , axis=1)\n",
    "features_train_n, features_valid_n, target_train_n, target_valid_n = train_test_split(features, target, test_size=0.25, random_state=12345)"
   ]
  },
  {
   "cell_type": "markdown",
   "metadata": {},
   "source": [
    "It is important that we scale the data and we work on normaliza features data"
   ]
  },
  {
   "cell_type": "code",
   "execution_count": 7,
   "metadata": {},
   "outputs": [
    {
     "name": "stdout",
     "output_type": "stream",
     "text": [
      "(6818, 2799)\n",
      "(2273, 2799)\n"
     ]
    },
    {
     "name": "stderr",
     "output_type": "stream",
     "text": [
      "/opt/conda/lib/python3.7/site-packages/ipykernel_launcher.py:4: SettingWithCopyWarning: \n",
      "A value is trying to be set on a copy of a slice from a DataFrame.\n",
      "Try using .loc[row_indexer,col_indexer] = value instead\n",
      "\n",
      "See the caveats in the documentation: http://pandas.pydata.org/pandas-docs/stable/user_guide/indexing.html#returning-a-view-versus-a-copy\n",
      "  after removing the cwd from sys.path.\n",
      "/opt/conda/lib/python3.7/site-packages/pandas/core/indexing.py:494: SettingWithCopyWarning: \n",
      "A value is trying to be set on a copy of a slice from a DataFrame.\n",
      "Try using .loc[row_indexer,col_indexer] = value instead\n",
      "\n",
      "See the caveats in the documentation: http://pandas.pydata.org/pandas-docs/stable/user_guide/indexing.html#returning-a-view-versus-a-copy\n",
      "  self.obj[item] = s\n",
      "/opt/conda/lib/python3.7/site-packages/ipykernel_launcher.py:5: SettingWithCopyWarning: \n",
      "A value is trying to be set on a copy of a slice from a DataFrame.\n",
      "Try using .loc[row_indexer,col_indexer] = value instead\n",
      "\n",
      "See the caveats in the documentation: http://pandas.pydata.org/pandas-docs/stable/user_guide/indexing.html#returning-a-view-versus-a-copy\n",
      "  \"\"\"\n",
      "/opt/conda/lib/python3.7/site-packages/pandas/core/indexing.py:494: SettingWithCopyWarning: \n",
      "A value is trying to be set on a copy of a slice from a DataFrame.\n",
      "Try using .loc[row_indexer,col_indexer] = value instead\n",
      "\n",
      "See the caveats in the documentation: http://pandas.pydata.org/pandas-docs/stable/user_guide/indexing.html#returning-a-view-versus-a-copy\n",
      "  self.obj[item] = s\n"
     ]
    }
   ],
   "source": [
    "numeric= ['customer_id', 'credit_score', 'age', 'tenure', 'balance','estimated_salary', 'num_of_products']\n",
    "scaler = StandardScaler()\n",
    "scaler.fit(features_train_n[numeric])\n",
    "features_train_n[numeric] = scaler.transform(features_train_n[numeric])\n",
    "features_valid_n[numeric] = scaler.transform(features_valid_n[numeric])\n",
    "\n",
    "print(features_train_n.shape)\n",
    "print(features_valid_n.shape)"
   ]
  },
  {
   "cell_type": "markdown",
   "metadata": {},
   "source": [
    "<font color='Green'> \n",
    "### <u>REVIEWER COMMENT</u>\n",
    "<br/>\n",
    "<div class=\"alert alert-block alert-success\">\n",
    "Categorical features transformed with One Hot Encoding technique, numerical features have been scaled. Good job.\n",
    "</div>\n",
    "<div class=\"alert alert-block alert-warning\">\n",
    "Are such features as row_number, customer_id, surname really usefull?\n",
    "</div>\n",
    "</font>"
   ]
  },
  {
   "cell_type": "markdown",
   "metadata": {},
   "source": [
    "### Prepare data for DecisionTree and RandomForest classifier"
   ]
  },
  {
   "cell_type": "code",
   "execution_count": 8,
   "metadata": {},
   "outputs": [],
   "source": [
    "from sklearn.tree import DecisionTreeClassifier\n",
    "from sklearn.ensemble import RandomForestClassifier\n",
    "from sklearn.preprocessing import OrdinalEncoder"
   ]
  },
  {
   "cell_type": "markdown",
   "metadata": {},
   "source": [
    "Technique for DecisionTree or Random Forest that allows encoding textual categories with numbers"
   ]
  },
  {
   "cell_type": "code",
   "execution_count": 9,
   "metadata": {},
   "outputs": [
    {
     "name": "stdout",
     "output_type": "stream",
     "text": [
      "(6818, 13)\n",
      "(2273, 13)\n"
     ]
    },
    {
     "data": {
      "text/html": [
       "<div>\n",
       "<style scoped>\n",
       "    .dataframe tbody tr th:only-of-type {\n",
       "        vertical-align: middle;\n",
       "    }\n",
       "\n",
       "    .dataframe tbody tr th {\n",
       "        vertical-align: top;\n",
       "    }\n",
       "\n",
       "    .dataframe thead th {\n",
       "        text-align: right;\n",
       "    }\n",
       "</style>\n",
       "<table border=\"1\" class=\"dataframe\">\n",
       "  <thead>\n",
       "    <tr style=\"text-align: right;\">\n",
       "      <th></th>\n",
       "      <th>row_number</th>\n",
       "      <th>customer_id</th>\n",
       "      <th>surname</th>\n",
       "      <th>credit_score</th>\n",
       "      <th>geography</th>\n",
       "      <th>gender</th>\n",
       "      <th>age</th>\n",
       "      <th>tenure</th>\n",
       "      <th>balance</th>\n",
       "      <th>num_of_products</th>\n",
       "      <th>has_cr_card</th>\n",
       "      <th>is_active_member</th>\n",
       "      <th>estimated_salary</th>\n",
       "    </tr>\n",
       "  </thead>\n",
       "  <tbody>\n",
       "    <tr>\n",
       "      <td>1349</td>\n",
       "      <td>1349.0</td>\n",
       "      <td>393.0</td>\n",
       "      <td>933.0</td>\n",
       "      <td>156.0</td>\n",
       "      <td>1.0</td>\n",
       "      <td>0.0</td>\n",
       "      <td>25.0</td>\n",
       "      <td>3.0</td>\n",
       "      <td>4083.0</td>\n",
       "      <td>0.0</td>\n",
       "      <td>1.0</td>\n",
       "      <td>0.0</td>\n",
       "      <td>299.0</td>\n",
       "    </tr>\n",
       "    <tr>\n",
       "      <td>6740</td>\n",
       "      <td>6740.0</td>\n",
       "      <td>5068.0</td>\n",
       "      <td>2556.0</td>\n",
       "      <td>285.0</td>\n",
       "      <td>0.0</td>\n",
       "      <td>1.0</td>\n",
       "      <td>20.0</td>\n",
       "      <td>3.0</td>\n",
       "      <td>0.0</td>\n",
       "      <td>1.0</td>\n",
       "      <td>1.0</td>\n",
       "      <td>0.0</td>\n",
       "      <td>2996.0</td>\n",
       "    </tr>\n",
       "    <tr>\n",
       "      <td>6816</td>\n",
       "      <td>6816.0</td>\n",
       "      <td>3280.0</td>\n",
       "      <td>76.0</td>\n",
       "      <td>152.0</td>\n",
       "      <td>1.0</td>\n",
       "      <td>1.0</td>\n",
       "      <td>19.0</td>\n",
       "      <td>9.0</td>\n",
       "      <td>1169.0</td>\n",
       "      <td>1.0</td>\n",
       "      <td>0.0</td>\n",
       "      <td>1.0</td>\n",
       "      <td>4793.0</td>\n",
       "    </tr>\n",
       "    <tr>\n",
       "      <td>5145</td>\n",
       "      <td>5145.0</td>\n",
       "      <td>7343.0</td>\n",
       "      <td>1316.0</td>\n",
       "      <td>147.0</td>\n",
       "      <td>2.0</td>\n",
       "      <td>1.0</td>\n",
       "      <td>10.0</td>\n",
       "      <td>8.0</td>\n",
       "      <td>0.0</td>\n",
       "      <td>1.0</td>\n",
       "      <td>0.0</td>\n",
       "      <td>0.0</td>\n",
       "      <td>8970.0</td>\n",
       "    </tr>\n",
       "    <tr>\n",
       "      <td>6678</td>\n",
       "      <td>6678.0</td>\n",
       "      <td>3627.0</td>\n",
       "      <td>2168.0</td>\n",
       "      <td>210.0</td>\n",
       "      <td>0.0</td>\n",
       "      <td>1.0</td>\n",
       "      <td>22.0</td>\n",
       "      <td>4.0</td>\n",
       "      <td>1618.0</td>\n",
       "      <td>1.0</td>\n",
       "      <td>1.0</td>\n",
       "      <td>1.0</td>\n",
       "      <td>1745.0</td>\n",
       "    </tr>\n",
       "    <tr>\n",
       "      <td>...</td>\n",
       "      <td>...</td>\n",
       "      <td>...</td>\n",
       "      <td>...</td>\n",
       "      <td>...</td>\n",
       "      <td>...</td>\n",
       "      <td>...</td>\n",
       "      <td>...</td>\n",
       "      <td>...</td>\n",
       "      <td>...</td>\n",
       "      <td>...</td>\n",
       "      <td>...</td>\n",
       "      <td>...</td>\n",
       "      <td>...</td>\n",
       "    </tr>\n",
       "    <tr>\n",
       "      <td>4478</td>\n",
       "      <td>4478.0</td>\n",
       "      <td>5916.0</td>\n",
       "      <td>1464.0</td>\n",
       "      <td>380.0</td>\n",
       "      <td>1.0</td>\n",
       "      <td>1.0</td>\n",
       "      <td>16.0</td>\n",
       "      <td>10.0</td>\n",
       "      <td>3481.0</td>\n",
       "      <td>0.0</td>\n",
       "      <td>0.0</td>\n",
       "      <td>0.0</td>\n",
       "      <td>1655.0</td>\n",
       "    </tr>\n",
       "    <tr>\n",
       "      <td>4094</td>\n",
       "      <td>4094.0</td>\n",
       "      <td>152.0</td>\n",
       "      <td>2013.0</td>\n",
       "      <td>271.0</td>\n",
       "      <td>0.0</td>\n",
       "      <td>0.0</td>\n",
       "      <td>26.0</td>\n",
       "      <td>8.0</td>\n",
       "      <td>4564.0</td>\n",
       "      <td>0.0</td>\n",
       "      <td>1.0</td>\n",
       "      <td>1.0</td>\n",
       "      <td>5251.0</td>\n",
       "    </tr>\n",
       "    <tr>\n",
       "      <td>3492</td>\n",
       "      <td>3492.0</td>\n",
       "      <td>3271.0</td>\n",
       "      <td>2774.0</td>\n",
       "      <td>154.0</td>\n",
       "      <td>0.0</td>\n",
       "      <td>0.0</td>\n",
       "      <td>11.0</td>\n",
       "      <td>6.0</td>\n",
       "      <td>1727.0</td>\n",
       "      <td>0.0</td>\n",
       "      <td>1.0</td>\n",
       "      <td>1.0</td>\n",
       "      <td>1675.0</td>\n",
       "    </tr>\n",
       "    <tr>\n",
       "      <td>2177</td>\n",
       "      <td>2177.0</td>\n",
       "      <td>8735.0</td>\n",
       "      <td>1839.0</td>\n",
       "      <td>163.0</td>\n",
       "      <td>0.0</td>\n",
       "      <td>0.0</td>\n",
       "      <td>34.0</td>\n",
       "      <td>9.0</td>\n",
       "      <td>0.0</td>\n",
       "      <td>0.0</td>\n",
       "      <td>1.0</td>\n",
       "      <td>0.0</td>\n",
       "      <td>7946.0</td>\n",
       "    </tr>\n",
       "    <tr>\n",
       "      <td>4578</td>\n",
       "      <td>4578.0</td>\n",
       "      <td>4542.0</td>\n",
       "      <td>380.0</td>\n",
       "      <td>374.0</td>\n",
       "      <td>1.0</td>\n",
       "      <td>1.0</td>\n",
       "      <td>5.0</td>\n",
       "      <td>2.0</td>\n",
       "      <td>4363.0</td>\n",
       "      <td>0.0</td>\n",
       "      <td>0.0</td>\n",
       "      <td>1.0</td>\n",
       "      <td>1265.0</td>\n",
       "    </tr>\n",
       "  </tbody>\n",
       "</table>\n",
       "<p>6818 rows × 13 columns</p>\n",
       "</div>"
      ],
      "text/plain": [
       "      row_number  customer_id  surname  credit_score  geography  gender   age  \\\n",
       "1349      1349.0        393.0    933.0         156.0        1.0     0.0  25.0   \n",
       "6740      6740.0       5068.0   2556.0         285.0        0.0     1.0  20.0   \n",
       "6816      6816.0       3280.0     76.0         152.0        1.0     1.0  19.0   \n",
       "5145      5145.0       7343.0   1316.0         147.0        2.0     1.0  10.0   \n",
       "6678      6678.0       3627.0   2168.0         210.0        0.0     1.0  22.0   \n",
       "...          ...          ...      ...           ...        ...     ...   ...   \n",
       "4478      4478.0       5916.0   1464.0         380.0        1.0     1.0  16.0   \n",
       "4094      4094.0        152.0   2013.0         271.0        0.0     0.0  26.0   \n",
       "3492      3492.0       3271.0   2774.0         154.0        0.0     0.0  11.0   \n",
       "2177      2177.0       8735.0   1839.0         163.0        0.0     0.0  34.0   \n",
       "4578      4578.0       4542.0    380.0         374.0        1.0     1.0   5.0   \n",
       "\n",
       "      tenure  balance  num_of_products  has_cr_card  is_active_member  \\\n",
       "1349     3.0   4083.0              0.0          1.0               0.0   \n",
       "6740     3.0      0.0              1.0          1.0               0.0   \n",
       "6816     9.0   1169.0              1.0          0.0               1.0   \n",
       "5145     8.0      0.0              1.0          0.0               0.0   \n",
       "6678     4.0   1618.0              1.0          1.0               1.0   \n",
       "...      ...      ...              ...          ...               ...   \n",
       "4478    10.0   3481.0              0.0          0.0               0.0   \n",
       "4094     8.0   4564.0              0.0          1.0               1.0   \n",
       "3492     6.0   1727.0              0.0          1.0               1.0   \n",
       "2177     9.0      0.0              0.0          1.0               0.0   \n",
       "4578     2.0   4363.0              0.0          0.0               1.0   \n",
       "\n",
       "      estimated_salary  \n",
       "1349             299.0  \n",
       "6740            2996.0  \n",
       "6816            4793.0  \n",
       "5145            8970.0  \n",
       "6678            1745.0  \n",
       "...                ...  \n",
       "4478            1655.0  \n",
       "4094            5251.0  \n",
       "3492            1675.0  \n",
       "2177            7946.0  \n",
       "4578            1265.0  \n",
       "\n",
       "[6818 rows x 13 columns]"
      ]
     },
     "execution_count": 9,
     "metadata": {},
     "output_type": "execute_result"
    }
   ],
   "source": [
    "encoder = OrdinalEncoder()\n",
    "data_ordinal = pd.DataFrame(encoder.fit_transform(data),columns=data.columns)\n",
    "target = data_ordinal['exited']\n",
    "features = data_ordinal.drop('exited', axis=1)\n",
    "features_train, features_valid, target_train, target_valid = train_test_split(features, target, test_size=0.25, random_state=12345)\n",
    "print(features_train.shape)\n",
    "print(features_valid.shape)\n",
    "features_train"
   ]
  },
  {
   "cell_type": "markdown",
   "metadata": {},
   "source": [
    "## Step 2. Examine the balance of classes"
   ]
  },
  {
   "cell_type": "code",
   "execution_count": 10,
   "metadata": {},
   "outputs": [],
   "source": [
    "from sklearn.metrics import confusion_matrix\n",
    "from sklearn.metrics import accuracy_score\n",
    "from sklearn.linear_model import LogisticRegression\n",
    "from sklearn.ensemble import RandomForestRegressor"
   ]
  },
  {
   "cell_type": "markdown",
   "metadata": {},
   "source": [
    "An overall problem that we have to del with is the imbalance of our data. Our dataset provides us a skewed class proportions where the vast majority of our dataset comes from one class. We have some useful metric in case where classes are evenly distributed "
   ]
  },
  {
   "cell_type": "markdown",
   "metadata": {},
   "source": [
    "First of all we analyze how the imbalance is in our target train before trainning the model"
   ]
  },
  {
   "cell_type": "code",
   "execution_count": 17,
   "metadata": {},
   "outputs": [
    {
     "name": "stdout",
     "output_type": "stream",
     "text": [
      "Counts Class 0:  5415\n",
      "Counts Class 1:  1403\n",
      "Proportion of class 0:  0.7942211792314462\n",
      "Proportion of class 1:  0.20577882076855383\n"
     ]
    },
    {
     "data": {
      "text/plain": [
       "<matplotlib.axes._subplots.AxesSubplot at 0x7f187025dc90>"
      ]
     },
     "execution_count": 17,
     "metadata": {},
     "output_type": "execute_result"
    },
    {
     "data": {
      "image/png": "[encoded data removed]",
      "text/plain": [
       "<Figure size 432x288 with 1 Axes>"
      ]
     },
     "metadata": {
      "needs_background": "light"
     },
     "output_type": "display_data"
    }
   ],
   "source": [
    "target_count= target_train.value_counts()\n",
    "print('Counts Class 0: ',target_count[0])\n",
    "print('Counts Class 1: ',target_count[1])\n",
    "class_frequency = target_train.value_counts(normalize=True)\n",
    "print('Proportion of class 0: ',class_frequency[0])\n",
    "print('Proportion of class 1: ',class_frequency[1])\n",
    "class_frequency.plot(kind='bar')"
   ]
  },
  {
   "cell_type": "markdown",
   "metadata": {},
   "source": [
    "Now, we can start with the study of the imbalance after training models"
   ]
  },
  {
   "cell_type": "markdown",
   "metadata": {},
   "source": [
    "<font color='Green'> \n",
    "### <u>UPD 2 REVIEWER COMMENT</u>\n",
    "<br/>\n",
    "<div class=\"alert alert-block alert-success\">\n",
    "Good. It has been done.\n",
    "</div>\n",
    "<div class=\"alert alert-block alert-warning\">\n",
    "    A common practice is to investigate classes imbalance before the training because it hits a model accuracy. You can find more information here: <a>https://towardsdatascience.com/methods-for-dealing-with-imbalanced-data-5b761be45a18</a>\n",
    "</div>\n",
    "</font>"
   ]
  },
  {
   "cell_type": "markdown",
   "metadata": {},
   "source": [
    "### 1) Accuracy/ Score"
   ]
  },
  {
   "cell_type": "markdown",
   "metadata": {},
   "source": [
    "#### DecisionTree"
   ]
  },
  {
   "cell_type": "code",
   "execution_count": 97,
   "metadata": {},
   "outputs": [
    {
     "name": "stdout",
     "output_type": "stream",
     "text": [
      "Accuracy: 0.7699076110866696\n"
     ]
    }
   ],
   "source": [
    "model = DecisionTreeClassifier(random_state=12345)\n",
    "model.fit(features_train, target_train)\n",
    "predicted_valid = model.predict(features_valid)\n",
    "print('Accuracy:', accuracy_score(target_valid, predicted_valid))"
   ]
  },
  {
   "cell_type": "markdown",
   "metadata": {},
   "source": [
    "Let's look at the sanity check and check how often the target feature contains 0 or 1"
   ]
  },
  {
   "cell_type": "code",
   "execution_count": 98,
   "metadata": {},
   "outputs": [
    {
     "name": "stdout",
     "output_type": "stream",
     "text": [
      "0.0    0.763308\n",
      "1.0    0.236692\n",
      "dtype: float64\n"
     ]
    },
    {
     "data": {
      "text/plain": [
       "<matplotlib.axes._subplots.AxesSubplot at 0x7f3b4bad7990>"
      ]
     },
     "execution_count": 98,
     "metadata": {},
     "output_type": "execute_result"
    },
    {
     "data": {
      "image/png": "[encoded data removed]",
      "text/plain": [
       "<Figure size 576x396 with 1 Axes>"
      ]
     },
     "metadata": {},
     "output_type": "display_data"
    }
   ],
   "source": [
    "predicted_valid = pd.Series(model.predict(features_valid))\n",
    "class_frequency = predicted_valid.value_counts(normalize=True)\n",
    "print(class_frequency)\n",
    "class_frequency.plot(kind='bar')"
   ]
  },
  {
   "cell_type": "code",
   "execution_count": 99,
   "metadata": {},
   "outputs": [
    {
     "name": "stdout",
     "output_type": "stream",
     "text": [
      "0.7960620393796062\n"
     ]
    }
   ],
   "source": [
    "target_pred_constant = pd.Series(0, index=target.index )\n",
    "print(accuracy_score(target, target_pred_constant))"
   ]
  },
  {
   "cell_type": "code",
   "execution_count": 100,
   "metadata": {},
   "outputs": [
    {
     "name": "stdout",
     "output_type": "stream",
     "text": [
      "[[1517  305]\n",
      " [ 218  233]]\n"
     ]
    }
   ],
   "source": [
    "print(confusion_matrix(target_valid, predicted_valid))"
   ]
  },
  {
   "cell_type": "markdown",
   "metadata": {},
   "source": [
    "#### RandomForest"
   ]
  },
  {
   "cell_type": "code",
   "execution_count": 101,
   "metadata": {},
   "outputs": [
    {
     "name": "stdout",
     "output_type": "stream",
     "text": [
      "Score 0.847778266608007\n"
     ]
    },
    {
     "name": "stderr",
     "output_type": "stream",
     "text": [
      "/opt/conda/lib/python3.7/site-packages/sklearn/ensemble/forest.py:245: FutureWarning: The default value of n_estimators will change from 10 in version 0.20 to 100 in 0.22.\n",
      "  \"10 in version 0.20 to 100 in 0.22.\", FutureWarning)\n"
     ]
    }
   ],
   "source": [
    "model= RandomForestClassifier(random_state=12345)\n",
    "model.fit(features_train, target_train)\n",
    "predicted_valid = model.predict(features_valid)\n",
    "print('Score',model.score(features_valid, target_valid))"
   ]
  },
  {
   "cell_type": "code",
   "execution_count": 102,
   "metadata": {},
   "outputs": [
    {
     "name": "stdout",
     "output_type": "stream",
     "text": [
      "0.0    0.894853\n",
      "1.0    0.105147\n",
      "dtype: float64\n"
     ]
    },
    {
     "data": {
      "text/plain": [
       "<matplotlib.axes._subplots.AxesSubplot at 0x7f3b4345af90>"
      ]
     },
     "execution_count": 102,
     "metadata": {},
     "output_type": "execute_result"
    },
    {
     "data": {
      "image/png": "[encoded data removed]",
      "text/plain": [
       "<Figure size 576x396 with 1 Axes>"
      ]
     },
     "metadata": {},
     "output_type": "display_data"
    }
   ],
   "source": [
    "predicted_valid = pd.Series(model.predict(features_valid))\n",
    "class_frequency = predicted_valid.value_counts(normalize=True)\n",
    "print(class_frequency)\n",
    "class_frequency.plot(kind='bar')"
   ]
  },
  {
   "cell_type": "code",
   "execution_count": 103,
   "metadata": {},
   "outputs": [
    {
     "name": "stdout",
     "output_type": "stream",
     "text": [
      "0.7960620393796062\n"
     ]
    }
   ],
   "source": [
    "target_pred_constant = pd.Series(0, index=target.index )\n",
    "print(accuracy_score(target, target_pred_constant))"
   ]
  },
  {
   "cell_type": "markdown",
   "metadata": {},
   "source": [
    "we use the confusion matrix to visualice how the model is pesimistic or optimistic"
   ]
  },
  {
   "cell_type": "code",
   "execution_count": 104,
   "metadata": {},
   "outputs": [
    {
     "name": "stdout",
     "output_type": "stream",
     "text": [
      "[[1755   67]\n",
      " [ 279  172]]\n"
     ]
    }
   ],
   "source": [
    "print(confusion_matrix(target_valid, predicted_valid))"
   ]
  },
  {
   "cell_type": "markdown",
   "metadata": {},
   "source": [
    "#### LogisticRegression"
   ]
  },
  {
   "cell_type": "code",
   "execution_count": 105,
   "metadata": {},
   "outputs": [
    {
     "name": "stderr",
     "output_type": "stream",
     "text": [
      "/opt/conda/lib/python3.7/site-packages/sklearn/linear_model/logistic.py:432: FutureWarning: Default solver will be changed to 'lbfgs' in 0.22. Specify a solver to silence this warning.\n",
      "  FutureWarning)\n"
     ]
    },
    {
     "name": "stdout",
     "output_type": "stream",
     "text": [
      "Score 0.816542014958205\n"
     ]
    }
   ],
   "source": [
    "model = LogisticRegression()\n",
    "model.fit(features_train_n, target_train_n)\n",
    "predicted_valid_n = model.predict(features_valid_n)\n",
    "print('Score',model.score(features_valid_n, target_valid_n))"
   ]
  },
  {
   "cell_type": "code",
   "execution_count": 106,
   "metadata": {},
   "outputs": [
    {
     "name": "stdout",
     "output_type": "stream",
     "text": [
      "0    0.937527\n",
      "1    0.062473\n",
      "dtype: float64\n"
     ]
    },
    {
     "data": {
      "text/plain": [
       "<matplotlib.axes._subplots.AxesSubplot at 0x7f3b4372ac90>"
      ]
     },
     "execution_count": 106,
     "metadata": {},
     "output_type": "execute_result"
    },
    {
     "data": {
      "image/png": "[encoded data removed]",
      "text/plain": [
       "<Figure size 576x396 with 1 Axes>"
      ]
     },
     "metadata": {},
     "output_type": "display_data"
    }
   ],
   "source": [
    "predicted_valid = pd.Series(model.predict(features_valid_n))\n",
    "class_frequency = predicted_valid.value_counts(normalize=True)\n",
    "print(class_frequency)\n",
    "class_frequency.plot(kind='bar')"
   ]
  },
  {
   "cell_type": "markdown",
   "metadata": {},
   "source": []
  },
  {
   "cell_type": "code",
   "execution_count": 107,
   "metadata": {},
   "outputs": [
    {
     "name": "stdout",
     "output_type": "stream",
     "text": [
      "[[1768   54]\n",
      " [ 363   88]]\n"
     ]
    }
   ],
   "source": [
    "print(confusion_matrix(target_valid_n, predicted_valid_n))"
   ]
  },
  {
   "cell_type": "markdown",
   "metadata": {},
   "source": [
    "#### RandomForestRegressor"
   ]
  },
  {
   "cell_type": "code",
   "execution_count": 108,
   "metadata": {},
   "outputs": [
    {
     "name": "stderr",
     "output_type": "stream",
     "text": [
      "/opt/conda/lib/python3.7/site-packages/sklearn/ensemble/forest.py:245: FutureWarning: The default value of n_estimators will change from 10 in version 0.20 to 100 in 0.22.\n",
      "  \"10 in version 0.20 to 100 in 0.22.\", FutureWarning)\n"
     ]
    },
    {
     "name": "stdout",
     "output_type": "stream",
     "text": [
      "Score 0.2832925247224729\n"
     ]
    }
   ],
   "source": [
    "model = RandomForestRegressor(random_state=12345)\n",
    "model.fit(features_train_n, target_train_n)\n",
    "predicted_valid = model.predict(features_valid_n)\n",
    "print('Score',model.score(features_valid_n, target_valid_n))"
   ]
  },
  {
   "cell_type": "markdown",
   "metadata": {},
   "source": [
    "## Conclusion"
   ]
  },
  {
   "cell_type": "markdown",
   "metadata": {},
   "source": [
    "## DecisionTree: The accuracy of the decisiontree model is almost the same of an accuracy of the constant model, but no so close to 100% It seems that it is such as presimistic model. According to the decisionTree model's forecast the customer did not left the bank and they didn't actually are being attracted by other banks. It often deteted negative answers where it shouldn't\n",
    "<br> \n",
    "## Randomforest: the accuracy of this model is so far from the constant model that in some cases exceed in detecting negative answers where it shouldn't. here also the model's forecast determines that customers did not leave and they truly did not want to leave\n",
    "<br> \n",
    "## Most of the cases we have got a classic problem in machine learning, specially a classification problem where it is more common to predict cases in which customers are not leaving the bank\n"
   ]
  },
  {
   "cell_type": "markdown",
   "metadata": {},
   "source": [
    "<font color='Red'> \n",
    "### <u>REVIEWER COMMENT</u>\n",
    "<br/>\n",
    "<div class=\"alert alert-block alert-success\">\n",
    "Good research. We have taken a first look at our models before fixing class imbalance. Good job.\n",
    "</div>\n",
    "<div class=\"alert alert-block alert-danger\">\n",
    "We need to investigate class imbalance for target sample according to project task. Please make it in a table or graphical form.\n",
    "</div>\n",
    "</font>"
   ]
  },
  {
   "cell_type": "markdown",
   "metadata": {},
   "source": [
    "### 2) Recall / Precision / f1"
   ]
  },
  {
   "cell_type": "code",
   "execution_count": 109,
   "metadata": {},
   "outputs": [],
   "source": [
    "from sklearn.metrics import recall_score\n",
    "from sklearn.metrics import precision_score\n",
    "from sklearn.metrics import f1_score"
   ]
  },
  {
   "cell_type": "markdown",
   "metadata": {},
   "source": [
    "We evaluate the quality of predictions of the positive class from different angles"
   ]
  },
  {
   "cell_type": "code",
   "execution_count": 110,
   "metadata": {},
   "outputs": [
    {
     "name": "stdout",
     "output_type": "stream",
     "text": [
      "Recall:  0.516629711751663\n",
      "Precision:  0.43308550185873607\n",
      "f1 score:  0.4711830131445905\n"
     ]
    }
   ],
   "source": [
    "model = DecisionTreeClassifier(random_state=12345)\n",
    "model.fit(features_train, target_train)\n",
    "predicted_valid = model.predict(features_valid)\n",
    "dt_re= recall_score(target_valid, predicted_valid)\n",
    "print('Recall: ',dt_re)\n",
    "dt_pr=precision_score(target_valid,predicted_valid)\n",
    "print('Precision: ',dt_pr)\n",
    "dt_f1= f1_score(target_valid, predicted_valid)\n",
    "print('f1 score: ',dt_f1)"
   ]
  },
  {
   "cell_type": "code",
   "execution_count": 111,
   "metadata": {},
   "outputs": [
    {
     "name": "stdout",
     "output_type": "stream",
     "text": [
      "Recall:  0.38137472283813745\n",
      "Precision:  0.7196652719665272\n",
      "f1 score:  0.4985507246376812\n"
     ]
    },
    {
     "name": "stderr",
     "output_type": "stream",
     "text": [
      "/opt/conda/lib/python3.7/site-packages/sklearn/ensemble/forest.py:245: FutureWarning: The default value of n_estimators will change from 10 in version 0.20 to 100 in 0.22.\n",
      "  \"10 in version 0.20 to 100 in 0.22.\", FutureWarning)\n"
     ]
    }
   ],
   "source": [
    "model= RandomForestClassifier(random_state=12345)\n",
    "model.fit(features_train, target_train)\n",
    "predicted_valid = model.predict(features_valid)\n",
    "rf_re= recall_score(target_valid, predicted_valid)\n",
    "print('Recall: ', rf_re)\n",
    "rf_pr= precision_score(target_valid,predicted_valid)\n",
    "print('Precision: ', rf_pr)\n",
    "rf_f1= f1_score(target_valid, predicted_valid)\n",
    "print('f1 score: ',rf_f1)"
   ]
  },
  {
   "cell_type": "code",
   "execution_count": 112,
   "metadata": {},
   "outputs": [
    {
     "name": "stderr",
     "output_type": "stream",
     "text": [
      "/opt/conda/lib/python3.7/site-packages/sklearn/linear_model/logistic.py:432: FutureWarning: Default solver will be changed to 'lbfgs' in 0.22. Specify a solver to silence this warning.\n",
      "  FutureWarning)\n"
     ]
    },
    {
     "name": "stdout",
     "output_type": "stream",
     "text": [
      "Recall:  0.1951219512195122\n",
      "Precision:  0.6197183098591549\n",
      "f1 score:  0.296795952782462\n"
     ]
    }
   ],
   "source": [
    "model = LogisticRegression()\n",
    "model.fit(features_train_n, target_train_n)\n",
    "predicted_valid_n = model.predict(features_valid_n)\n",
    "log_re= recall_score(target_valid_n, predicted_valid_n)\n",
    "print('Recall: ', log_re)\n",
    "log_pr= precision_score(target_valid_n,predicted_valid_n)\n",
    "print('Precision: ', log_pr)\n",
    "log_f1= f1_score(target_valid_n, predicted_valid_n)\n",
    "print('f1 score: ',log_f1)"
   ]
  },
  {
   "cell_type": "code",
   "execution_count": 113,
   "metadata": {},
   "outputs": [
    {
     "name": "stdout",
     "output_type": "stream",
     "text": [
      "             logReg  DeciTree   RandFor\n",
      "type                                   \n",
      "recall     0.195122  0.516630  0.381375\n",
      "precision  0.619718  0.433086  0.719665\n",
      "f1         0.296796  0.471183  0.498551\n"
     ]
    }
   ],
   "source": [
    "df = {'logReg': [log_re, log_pr, log_f1], 'DeciTree': [dt_re, dt_pr, dt_f1], 'RandFor': [rf_re, rf_pr, rf_f1], 'type': ['recall', 'precision', 'f1']}\n",
    "print(pd.DataFrame(data=df).set_index('type'))"
   ]
  },
  {
   "cell_type": "markdown",
   "metadata": {},
   "source": [
    "## Conclusion"
   ]
  },
  {
   "cell_type": "markdown",
   "metadata": {},
   "source": [
    "## DecisionTree and RandomForest: This mean that the model is quite likely good at idenifying true positives. As we check in the confusion matrix, the more negative answers founded, the lower the precision. So, the f1 score approaches to a point where it is not clearly determined to predict the class 1 or not."
   ]
  },
  {
   "cell_type": "markdown",
   "metadata": {},
   "source": [
    "<font color='Green'> \n",
    "### <u>REVIEWER COMMENT</u>\n",
    "<br/>\n",
    "<div class=\"alert alert-block alert-success\">\n",
    "Yes, I agree. Precision, recall, f1 metrics allow us to confidently evalute models.\n",
    "</div>\n",
    "<div class=\"alert alert-block alert-warning\">\n",
    "It would be good to comment your code.\n",
    "</div>\n",
    "</font>"
   ]
  },
  {
   "cell_type": "markdown",
   "metadata": {},
   "source": [
    "## Step 3. Improve the quality of the model, taking into account the imbalance of classes "
   ]
  },
  {
   "cell_type": "markdown",
   "metadata": {},
   "source": [
    "The main objective of balancing classes is to either increasing the frequency of the minority class or decreasing the frequency of the majority class. This is done in order to obtain approximately the same number of instances for both the classes. Let us look at a few resampling techniques:"
   ]
  },
  {
   "cell_type": "markdown",
   "metadata": {},
   "source": [
    "Others like DecisionTree or Randomforest also have class_weight argument"
   ]
  },
  {
   "cell_type": "code",
   "execution_count": 114,
   "metadata": {},
   "outputs": [
    {
     "name": "stdout",
     "output_type": "stream",
     "text": [
      "Recall:  0.4634146341463415\n",
      "Precision:  0.4543478260869565\n",
      "F1 DecisionTree: 0.4588364434687157\n",
      "Recall:  0.35033259423503327\n",
      "Precision:  0.7348837209302326\n",
      "F1 RandomForestClassifier: 0.4744744744744745\n"
     ]
    },
    {
     "name": "stderr",
     "output_type": "stream",
     "text": [
      "/opt/conda/lib/python3.7/site-packages/sklearn/ensemble/forest.py:245: FutureWarning: The default value of n_estimators will change from 10 in version 0.20 to 100 in 0.22.\n",
      "  \"10 in version 0.20 to 100 in 0.22.\", FutureWarning)\n"
     ]
    }
   ],
   "source": [
    "model = DecisionTreeClassifier(random_state=12345, class_weight='balanced')\n",
    "model.fit(features_train, target_train)\n",
    "predicted_valid = model.predict(features_valid)\n",
    "print('Recall: ', recall_score(target_valid, predicted_valid))\n",
    "print('Precision: ',precision_score(target_valid,predicted_valid))\n",
    "dt_f1= f1_score(target_valid, predicted_valid)\n",
    "print(\"F1 DecisionTree:\", dt_f1)\n",
    "\n",
    "model= RandomForestClassifier(random_state=12345, class_weight='balanced')\n",
    "model.fit(features_train, target_train)\n",
    "predicted_valid = model.predict(features_valid)\n",
    "print('Recall: ', recall_score(target_valid, predicted_valid))\n",
    "print('Precision: ',precision_score(target_valid,predicted_valid))\n",
    "rf_f1= f1_score(target_valid, predicted_valid)\n",
    "print(\"F1 RandomForestClassifier:\", rf_f1)"
   ]
  },
  {
   "cell_type": "markdown",
   "metadata": {},
   "source": [
    "Logistic Regression allows you to specify the class_weight and it will denote how many times the class 0 occurs more often than the class 1"
   ]
  },
  {
   "cell_type": "code",
   "execution_count": 115,
   "metadata": {},
   "outputs": [
    {
     "name": "stdout",
     "output_type": "stream",
     "text": [
      "      DeciTree   RandFor\n",
      "type                    \n",
      "f1    0.458836  0.474474\n"
     ]
    }
   ],
   "source": [
    "d = {'DeciTree': [dt_f1], 'RandFor': [rf_f1], 'type': ['f1']}\n",
    "df_f1=pd.DataFrame(data=d)\n",
    "print(df_f1.set_index('type'))"
   ]
  },
  {
   "cell_type": "markdown",
   "metadata": {},
   "source": [
    "### Upsampling"
   ]
  },
  {
   "cell_type": "markdown",
   "metadata": {},
   "source": [
    "We mitigate some of the excesive weight of the minority class, by duplicating the data from the same minority class and overfitting repeated row"
   ]
  },
  {
   "cell_type": "code",
   "execution_count": 116,
   "metadata": {},
   "outputs": [
    {
     "name": "stdout",
     "output_type": "stream",
     "text": [
      "(5415, 13)\n",
      "(1403, 13)\n",
      "(5415,)\n",
      "(1403,)\n"
     ]
    }
   ],
   "source": [
    "features_zeros = features_train[target_train == 0]\n",
    "features_ones = features_train[target_train == 1]\n",
    "target_zeros = target_train[target_train == 0]\n",
    "target_ones = target_train[target_train == 1]\n",
    "print(features_zeros.shape)\n",
    "print(features_ones.shape)\n",
    "print(target_zeros.shape)\n",
    "print(target_ones.shape)"
   ]
  },
  {
   "cell_type": "code",
   "execution_count": 117,
   "metadata": {},
   "outputs": [],
   "source": [
    "from sklearn.utils import shuffle\n",
    "def upsample(features, target, repeat):\n",
    "    features_zeros = features[target == 0]\n",
    "    features_ones = features[target == 1]\n",
    "    target_zeros = target[target == 0]\n",
    "    target_ones = target[target == 1]\n",
    "\n",
    "    features_upsampled = pd.concat([features_zeros] + [features_ones] * repeat)\n",
    "    target_upsampled = pd.concat([target_zeros] + [target_ones] * repeat)\n",
    "    \n",
    "    features_upsampled, target_upsampled = shuffle(\n",
    "        features_upsampled, target_upsampled, random_state=12345)\n",
    "    \n",
    "    return features_upsampled, target_upsampled"
   ]
  },
  {
   "cell_type": "code",
   "execution_count": 147,
   "metadata": {},
   "outputs": [
    {
     "name": "stdout",
     "output_type": "stream",
     "text": [
      "Recall:  0.49889135254988914\n",
      "Precision:  0.5022321428571429\n",
      "F1 DecisionTree: 0.5005561735261402\n"
     ]
    },
    {
     "name": "stderr",
     "output_type": "stream",
     "text": [
      "/opt/conda/lib/python3.7/site-packages/sklearn/ensemble/forest.py:245: FutureWarning: The default value of n_estimators will change from 10 in version 0.20 to 100 in 0.22.\n",
      "  \"10 in version 0.20 to 100 in 0.22.\", FutureWarning)\n"
     ]
    },
    {
     "name": "stdout",
     "output_type": "stream",
     "text": [
      "Recall:  0.4611973392461197\n",
      "Precision:  0.6582278481012658\n",
      "F1 RandomForest: 0.5423728813559322\n"
     ]
    }
   ],
   "source": [
    "features_upsampled, target_upsampled = upsample(features_train, target_train, 10)\n",
    "\n",
    "model= DecisionTreeClassifier(random_state=12345)\n",
    "model.fit(features_upsampled, target_upsampled)\n",
    "predicted_valid= model.predict(features_valid)\n",
    "print('Recall: ', recall_score(target_valid, predicted_valid))\n",
    "print('Precision: ',precision_score(target_valid,predicted_valid))\n",
    "dt_f1_u=f1_score(target_valid, predicted_valid)\n",
    "print(\"F1 DecisionTree:\", dt_f1_u)\n",
    "model= RandomForestClassifier(random_state=12345)\n",
    "model.fit(features_upsampled, target_upsampled)\n",
    "predicted_valid= model.predict(features_valid)\n",
    "print('Recall: ', recall_score(target_valid, predicted_valid))\n",
    "print('Precision: ',precision_score(target_valid,predicted_valid))\n",
    "rf_f1_u=f1_score(target_valid, predicted_valid)\n",
    "print(\"F1 RandomForest:\", rf_f1_u)"
   ]
  },
  {
   "cell_type": "code",
   "execution_count": 119,
   "metadata": {},
   "outputs": [
    {
     "name": "stdout",
     "output_type": "stream",
     "text": [
      "0.0    1957\n",
      "1.0     316\n",
      "dtype: int64\n"
     ]
    },
    {
     "data": {
      "text/plain": [
       "<matplotlib.axes._subplots.AxesSubplot at 0x7f3b42fff410>"
      ]
     },
     "execution_count": 119,
     "metadata": {},
     "output_type": "execute_result"
    },
    {
     "data": {
      "image/png": "[encoded data removed]",
      "text/plain": [
       "<Figure size 576x396 with 1 Axes>"
      ]
     },
     "metadata": {},
     "output_type": "display_data"
    }
   ],
   "source": [
    "predicted_valid = pd.Series(model.predict(features_valid))\n",
    "class_frequency = predicted_valid.value_counts(normalize=False)\n",
    "print(class_frequency)\n",
    "class_frequency.plot(kind='bar')"
   ]
  },
  {
   "cell_type": "markdown",
   "metadata": {},
   "source": [
    "### Downsampling"
   ]
  },
  {
   "cell_type": "markdown",
   "metadata": {},
   "source": [
    "The goal is to predict the minority class by eliminating rows from the majority class even with the cost of losing information"
   ]
  },
  {
   "cell_type": "code",
   "execution_count": 120,
   "metadata": {},
   "outputs": [],
   "source": [
    "def downsample(features, target, fraction):\n",
    "    features_zeros = features[target == 0]\n",
    "    features_ones = features[target == 1]\n",
    "    target_zeros = target[target == 0]\n",
    "    target_ones = target[target == 1]\n",
    "\n",
    "    features_downsampled = pd.concat([features_zeros.sample(frac=fraction, random_state=12345)] + [features_ones])\n",
    "    target_downsampled = pd.concat([target_zeros.sample(frac=fraction, random_state=12345)] + [target_ones])\n",
    "    \n",
    "    features_downsampled, target_downsampled = shuffle(features_downsampled, target_downsampled, random_state=12345)\n",
    "    \n",
    "    return features_downsampled, target_downsampled"
   ]
  },
  {
   "cell_type": "code",
   "execution_count": 121,
   "metadata": {},
   "outputs": [
    {
     "name": "stdout",
     "output_type": "stream",
     "text": [
      "Recall:  0.8048780487804879\n",
      "Precision:  0.2829306313328137\n",
      "F1 DecisionTree: 0.4186851211072664\n",
      "Recall:  0.8580931263858093\n",
      "Precision:  0.2997676219984508\n",
      "F1 RandomForest: 0.4443168771526981\n"
     ]
    },
    {
     "name": "stderr",
     "output_type": "stream",
     "text": [
      "/opt/conda/lib/python3.7/site-packages/sklearn/ensemble/forest.py:245: FutureWarning: The default value of n_estimators will change from 10 in version 0.20 to 100 in 0.22.\n",
      "  \"10 in version 0.20 to 100 in 0.22.\", FutureWarning)\n"
     ]
    }
   ],
   "source": [
    "features_downsampled, target_downsampled = downsample(features_train, target_train, 0.1)\n",
    "\n",
    "model= DecisionTreeClassifier(random_state=12345)\n",
    "model.fit(features_downsampled, target_downsampled)\n",
    "predicted_valid= model.predict(features_valid)\n",
    "print('Recall: ', recall_score(target_valid, predicted_valid))\n",
    "print('Precision: ',precision_score(target_valid,predicted_valid))\n",
    "dt_f1_d= f1_score(target_valid, predicted_valid)\n",
    "print(\"F1 DecisionTree:\", dt_f1_d)\n",
    "model= RandomForestClassifier(random_state=12345)\n",
    "model.fit(features_downsampled, target_downsampled)\n",
    "predicted_valid= model.predict(features_valid)\n",
    "print('Recall: ', recall_score(target_valid, predicted_valid))\n",
    "print('Precision: ',precision_score(target_valid,predicted_valid))\n",
    "rf_f1_d= f1_score(target_valid, predicted_valid)\n",
    "print(\"F1 RandomForest:\", rf_f1_d)"
   ]
  },
  {
   "cell_type": "code",
   "execution_count": 122,
   "metadata": {},
   "outputs": [
    {
     "name": "stdout",
     "output_type": "stream",
     "text": [
      "1.0    1291\n",
      "0.0     982\n",
      "dtype: int64\n"
     ]
    },
    {
     "data": {
      "text/plain": [
       "<matplotlib.axes._subplots.AxesSubplot at 0x7f3b43507690>"
      ]
     },
     "execution_count": 122,
     "metadata": {},
     "output_type": "execute_result"
    },
    {
     "data": {
      "image/png": "[encoded data removed]",
      "text/plain": [
       "<Figure size 576x396 with 1 Axes>"
      ]
     },
     "metadata": {},
     "output_type": "display_data"
    }
   ],
   "source": [
    "predicted_valid = pd.Series(model.predict(features_valid))\n",
    "class_frequency = predicted_valid.value_counts(normalize=False)\n",
    "print(class_frequency)\n",
    "class_frequency.plot(kind='bar')"
   ]
  },
  {
   "cell_type": "markdown",
   "metadata": {},
   "source": [
    "## Conclusion"
   ]
  },
  {
   "cell_type": "code",
   "execution_count": 123,
   "metadata": {},
   "outputs": [
    {
     "name": "stdout",
     "output_type": "stream",
     "text": [
      "              DeciTree   RandFor\n",
      "type                            \n",
      "imbalanced    0.458836  0.474474\n",
      "unsampling    0.500556  0.542373\n",
      "downsampling  0.418685  0.444317\n"
     ]
    }
   ],
   "source": [
    "d = {'DeciTree': [dt_f1, dt_f1_u, dt_f1_d], 'RandFor': [rf_f1,rf_f1_u, rf_f1_d], 'type': ['imbalanced','unsampling', 'downsampling']}\n",
    "print(pd.DataFrame(data=d).set_index('type'))"
   ]
  },
  {
   "cell_type": "markdown",
   "metadata": {},
   "source": [
    "## Model's like DecisionTreeClassifier or RandomForestClassifier have being improved the capacity to predict the minority class applying unsampling or downsampling as we can check with f1 score. Note that it is  better the unsampling technique in comparison with downsampling. "
   ]
  },
  {
   "cell_type": "markdown",
   "metadata": {},
   "source": [
    "<font color='Green'> \n",
    "### <u>REVIEWER COMMENT</u>\n",
    "<br/>\n",
    "<div class=\"alert alert-block alert-success\">\n",
    "We tried 3 different ways to fix imbalance of classes. Great job and good results.\n",
    "</div>\n",
    "</font>"
   ]
  },
  {
   "cell_type": "markdown",
   "metadata": {},
   "source": [
    "Now, we optimized the training of logistic regression where we have to manage the probability of classes: class 1 or class 0. It is comprehed a line called threshold. "
   ]
  },
  {
   "cell_type": "code",
   "execution_count": 124,
   "metadata": {},
   "outputs": [],
   "source": [
    "import numpy as np\n",
    "import matplotlib.pyplot as plt\n",
    "%matplotlib inline"
   ]
  },
  {
   "cell_type": "code",
   "execution_count": 125,
   "metadata": {
    "scrolled": true
   },
   "outputs": [
    {
     "name": "stdout",
     "output_type": "stream",
     "text": [
      "Threshold = 0.00 | Precision = 0.198 | Recall = 1.000\n",
      "Threshold = 0.05 | Precision = 0.215 | Recall = 0.980\n",
      "Threshold = 0.10 | Precision = 0.264 | Recall = 0.927\n",
      "Threshold = 0.15 | Precision = 0.319 | Recall = 0.854\n",
      "Threshold = 0.20 | Precision = 0.378 | Recall = 0.756\n",
      "Threshold = 0.25 | Precision = 0.432 | Recall = 0.647\n",
      "Threshold = 0.30 | Precision = 0.478 | Recall = 0.525\n",
      "Threshold = 0.35 | Precision = 0.499 | Recall = 0.417\n",
      "Threshold = 0.40 | Precision = 0.523 | Recall = 0.328\n",
      "Threshold = 0.45 | Precision = 0.548 | Recall = 0.253\n",
      "Threshold = 0.50 | Precision = 0.620 | Recall = 0.195\n",
      "Threshold = 0.55 | Precision = 0.642 | Recall = 0.135\n",
      "Threshold = 0.60 | Precision = 0.719 | Recall = 0.102\n",
      "Threshold = 0.65 | Precision = 0.795 | Recall = 0.069\n",
      "Threshold = 0.70 | Precision = 0.760 | Recall = 0.042\n",
      "Threshold = 0.75 | Precision = 0.722 | Recall = 0.029\n",
      "Threshold = 0.80 | Precision = 0.714 | Recall = 0.011\n",
      "Threshold = 0.85 | Precision = 0.500 | Recall = 0.002\n",
      "Threshold = 0.90 | Precision = 0.000 | Recall = 0.000\n",
      "Threshold = 0.95 | Precision = 0.000 | Recall = 0.000\n"
     ]
    },
    {
     "name": "stderr",
     "output_type": "stream",
     "text": [
      "/opt/conda/lib/python3.7/site-packages/sklearn/metrics/classification.py:1437: UndefinedMetricWarning: Precision is ill-defined and being set to 0.0 due to no predicted samples.\n",
      "  'precision', 'predicted', average, warn_for)\n"
     ]
    },
    {
     "data": {
      "image/png": "[encoded data removed]",
      "text/plain": [
       "<Figure size 576x360 with 1 Axes>"
      ]
     },
     "metadata": {},
     "output_type": "display_data"
    }
   ],
   "source": [
    "model = LogisticRegression(random_state= 12345, solver= 'liblinear')\n",
    "model.fit(features_train_n, target_train_n)\n",
    "predicted_valid_n= model.predict_proba(features_valid_n)\n",
    "probabilities_one_valid = predicted_valid_n[:, 1]\n",
    "threshold_class= {\"threshold\":[],\"precision\":[], \"recall\": []}\n",
    "for threshold in np.arange(0,1,0.05):\n",
    "    predicted_valid_n = probabilities_one_valid > threshold\n",
    "    precision_log = precision_score(target_valid_n, predicted_valid_n)\n",
    "    recall_log = recall_score(target_valid_n, predicted_valid_n)    \n",
    "    print(f\"Threshold = {threshold:.2f} | Precision = {precision_log:.3f} | Recall = {recall_log:.3f}\")\n",
    "    threshold_class['threshold'].append(threshold)\n",
    "    threshold_class['precision'].append(precision_log)\n",
    "    threshold_class['recall'].append(recall_log)\n",
    "plt.style.use('seaborn')\n",
    "fig = plt.figure(figsize= (8,5))\n",
    "plt.plot(threshold_class['threshold'], threshold_class['precision'], \"b--\", label=\"Precision\")\n",
    "plt.plot( threshold_class['threshold'], threshold_class['recall'], \"g-\", label=\"Recall\")\n",
    "plt.legend()\n",
    "plt.show()"
   ]
  },
  {
   "cell_type": "code",
   "execution_count": null,
   "metadata": {},
   "outputs": [],
   "source": []
  },
  {
   "cell_type": "markdown",
   "metadata": {},
   "source": [
    "<font color='Yellow'> \n",
    "### <u>REVIEWER COMMENT</u>\n",
    "<br/>\n",
    "<div class=\"alert alert-block alert-warning\">\n",
    "It is good practice to visualize table data with a chart. It makes the report more presentable and impresses customers. Big Bosses like pictures.\n",
    "</div>\n",
    "</font>"
   ]
  },
  {
   "cell_type": "markdown",
   "metadata": {},
   "source": [
    "Also we can study how recall and Precision in DecisionTree and randomForest models change among the threshold"
   ]
  },
  {
   "cell_type": "code",
   "execution_count": 126,
   "metadata": {},
   "outputs": [
    {
     "name": "stdout",
     "output_type": "stream",
     "text": [
      "Threshold = 0.00 | Precision = 0.433 | Recall = 0.517\n",
      "Threshold = 0.05 | Precision = 0.433 | Recall = 0.517\n",
      "Threshold = 0.10 | Precision = 0.433 | Recall = 0.517\n",
      "Threshold = 0.15 | Precision = 0.433 | Recall = 0.517\n",
      "Threshold = 0.20 | Precision = 0.433 | Recall = 0.517\n",
      "Threshold = 0.25 | Precision = 0.433 | Recall = 0.517\n",
      "Threshold = 0.30 | Precision = 0.433 | Recall = 0.517\n",
      "Threshold = 0.35 | Precision = 0.433 | Recall = 0.517\n",
      "Threshold = 0.40 | Precision = 0.433 | Recall = 0.517\n",
      "Threshold = 0.45 | Precision = 0.433 | Recall = 0.517\n",
      "Threshold = 0.50 | Precision = 0.433 | Recall = 0.517\n",
      "Threshold = 0.55 | Precision = 0.433 | Recall = 0.517\n",
      "Threshold = 0.60 | Precision = 0.433 | Recall = 0.517\n",
      "Threshold = 0.65 | Precision = 0.433 | Recall = 0.517\n",
      "Threshold = 0.70 | Precision = 0.433 | Recall = 0.517\n",
      "Threshold = 0.75 | Precision = 0.433 | Recall = 0.517\n",
      "Threshold = 0.80 | Precision = 0.433 | Recall = 0.517\n",
      "Threshold = 0.85 | Precision = 0.433 | Recall = 0.517\n",
      "Threshold = 0.90 | Precision = 0.433 | Recall = 0.517\n",
      "Threshold = 0.95 | Precision = 0.433 | Recall = 0.517\n"
     ]
    },
    {
     "data": {
      "image/png": "[encoded data removed]",
      "text/plain": [
       "<Figure size 576x360 with 1 Axes>"
      ]
     },
     "metadata": {},
     "output_type": "display_data"
    }
   ],
   "source": [
    "model = DecisionTreeClassifier(random_state= 12345)\n",
    "model.fit(features_train, target_train)\n",
    "predicted_valid= model.predict_proba(features_valid)\n",
    "probabilities_one_valid = predicted_valid[:, 1]\n",
    "threshold_class= {\"threshold\":[],\"precision\":[], \"recall\": []}\n",
    "for threshold in np.arange(0,1,0.05):\n",
    "    predicted_valid = probabilities_one_valid > threshold\n",
    "    precision_dt = precision_score(target_valid_n, predicted_valid)\n",
    "    recall_dt = recall_score(target_valid, predicted_valid)    \n",
    "    print(f\"Threshold = {threshold:.2f} | Precision = {precision_dt:.3f} | Recall = {recall_dt:.3f}\")\n",
    "    threshold_class['threshold'].append(threshold)\n",
    "    threshold_class['precision'].append(precision_dt)\n",
    "    threshold_class['recall'].append(recall_dt)\n",
    "plt.style.use('seaborn')\n",
    "fig = plt.figure(figsize= (8,5))\n",
    "plt.plot(threshold_class['threshold'], threshold_class['precision'], \"b--\", label=\"Precision\")\n",
    "plt.plot( threshold_class['threshold'], threshold_class['recall'], \"g-\", label=\"Recall\")\n",
    "plt.legend()\n",
    "plt.show()"
   ]
  },
  {
   "cell_type": "code",
   "execution_count": 127,
   "metadata": {},
   "outputs": [
    {
     "name": "stderr",
     "output_type": "stream",
     "text": [
      "/opt/conda/lib/python3.7/site-packages/sklearn/ensemble/forest.py:245: FutureWarning: The default value of n_estimators will change from 10 in version 0.20 to 100 in 0.22.\n",
      "  \"10 in version 0.20 to 100 in 0.22.\", FutureWarning)\n"
     ]
    },
    {
     "name": "stdout",
     "output_type": "stream",
     "text": [
      "Threshold = 0.00 | Precision = 0.266 | Recall = 0.947\n",
      "Threshold = 0.05 | Precision = 0.266 | Recall = 0.947\n",
      "Threshold = 0.10 | Precision = 0.356 | Recall = 0.860\n",
      "Threshold = 0.15 | Precision = 0.356 | Recall = 0.860\n",
      "Threshold = 0.20 | Precision = 0.442 | Recall = 0.712\n",
      "Threshold = 0.25 | Precision = 0.442 | Recall = 0.712\n",
      "Threshold = 0.30 | Precision = 0.547 | Recall = 0.568\n",
      "Threshold = 0.35 | Precision = 0.547 | Recall = 0.568\n",
      "Threshold = 0.40 | Precision = 0.641 | Recall = 0.463\n",
      "Threshold = 0.45 | Precision = 0.641 | Recall = 0.463\n",
      "Threshold = 0.50 | Precision = 0.720 | Recall = 0.381\n",
      "Threshold = 0.55 | Precision = 0.720 | Recall = 0.381\n",
      "Threshold = 0.60 | Precision = 0.804 | Recall = 0.299\n",
      "Threshold = 0.65 | Precision = 0.804 | Recall = 0.299\n",
      "Threshold = 0.70 | Precision = 0.860 | Recall = 0.217\n",
      "Threshold = 0.75 | Precision = 0.860 | Recall = 0.217\n",
      "Threshold = 0.80 | Precision = 0.887 | Recall = 0.122\n",
      "Threshold = 0.85 | Precision = 0.887 | Recall = 0.122\n",
      "Threshold = 0.90 | Precision = 0.920 | Recall = 0.051\n",
      "Threshold = 0.95 | Precision = 0.920 | Recall = 0.051\n"
     ]
    },
    {
     "data": {
      "image/png": "[encoded data removed]",
      "text/plain": [
       "<Figure size 576x360 with 1 Axes>"
      ]
     },
     "metadata": {},
     "output_type": "display_data"
    }
   ],
   "source": [
    "model = RandomForestClassifier(random_state= 12345)\n",
    "model.fit(features_train, target_train)\n",
    "predicted_valid= model.predict_proba(features_valid)\n",
    "probabilities_one_valid = predicted_valid[:, 1]\n",
    "for threshold in np.arange(0,1,0.05):\n",
    "    predicted_valid = probabilities_one_valid > threshold\n",
    "    precision_rf = precision_score(target_valid_n, predicted_valid)\n",
    "    recall_rf = recall_score(target_valid, predicted_valid)    \n",
    "    print(f\"Threshold = {threshold:.2f} | Precision = {precision_rf:.3f} | Recall = {recall_rf:.3f}\")\n",
    "    threshold_class['threshold'].append(threshold)\n",
    "    threshold_class['precision'].append(precision_rf)\n",
    "    threshold_class['recall'].append(recall_rf)\n",
    "plt.style.use('seaborn')\n",
    "fig = plt.figure(figsize= (8,5))\n",
    "plt.plot(threshold_class['threshold'], threshold_class['precision'], \"bo\", label=\"Precision\")\n",
    "plt.plot( threshold_class['threshold'], threshold_class['recall'], \"gs\", label=\"Recall\")\n",
    "plt.legend()\n",
    "plt.show()"
   ]
  },
  {
   "cell_type": "markdown",
   "metadata": {},
   "source": [
    "## Conclusion"
   ]
  },
  {
   "cell_type": "markdown",
   "metadata": {},
   "source": [
    "## LogisticRegression: when the threshold is 0, all the answers are positive. Meanwhile, the precison get higher while thresholds is bigger, but not happens the same with the recall which decreases. When it comes that there is no answer classs 1 there is no precision.\n",
    "<br> \n",
    "## Decisiontree and Randomforest: in case of the DecisioTree both terms are the same and maintain constant. On the other hand, RandomForest experiment some changes and precision and recall grow in reverse if the threshold get bigger"
   ]
  },
  {
   "cell_type": "markdown",
   "metadata": {},
   "source": [
    "<font color='Green'> \n",
    "### <u>REVIEWER COMMENT</u>\n",
    "<br/>\n",
    "<div class=\"alert alert-block alert-success\">\n",
    "Looks conclusively. I agree, good job.\n",
    "</div>\n",
    "</font>"
   ]
  },
  {
   "cell_type": "markdown",
   "metadata": {},
   "source": [
    "### PRcurve / ROC Curve"
   ]
  },
  {
   "cell_type": "code",
   "execution_count": 128,
   "metadata": {},
   "outputs": [],
   "source": [
    "import pandas as pd\n",
    "import matplotlib.pyplot as plt\n",
    "from sklearn.linear_model import LinearRegression\n",
    "from sklearn.metrics import precision_recall_curve\n",
    "from sklearn.metrics import roc_curve\n",
    "from sklearn.metrics import roc_auc_score"
   ]
  },
  {
   "cell_type": "markdown",
   "metadata": {},
   "source": [
    "- Recall is identical with sensitivity, and precision is identical with positive predictive value.\n",
    "- The ROC curve is an evaluation metric for binary classification problems. It's a probability curve that plots the TPR against FPR at various thresholds values. \n",
    "- The AUC curve is the measure of the ability of a classifier to distinguish between classes.Let's plot the metrics"
   ]
  },
  {
   "cell_type": "markdown",
   "metadata": {},
   "source": [
    "<font color='Green'> \n",
    "### <u>REVIEWER COMMENT</u>\n",
    "<br/>\n",
    "<div class=\"alert alert-block alert-success\">\n",
    "Good introduction into the section. Let's go on.\n",
    "</div>\n",
    "</font>"
   ]
  },
  {
   "cell_type": "code",
   "execution_count": 129,
   "metadata": {},
   "outputs": [
    {
     "data": {
      "image/png": "[encoded data removed]",
      "text/plain": [
       "<Figure size 432x432 with 1 Axes>"
      ]
     },
     "metadata": {},
     "output_type": "display_data"
    },
    {
     "data": {
      "image/png": "[encoded data removed]",
      "text/plain": [
       "<Figure size 576x396 with 1 Axes>"
      ]
     },
     "metadata": {},
     "output_type": "display_data"
    },
    {
     "name": "stdout",
     "output_type": "stream",
     "text": [
      "0.7870082582673945\n"
     ]
    }
   ],
   "source": [
    "model = LogisticRegression(random_state=12345, solver='liblinear')\n",
    "model.fit(features_train_n, target_train_n)\n",
    "\n",
    "probabilities_valid_n = model.predict_proba(features_valid_n)\n",
    "probabilities_one_valid_n = probabilities_valid_n[:, 1]\n",
    "precision_log, recall_log, thresholds_log = precision_recall_curve(target_valid_n, probabilities_valid_n[:, 1])\n",
    "\n",
    "plt.figure(figsize=(6, 6))\n",
    "plt.step(recall_log, precision_log, where='post')\n",
    "plt.xlabel('Recall')\n",
    "plt.ylabel('Precision')\n",
    "plt.ylim([0.0, 1.05])\n",
    "plt.xlim([0.0, 1.0])\n",
    "plt.title('Precision-Recall Curve')\n",
    "plt.show()\n",
    "fpr_log, tpr_log, thresholds_log = roc_curve(target_valid_n, probabilities_one_valid_n)\n",
    "plt.figure()\n",
    "plt.plot(fpr_log, tpr_log)\n",
    "\n",
    "plt.plot([0, 1], [0, 1], linestyle='--')\n",
    "plt.xlim([0.0,1.0])\n",
    "plt.ylim([0.0,1.0])\n",
    "plt.xlabel(\"False Positive Rate\")\n",
    "plt.ylabel(\"True Positive Rate\")\n",
    "plt.title(\"ROC curve\")\n",
    "plt.show()\n",
    "auc_roc_log= roc_auc_score(target_valid_n, probabilities_one_valid_n)\n",
    "print(auc_roc_log)"
   ]
  },
  {
   "cell_type": "code",
   "execution_count": 130,
   "metadata": {},
   "outputs": [
    {
     "data": {
      "image/png": "[encoded data removed]",
      "text/plain": [
       "<Figure size 432x432 with 1 Axes>"
      ]
     },
     "metadata": {},
     "output_type": "display_data"
    },
    {
     "data": {
      "image/png": "[encoded data removed]",
      "text/plain": [
       "<Figure size 576x396 with 1 Axes>"
      ]
     },
     "metadata": {},
     "output_type": "display_data"
    },
    {
     "name": "stdout",
     "output_type": "stream",
     "text": [
      "0.67461562426222\n"
     ]
    }
   ],
   "source": [
    "model = DecisionTreeClassifier(random_state=12345)\n",
    "model.fit(features_train, target_train)\n",
    "\n",
    "probabilities_valid = model.predict_proba(features_valid)\n",
    "probabilities_one_valid = probabilities_valid[:, 1]\n",
    "precision_dt, recall_dt, thresholds_dt = precision_recall_curve(target_valid, probabilities_valid[:, 1])\n",
    "\n",
    "plt.figure(figsize=(6, 6))\n",
    "plt.step(recall_dt, precision_dt, where='post')\n",
    "plt.xlabel('Recall')\n",
    "plt.ylabel('Precision')\n",
    "plt.ylim([0.0, 1.05])\n",
    "plt.xlim([0.0, 1.0])\n",
    "plt.title('Precision-Recall Curve')\n",
    "plt.show()\n",
    "fpr_dt, tpr_dt, thresholds_dt = roc_curve(target_valid, probabilities_one_valid)\n",
    "plt.figure()\n",
    "plt.plot(fpr_dt, tpr_dt)\n",
    "plt.plot([0, 1], [0, 1], linestyle='--')\n",
    "plt.xlim([0.0,1.0])\n",
    "plt.ylim([0.0,1.0])\n",
    "plt.xlabel(\"False Positive Rate\")\n",
    "plt.ylabel(\"True Positive Rate\")\n",
    "plt.title(\"ROC curve\")\n",
    "plt.show()\n",
    "auc_roc_dt= roc_auc_score(target_valid, probabilities_one_valid)\n",
    "print(auc_roc_dt)"
   ]
  },
  {
   "cell_type": "code",
   "execution_count": 131,
   "metadata": {
    "scrolled": true
   },
   "outputs": [
    {
     "name": "stderr",
     "output_type": "stream",
     "text": [
      "/opt/conda/lib/python3.7/site-packages/sklearn/ensemble/forest.py:245: FutureWarning: The default value of n_estimators will change from 10 in version 0.20 to 100 in 0.22.\n",
      "  \"10 in version 0.20 to 100 in 0.22.\", FutureWarning)\n"
     ]
    },
    {
     "data": {
      "image/png": "[encoded data removed]",
      "text/plain": [
       "<Figure size 432x432 with 1 Axes>"
      ]
     },
     "metadata": {},
     "output_type": "display_data"
    },
    {
     "data": {
      "image/png": "[encoded data removed]",
      "text/plain": [
       "<Figure size 576x396 with 1 Axes>"
      ]
     },
     "metadata": {},
     "output_type": "display_data"
    },
    {
     "name": "stdout",
     "output_type": "stream",
     "text": [
      "0.8244345411221801\n"
     ]
    }
   ],
   "source": [
    "model = RandomForestClassifier(random_state=12345)\n",
    "model.fit(features_train, target_train)\n",
    "\n",
    "probabilities_valid = model.predict_proba(features_valid)\n",
    "probabilities_one_valid = probabilities_valid[:, 1]\n",
    "precision_rf, recall_rf, thresholds = precision_recall_curve(target_valid, probabilities_valid[:, 1])\n",
    "\n",
    "plt.figure(figsize=(6, 6))\n",
    "plt.step(recall_rf, precision_rf, where='post')\n",
    "\n",
    "plt.xlabel('Recall')\n",
    "plt.ylabel('Precision')\n",
    "plt.ylim([0.0, 1.05])\n",
    "plt.xlim([0.0, 1.0])\n",
    "plt.title('Precision-Recall Curve')\n",
    "plt.show()\n",
    "fpr_rf, tpr_rf, thresholds = roc_curve(target_valid, probabilities_one_valid)\n",
    "plt.figure()\n",
    "plt.plot(fpr_rf, tpr_rf)\n",
    "plt.plot([0, 1], [0, 1], linestyle='--')\n",
    "plt.xlim([0.0,1.0])\n",
    "plt.ylim([0.0,1.0])\n",
    "plt.xlabel(\"False Positive Rate\")\n",
    "plt.ylabel(\"True Positive Rate\")\n",
    "plt.title(\"ROC curve\")\n",
    "plt.show()\n",
    "auc_roc_rf= roc_auc_score(target_valid, probabilities_one_valid)\n",
    "print(auc_roc_rf)"
   ]
  },
  {
   "cell_type": "markdown",
   "metadata": {},
   "source": [
    "<font color='Green'> \n",
    "### <u>REVIEWER COMMENT</u>\n",
    "<br/>\n",
    "<div class=\"alert alert-block alert-success\">\n",
    "Good presentable plotting.\n",
    "</div>\n",
    "</font>"
   ]
  },
  {
   "cell_type": "markdown",
   "metadata": {},
   "source": [
    "## Conclusion"
   ]
  },
  {
   "cell_type": "code",
   "execution_count": 132,
   "metadata": {},
   "outputs": [
    {
     "data": {
      "text/plain": [
       "Text(0, 0.5, 'True Positive rate')"
      ]
     },
     "execution_count": 132,
     "metadata": {},
     "output_type": "execute_result"
    },
    {
     "data": {
      "image/png": "[encoded data removed]",
      "text/plain": [
       "<Figure size 576x396 with 1 Axes>"
      ]
     },
     "metadata": {},
     "output_type": "display_data"
    }
   ],
   "source": [
    "plt.style.use('seaborn')\n",
    "plt.plot(fpr_log, tpr_log, linestyle='--',color='orange', label='Logistic Regression')\n",
    "plt.plot(fpr_dt, tpr_dt, linestyle='--',color='green', label='DecisionTree')\n",
    "plt.plot(fpr_rf, tpr_rf, linestyle='--', color='blue', label='RandomForest')\n",
    "plt.plot([0, 1], [0, 1], linestyle='--', color='black')\n",
    "plt.title('ROC curve')\n",
    "plt.legend(loc='best')\n",
    "plt.xlabel('False Positive Rate')\n",
    "plt.ylabel('True Positive rate')"
   ]
  },
  {
   "cell_type": "code",
   "execution_count": 133,
   "metadata": {},
   "outputs": [
    {
     "data": {
      "text/html": [
       "<div>\n",
       "<style scoped>\n",
       "    .dataframe tbody tr th:only-of-type {\n",
       "        vertical-align: middle;\n",
       "    }\n",
       "\n",
       "    .dataframe tbody tr th {\n",
       "        vertical-align: top;\n",
       "    }\n",
       "\n",
       "    .dataframe thead th {\n",
       "        text-align: right;\n",
       "    }\n",
       "</style>\n",
       "<table border=\"1\" class=\"dataframe\">\n",
       "  <thead>\n",
       "    <tr style=\"text-align: right;\">\n",
       "      <th></th>\n",
       "      <th>LogReg</th>\n",
       "      <th>DeciTree</th>\n",
       "      <th>RandFor</th>\n",
       "    </tr>\n",
       "    <tr>\n",
       "      <th>AUC_ROC</th>\n",
       "      <th></th>\n",
       "      <th></th>\n",
       "      <th></th>\n",
       "    </tr>\n",
       "  </thead>\n",
       "  <tbody>\n",
       "    <tr>\n",
       "      <td>AUC_ROC</td>\n",
       "      <td>0.787008</td>\n",
       "      <td>0.674616</td>\n",
       "      <td>0.824435</td>\n",
       "    </tr>\n",
       "  </tbody>\n",
       "</table>\n",
       "</div>"
      ],
      "text/plain": [
       "           LogReg  DeciTree   RandFor\n",
       "AUC_ROC                              \n",
       "AUC_ROC  0.787008  0.674616  0.824435"
      ]
     },
     "execution_count": 133,
     "metadata": {},
     "output_type": "execute_result"
    }
   ],
   "source": [
    "d= {'LogReg': [auc_roc_log], 'DeciTree': [auc_roc_dt], 'RandFor': [auc_roc_rf], 'AUC_ROC': ['AUC_ROC']}\n",
    "pd.DataFrame(d).set_index('AUC_ROC')"
   ]
  },
  {
   "cell_type": "markdown",
   "metadata": {},
   "source": [
    "## - ROC curve: the AUC for the RandomForestClassifier ROC curve is higher than the rest of models and therefore, this model is the one that best adjust classsifying the positive class"
   ]
  },
  {
   "cell_type": "markdown",
   "metadata": {},
   "source": [
    "<font color='Green'> \n",
    "### <u>REVIEWER COMMENT</u>\n",
    "<br/>\n",
    "<div class=\"alert alert-block alert-success\">\n",
    "We studied ROC-AUC metrics and plotted ROCs all together. Good approach to compare results we have got. Good job.\n",
    "</div>\n",
    "</font>"
   ]
  },
  {
   "cell_type": "markdown",
   "metadata": {},
   "source": [
    "### Other metrics for Regression Models"
   ]
  },
  {
   "cell_type": "markdown",
   "metadata": {},
   "source": [
    "Let’s dig a bit deeper and check if there is another metrics that fits better for a regression models"
   ]
  },
  {
   "cell_type": "code",
   "execution_count": 134,
   "metadata": {},
   "outputs": [
    {
     "name": "stdout",
     "output_type": "stream",
     "text": [
      "Linear Regression\n",
      "MSE = 62548051126478.18\n",
      "RMSE = 7908732.5866081845\n",
      "R2 = -393267212072247.56\n",
      "MAE = 604226.0875705768\n"
     ]
    }
   ],
   "source": [
    "from sklearn.metrics import mean_squared_error\n",
    "from sklearn.metrics import mean_absolute_error\n",
    "from sklearn.metrics import r2_score\n",
    "from sklearn.linear_model import LinearRegression\n",
    "model = LinearRegression()\n",
    "model.fit(features_train_n, target_train_n)\n",
    "predicted_valid_n = model.predict(features_valid_n)\n",
    "mse_lin = mean_squared_error(target_valid_n, predicted_valid_n)\n",
    "r2_lin= r2_score(target_valid_n, predicted_valid_n)\n",
    "mae_lin= mean_absolute_error(target_valid_n,predicted_valid_n)\n",
    "print(\"Linear Regression\")\n",
    "print(\"MSE =\", mse_lin)\n",
    "print(\"RMSE =\", mse_lin ** 0.5)\n",
    "print(\"R2 =\", r2_lin)\n",
    "print(\"MAE =\",mae_lin)"
   ]
  },
  {
   "cell_type": "code",
   "execution_count": 135,
   "metadata": {},
   "outputs": [
    {
     "name": "stdout",
     "output_type": "stream",
     "text": [
      "Median\n",
      "0.19841619005719313\n",
      "0.19841619005719313\n"
     ]
    }
   ],
   "source": [
    "predicted_valid = pd.Series(target_train_n.median(), index= target_valid_n.index)\n",
    "print(\"Median\")\n",
    "print(mean_squared_error(target_valid_n, predicted_valid))\n",
    "print(mean_absolute_error(target_valid_n, predicted_valid))"
   ]
  },
  {
   "cell_type": "code",
   "execution_count": 136,
   "metadata": {},
   "outputs": [
    {
     "name": "stdout",
     "output_type": "stream",
     "text": [
      "Logistic Regression\n",
      "MSE = 0.18345798504179497\n",
      "RMSE = 0.4283199563898406\n",
      "R2 = -0.1534813477064021\n",
      "MAE = 0.18345798504179497\n"
     ]
    }
   ],
   "source": [
    "model = LogisticRegression(random_state=12345, solver='liblinear')\n",
    "model.fit(features_train_n, target_train_n)\n",
    "predicted_valid_n = model.predict(features_valid_n)\n",
    "mse_log = mean_squared_error(target_valid_n, predicted_valid_n)\n",
    "r2_log= r2_score(target_valid_n, predicted_valid_n)\n",
    "mae_log= mean_absolute_error(target_valid_n,predicted_valid_n)\n",
    "print(\"Logistic Regression\")\n",
    "print(\"MSE =\", mse_log)\n",
    "print(\"RMSE =\", mse_log ** 0.5)\n",
    "print(\"R2 =\", r2_log)\n",
    "print(\"MAE =\",mae_log)"
   ]
  },
  {
   "cell_type": "code",
   "execution_count": 137,
   "metadata": {},
   "outputs": [
    {
     "name": "stderr",
     "output_type": "stream",
     "text": [
      "/opt/conda/lib/python3.7/site-packages/sklearn/ensemble/forest.py:245: FutureWarning: The default value of n_estimators will change from 10 in version 0.20 to 100 in 0.22.\n",
      "  \"10 in version 0.20 to 100 in 0.22.\", FutureWarning)\n"
     ]
    },
    {
     "name": "stdout",
     "output_type": "stream",
     "text": [
      "RamdomForest Regression\n",
      "MSE = 0.11399032116146063\n",
      "RMSE = 0.33762452689557465\n",
      "R2 = 0.2832925247224729\n",
      "MAE = 0.17509898812142544\n"
     ]
    }
   ],
   "source": [
    "model = RandomForestRegressor(random_state=12345)\n",
    "model.fit(features_train_n, target_train_n)\n",
    "predicted_valid_n = model.predict(features_valid_n)\n",
    "mse_rfg = mean_squared_error(target_valid_n, predicted_valid_n)\n",
    "r2_rfg= r2_score(target_valid_n, predicted_valid_n)\n",
    "mae_rfg= mean_absolute_error(target_valid_n,predicted_valid_n)\n",
    "print(\"RamdomForest Regression\")\n",
    "print(\"MSE =\", mse_rfg)\n",
    "print(\"RMSE =\", mse_rfg ** 0.5)\n",
    "print(\"R2 =\", r2_rfg)\n",
    "print(\"MAE =\",mae_rfg)"
   ]
  },
  {
   "cell_type": "markdown",
   "metadata": {},
   "source": [
    "## Conclusion"
   ]
  },
  {
   "cell_type": "code",
   "execution_count": 138,
   "metadata": {},
   "outputs": [
    {
     "data": {
      "text/html": [
       "<div>\n",
       "<style scoped>\n",
       "    .dataframe tbody tr th:only-of-type {\n",
       "        vertical-align: middle;\n",
       "    }\n",
       "\n",
       "    .dataframe tbody tr th {\n",
       "        vertical-align: top;\n",
       "    }\n",
       "\n",
       "    .dataframe thead th {\n",
       "        text-align: right;\n",
       "    }\n",
       "</style>\n",
       "<table border=\"1\" class=\"dataframe\">\n",
       "  <thead>\n",
       "    <tr style=\"text-align: right;\">\n",
       "      <th></th>\n",
       "      <th>LogReg</th>\n",
       "      <th>LinReg</th>\n",
       "      <th>RandForReg</th>\n",
       "    </tr>\n",
       "    <tr>\n",
       "      <th>Metric</th>\n",
       "      <th></th>\n",
       "      <th></th>\n",
       "      <th></th>\n",
       "    </tr>\n",
       "  </thead>\n",
       "  <tbody>\n",
       "    <tr>\n",
       "      <td>MSE</td>\n",
       "      <td>0.183458</td>\n",
       "      <td>6.254805e+13</td>\n",
       "      <td>0.113990</td>\n",
       "    </tr>\n",
       "    <tr>\n",
       "      <td>R2</td>\n",
       "      <td>-0.153481</td>\n",
       "      <td>-3.932672e+14</td>\n",
       "      <td>0.283293</td>\n",
       "    </tr>\n",
       "    <tr>\n",
       "      <td>MAE</td>\n",
       "      <td>0.183458</td>\n",
       "      <td>6.042261e+05</td>\n",
       "      <td>0.175099</td>\n",
       "    </tr>\n",
       "  </tbody>\n",
       "</table>\n",
       "</div>"
      ],
      "text/plain": [
       "          LogReg        LinReg  RandForReg\n",
       "Metric                                    \n",
       "MSE     0.183458  6.254805e+13    0.113990\n",
       "R2     -0.153481 -3.932672e+14    0.283293\n",
       "MAE     0.183458  6.042261e+05    0.175099"
      ]
     },
     "execution_count": 138,
     "metadata": {},
     "output_type": "execute_result"
    }
   ],
   "source": [
    "d= {'LogReg': [mse_log,r2_log,mae_log], 'LinReg': [mse_lin,r2_lin,mae_lin], 'RandForReg': [mse_rfg, r2_rfg, mae_rfg], 'Metric': ['MSE', 'R2', 'MAE']}\n",
    "pd.DataFrame(d).set_index('Metric')"
   ]
  },
  {
   "cell_type": "markdown",
   "metadata": {},
   "source": [
    "## In conclusion, we can say that Linear Regression has an extremly poor quality and it is reflected by the coefficent of determination. It occurs the almost the same with LogisticRegression, but with some notable differences where the comparison with the median is not so far from the MAE metric (just 1 minute). The RandomForestRegressor model present better results and it is demostrated by these metrics where the R2 it is more close to the mean as it shows. "
   ]
  },
  {
   "cell_type": "markdown",
   "metadata": {},
   "source": [
    "<font color='Green'> \n",
    "### <u>REVIEWER COMMENT</u>\n",
    "<br/>\n",
    "<div class=\"alert alert-block alert-success\">\n",
    "An interesting research to try regressors in classification task. Good job.\n",
    "</div>\n",
    "</font>"
   ]
  },
  {
   "cell_type": "markdown",
   "metadata": {},
   "source": [
    "### Train different models on training and validation sets. Find the best one"
   ]
  },
  {
   "cell_type": "markdown",
   "metadata": {},
   "source": [
    "We should look for a better model through its hyperparameters. First, we try with the classification models"
   ]
  },
  {
   "cell_type": "code",
   "execution_count": 139,
   "metadata": {},
   "outputs": [
    {
     "name": "stderr",
     "output_type": "stream",
     "text": [
      "/opt/conda/lib/python3.7/site-packages/sklearn/metrics/classification.py:1437: UndefinedMetricWarning: F-score is ill-defined and being set to 0.0 due to no predicted samples.\n",
      "  'precision', 'predicted', average, warn_for)\n"
     ]
    },
    {
     "name": "stdout",
     "output_type": "stream",
     "text": [
      "best accuracy and depth parameter:  {'f1': 0.543661971830986, 'depth': 4}\n"
     ]
    }
   ],
   "source": [
    "param_best= {\"f1\": 0, \"depth\": None,}\n",
    "for depth in range(1, 20):\n",
    "        tree = DecisionTreeClassifier(random_state=12345, max_depth=depth)\n",
    "        tree.fit(features_train, target_train)\n",
    "        predicted_valid = tree.predict(features_valid)\n",
    "        f1= f1_score(target_valid, predicted_valid)\n",
    "        if f1 > param_best[\"f1\"]:\n",
    "            param_best[\"f1\"] = f1\n",
    "            param_best[\"depth\"]= depth\n",
    "print(\"best accuracy and depth parameter: \", param_best)"
   ]
  },
  {
   "cell_type": "code",
   "execution_count": 157,
   "metadata": {},
   "outputs": [
    {
     "name": "stdout",
     "output_type": "stream",
     "text": [
      "best score and n_estimators and max_depth parameters:  {'f1': 0.5649072753209701, 'n_estimators': 47, 'depth': 15}\n"
     ]
    }
   ],
   "source": [
    "param_best= {\"f1\": 0,\"n_estimators\":None, \"depth\": None}\n",
    "for est in range(1,56,2):\n",
    "    for depth in range(5,50,5):\n",
    "        forest = RandomForestClassifier(random_state=12345, n_estimators=est, max_depth=depth)\n",
    "        forest.fit(features_train, target_train)\n",
    "        predicted_valid = forest.predict(features_valid)\n",
    "        f1= f1_score(target_valid, predicted_valid)\n",
    "        if f1 > param_best[\"f1\"]:\n",
    "            param_best[\"f1\"] = f1\n",
    "            param_best[\"n_estimators\"]= est\n",
    "            param_best[\"depth\"]= depth\n",
    "print(\"best score and n_estimators and max_depth parameters: \", param_best)"
   ]
  },
  {
   "cell_type": "markdown",
   "metadata": {},
   "source": [
    "<font color='Yellow'> \n",
    "### <u>REVIEWER COMMENT</u>\n",
    "<br/>\n",
    "<div class=\"alert alert-block alert-warning\">\n",
    "Our goal is to achieve particular f1 score. It would be better to use this metric evaluting models with different hyperparameters. \n",
    "</div>\n",
    "</font>"
   ]
  },
  {
   "cell_type": "markdown",
   "metadata": {},
   "source": [
    "## Step 4. Perform the final testing."
   ]
  },
  {
   "cell_type": "markdown",
   "metadata": {},
   "source": [
    "Time to compare all the models with the best hyperparameters selected"
   ]
  },
  {
   "cell_type": "code",
   "execution_count": 141,
   "metadata": {},
   "outputs": [],
   "source": [
    "encoder = OrdinalEncoder()\n",
    "data_ordinal = pd.DataFrame(encoder.fit_transform(data),columns=data.columns)\n",
    "target = data_ordinal['exited']\n",
    "features = data_ordinal.drop('exited', axis=1)\n",
    "features_train, features_test, target_train, target_test = train_test_split(features, target, test_size=0.25, random_state=12345)\n"
   ]
  },
  {
   "cell_type": "code",
   "execution_count": 142,
   "metadata": {},
   "outputs": [
    {
     "name": "stderr",
     "output_type": "stream",
     "text": [
      "/opt/conda/lib/python3.7/site-packages/ipykernel_launcher.py:8: SettingWithCopyWarning: \n",
      "A value is trying to be set on a copy of a slice from a DataFrame.\n",
      "Try using .loc[row_indexer,col_indexer] = value instead\n",
      "\n",
      "See the caveats in the documentation: http://pandas.pydata.org/pandas-docs/stable/user_guide/indexing.html#returning-a-view-versus-a-copy\n",
      "  \n",
      "/opt/conda/lib/python3.7/site-packages/pandas/core/indexing.py:494: SettingWithCopyWarning: \n",
      "A value is trying to be set on a copy of a slice from a DataFrame.\n",
      "Try using .loc[row_indexer,col_indexer] = value instead\n",
      "\n",
      "See the caveats in the documentation: http://pandas.pydata.org/pandas-docs/stable/user_guide/indexing.html#returning-a-view-versus-a-copy\n",
      "  self.obj[item] = s\n",
      "/opt/conda/lib/python3.7/site-packages/ipykernel_launcher.py:9: SettingWithCopyWarning: \n",
      "A value is trying to be set on a copy of a slice from a DataFrame.\n",
      "Try using .loc[row_indexer,col_indexer] = value instead\n",
      "\n",
      "See the caveats in the documentation: http://pandas.pydata.org/pandas-docs/stable/user_guide/indexing.html#returning-a-view-versus-a-copy\n",
      "  if __name__ == '__main__':\n",
      "/opt/conda/lib/python3.7/site-packages/pandas/core/indexing.py:494: SettingWithCopyWarning: \n",
      "A value is trying to be set on a copy of a slice from a DataFrame.\n",
      "Try using .loc[row_indexer,col_indexer] = value instead\n",
      "\n",
      "See the caveats in the documentation: http://pandas.pydata.org/pandas-docs/stable/user_guide/indexing.html#returning-a-view-versus-a-copy\n",
      "  self.obj[item] = s\n"
     ]
    }
   ],
   "source": [
    "data_ohe = pd.get_dummies(data, drop_first=True)\n",
    "target = data_ohe['exited']\n",
    "features = data_ohe.drop(['exited'] , axis=1)\n",
    "features_train_n, features_test_n, target_train_n, target_test_n = train_test_split(features, target, test_size=0.25, random_state=12345)\n",
    "numeric= ['customer_id', 'credit_score', 'age', 'tenure', 'balance','estimated_salary', 'num_of_products']\n",
    "scaler = StandardScaler()\n",
    "scaler.fit(features_train_n[numeric])\n",
    "features_train_n[numeric] = scaler.transform(features_train_n[numeric])\n",
    "features_test_n[numeric] = scaler.transform(features_test_n[numeric])"
   ]
  },
  {
   "cell_type": "markdown",
   "metadata": {},
   "source": [
    "### DecisionTree"
   ]
  },
  {
   "cell_type": "code",
   "execution_count": 143,
   "metadata": {},
   "outputs": [
    {
     "name": "stdout",
     "output_type": "stream",
     "text": [
      "accuracy:  0.8574571051473823\n",
      "f1 score:  0.543661971830986\n",
      "AUC-ROC: 0.8208256563655347\n"
     ]
    }
   ],
   "source": [
    "model = DecisionTreeClassifier(random_state=12345, max_depth=4)\n",
    "model.fit(features_train, target_train)\n",
    "predicted_test = model.predict(features_test)\n",
    "accuracy=accuracy_score(target_test, predicted_test)\n",
    "probabilities_test= model.predict_proba(features_test)\n",
    "probabilities_one_test = probabilities_test[:, 1]\n",
    "precision_dt, recall_dt, thresholds = precision_recall_curve(target_test, probabilities_test[:, 1])\n",
    "auc_roc_dt= roc_auc_score(target_test, probabilities_one_test)\n",
    "f1_dt= f1_score(target_test, predicted_test)\n",
    "print('accuracy: ', accuracy)\n",
    "print('f1 score: ',f1_dt)\n",
    "print('AUC-ROC:',auc_roc_dt)"
   ]
  },
  {
   "cell_type": "markdown",
   "metadata": {},
   "source": [
    "### RandomForestClassifier"
   ]
  },
  {
   "cell_type": "code",
   "execution_count": 155,
   "metadata": {},
   "outputs": [
    {
     "name": "stdout",
     "output_type": "stream",
     "text": [
      "score:  0.8658161020677518\n",
      "f1 score:  0.5649072753209701\n",
      "AUC-ROC: 0.8494910687556132\n"
     ]
    }
   ],
   "source": [
    "model = RandomForestClassifier(random_state=12345, n_estimators=47, max_depth=15)\n",
    "model.fit(features_train, target_train)\n",
    "predicted_test = model.predict(features_test)\n",
    "score=model.score(features_test,target_test)\n",
    "probabilities_test = model.predict_proba(features_test)\n",
    "probabilities_one_test = probabilities_test[:, 1]\n",
    "precision_rf, recall_rf, thresholds = precision_recall_curve(target_test, probabilities_test[:, 1])\n",
    "\n",
    "auc_roc_rf= roc_auc_score(target_test, probabilities_one_test)\n",
    "f1_rf= f1_score(target_test, predicted_test)\n",
    "print('score: ', score)\n",
    "print('f1 score: ',f1_rf)\n",
    "print('AUC-ROC:',auc_roc_rf)"
   ]
  },
  {
   "cell_type": "markdown",
   "metadata": {},
   "source": [
    "What if we upsampling the model..."
   ]
  },
  {
   "cell_type": "code",
   "execution_count": 163,
   "metadata": {},
   "outputs": [
    {
     "name": "stdout",
     "output_type": "stream",
     "text": [
      "0.5902293120638086\n"
     ]
    }
   ],
   "source": [
    "model = RandomForestClassifier(random_state=12345, n_estimators=47, max_depth=15)\n",
    "features_upsampled, target_upsampled = upsample(features_train, target_train, 11)\n",
    "model.fit(features_upsampled, target_upsampled)\n",
    "predicted_test = model.predict(features_test)\n",
    "f1_rf= f1_score(target_test, predicted_test)\n",
    "print(f1_rf)"
   ]
  },
  {
   "cell_type": "markdown",
   "metadata": {},
   "source": [
    "### LogisticRegression"
   ]
  },
  {
   "cell_type": "code",
   "execution_count": 145,
   "metadata": {},
   "outputs": [
    {
     "name": "stdout",
     "output_type": "stream",
     "text": [
      "Score 0.816542014958205\n",
      "f1 score:  0.296795952782462\n",
      "AUC-ROC: 0.7870082582673945\n"
     ]
    }
   ],
   "source": [
    "model = LogisticRegression(random_state= 12345, solver= 'liblinear')\n",
    "model.fit(features_train_n, target_train_n)\n",
    "predicted_test_n = model.predict(features_test_n)\n",
    "score= model.score(features_test_n, target_test_n)\n",
    "probabilities_test_n = model.predict_proba(features_test_n)\n",
    "probabilities_one_test_n = probabilities_test_n[:, 1]\n",
    "precision_log, recall_log, thresholds_log = precision_recall_curve(target_test_n, probabilities_test_n[:, 1])\n",
    "\n",
    "auc_roc_log= roc_auc_score(target_test_n, probabilities_one_test_n)\n",
    "f1_log= f1_score(target_test_n, predicted_test_n)\n",
    "print('Score',score)\n",
    "print('f1 score: ',f1_log)\n",
    "print('AUC-ROC:',auc_roc_log)"
   ]
  },
  {
   "cell_type": "markdown",
   "metadata": {},
   "source": [
    "### RandomForestRegressor"
   ]
  },
  {
   "cell_type": "code",
   "execution_count": 146,
   "metadata": {},
   "outputs": [
    {
     "name": "stdout",
     "output_type": "stream",
     "text": [
      "Random Forest regresssion\n",
      "MSE:  0.11399032116146063\n",
      "MAE:  0.17509898812142544\n",
      "median: 0.19841619005719313\n"
     ]
    }
   ],
   "source": [
    "model = RandomForestRegressor(n_estimators=100, max_depth= 7, random_state=12345)\n",
    "model.fit(features_train_n, target_train_n)\n",
    "print(\"Random Forest regresssion\")\n",
    "predicted_valid = model.predict(features_valid_n)\n",
    "mse_rfg = mean_squared_error(target_valid_n, predicted_valid_n)\n",
    "#mae= mean_absolute_error(target_valid_n, predicted_valid_n)\n",
    "mea= mean_absolute_error(target_valid_n, predicted_valid_n)\n",
    "print('MSE: ', mse_rfg)\n",
    "print('MAE: ', mea)\n",
    "predicted_valid = pd.Series(target_train_n.median(), index= target_valid_n.index)\n",
    "print('median:',mean_absolute_error(target_valid_n, predicted_valid))"
   ]
  },
  {
   "cell_type": "markdown",
   "metadata": {},
   "source": [
    "## Conclusion"
   ]
  },
  {
   "cell_type": "markdown",
   "metadata": {},
   "source": [
    "## To summing up, the best model which clearly improve the way it clasifies the positive and negative classes and adjust better the prediction of the model with the sensitive of the performance of model. According with the target of the project (F1=0.59), we can reach it at least with an upsampling the RandomForestClassifier model dataset. "
   ]
  },
  {
   "cell_type": "markdown",
   "metadata": {},
   "source": [
    "<font color='Red'> \n",
    "### <u>REVIEWER SUMMARY</u>\n",
    "<br/>\n",
    "<div class=\"alert alert-block alert-success\">\n",
    "Ok, we have finished. A really great job has been done. We investigated a set of models in many aspects and made important conclusions.\n",
    "</div>\n",
    "<div class=\"alert alert-block alert-danger\">\n",
    "<s>We didn't approach the main goal of the porject - to get a model with f1 score at least 0.59. The project cannot be accepted without it. Please make another try.</s><br/>\n",
    "\n",
    "<s>It seems we didn't test models on the test set. It is another important task of the project. Please have it done.</s><br/>\n",
    "    \n",
    "<s>Please fix all red blocks and be back. See you soon here again.</s>\n",
    "</div>\n",
    "\n",
    "</font>"
   ]
  },
  {
   "cell_type": "markdown",
   "metadata": {},
   "source": [
    "<font color='Red'> \n",
    "### <u>UPD 1 REVIEWER SUMMARY</u>\n",
    "<br/>\n",
    "<div class=\"alert alert-block alert-success\">\n",
    "You have done a really good job. And you have achieved the main goal - your model has not less then 0.59 f1 score. Perfect.\n",
    "</div>\n",
    "<div class=\"alert alert-block alert-danger\">\n",
    "<s>I asked you to check classes imbalance for the train target set but not for predicted one as you did. It is important to study the input data before training a model. Otherwise studying predicted data against input one we have a risk to get distorted picture. Please pay attention to my previous red comment in Step 2 and fix it. It is only one issue left unresolved wich prevents me to accept your project.</s>\n",
    "</div>\n",
    "</font>"
   ]
  },
  {
   "cell_type": "markdown",
   "metadata": {},
   "source": [
    "<font color=Green> \n",
    "### <u>UPD 2 REVIEWER SUMMARY</u>\n",
    "<br/>\n",
    "<div class=\"alert alert-block alert-success\">\n",
    "Great. I am happy to accept your project. Good luck on the next stage of learning.\n",
    "</div>\n",
    "<div class=\"alert alert-block alert-warning\">\n",
    "You will find an interesting link in my UPD 2 comment in Step 2.\n",
    "</div>\n",
    "</font>"
   ]
  }
 ],
 "metadata": {
  "kernelspec": {
   "display_name": "Python 3",
   "language": "python",
   "name": "python3"
  },
  "language_info": {
   "codemirror_mode": {
    "name": "ipython",
    "version": 3
   },
   "file_extension": ".py",
   "mimetype": "text/x-python",
   "name": "python",
   "nbconvert_exporter": "python",
   "pygments_lexer": "ipython3",
   "version": "3.7.1"
  },
  "toc": {
   "base_numbering": 1,
   "nav_menu": {},
   "number_sections": true,
   "sideBar": true,
   "skip_h1_title": false,
   "title_cell": "Table of Contents",
   "title_sidebar": "Contents",
   "toc_cell": false,
   "toc_position": {},
   "toc_section_display": true,
   "toc_window_display": false
  }
 },
 "nbformat": 4,
 "nbformat_minor": 2
}
